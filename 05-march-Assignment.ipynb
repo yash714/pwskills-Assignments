{
 "cells": [
  {
   "cell_type": "code",
   "execution_count": null,
   "id": "c9071873",
   "metadata": {},
   "outputs": [],
   "source": [
    "# Q1. How can you create a Bokeh plot using Python code?"
   ]
  },
  {
   "cell_type": "code",
   "execution_count": 1,
   "id": "8cf8a74c",
   "metadata": {},
   "outputs": [],
   "source": [
    "from bokeh.plotting import figure, show\n",
    "\n",
    "# create a new plot with specified width and height\n",
    "p = figure(width=400, height=400)\n",
    "\n",
    "# add a circle glyph with specified size, color, and alpha\n",
    "p.circle([1, 2, 3, 4, 5], [2, 5, 8, 3, 6], size=10, color='navy', alpha=0.5)\n",
    "\n",
    "# show the plot\n",
    "show(p)\n"
   ]
  },
  {
   "cell_type": "code",
   "execution_count": null,
   "id": "72e0e37a",
   "metadata": {},
   "outputs": [],
   "source": [
    "# Q2. What are glyphs in Bokeh, and how can you add them to a Bokeh plot? Explain with an example."
   ]
  },
  {
   "cell_type": "code",
   "execution_count": null,
   "id": "4e68f870",
   "metadata": {},
   "outputs": [],
   "source": [
    "\"\"\"\n",
    "In Bokeh, glyphs are the visual shapes or markers that represent data points in a plot. Examples of glyphs include circles, squares, triangles, lines, and text labels. Bokeh provides a wide variety of glyphs that can be customized with different colors, sizes, and styles to create appealing visualizations.\n",
    "\n",
    "\"\"\""
   ]
  },
  {
   "cell_type": "code",
   "execution_count": 2,
   "id": "381e23d3",
   "metadata": {},
   "outputs": [],
   "source": [
    "from bokeh.plotting import figure, output_file, show\n",
    "\n",
    "# create a new plot with specified width and height\n",
    "p = figure(width=400, height=400)\n",
    "\n",
    "# add multiple glyphs to the plot\n",
    "p.circle([1, 2, 3, 4, 5], [2, 5, 8, 3, 6], size=20, color='red', alpha=0.5)\n",
    "p.square([1.5, 2.5, 3.5, 4.5, 5.5], [4, 7, 2, 6, 9], size=15, color='blue', alpha=0.8)\n",
    "p.line([1, 2, 3, 4, 5], [2, 5, 8, 3, 6], line_width=2, color='green', alpha=0.7)\n",
    "\n",
    "# specify output file and show the plot\n",
    "output_file('glyphs.html')\n",
    "show(p)\n"
   ]
  },
  {
   "cell_type": "code",
   "execution_count": null,
   "id": "e0d4b364",
   "metadata": {},
   "outputs": [],
   "source": [
    "# Q3. How can you customize the appearance of a Bokeh plot, including the axes, title, and legend?"
   ]
  },
  {
   "cell_type": "code",
   "execution_count": null,
   "id": "1b693e78",
   "metadata": {},
   "outputs": [],
   "source": [
    "from bokeh.plotting import figure, output_file, show\n",
    "from bokeh.models import Legend\n",
    "\n",
    "# create a new plot with specified width and height\n",
    "p = figure(width=600, height=400, title='Customized Bokeh Plot', x_axis_label='X Axis Label', y_axis_label='Y Axis Label')\n",
    "\n",
    "# add glyphs to the plot and specify labels\n",
    "p.circle([1, 2, 3, 4, 5], [2, 5, 8, 3, 6], size=20, color='red', alpha=0.5, legend_label='Circle Glyph')\n",
    "p.square([1.5, 2.5, 3.5, 4.5, 5.5], [4, 7, 2, 6, 9], size=15, color='blue', alpha=0.8, legend_label='Square Glyph')\n",
    "p.line([1, 2, 3, 4, 5], [2, 5, 8, 3, 6], line_width=2, color='green', alpha=0.7, legend_label='Line Glyph')\n",
    "\n",
    "# customize the appearance of the axes\n",
    "p.xaxis.axis_label_text_color = 'orange'\n",
    "p.xaxis.axis_label_text_font_style = 'italic'\n",
    "p.yaxis.major_label_text_color = 'purple'\n",
    "p.yaxis.major_label_text_font_size = '14pt'\n",
    "\n",
    "# customize the appearance of the title and legend\n",
    "p.title.text_color = 'blue'\n",
    "p.title.text_font_style = 'bold'\n",
    "legend = Legend(items=[(glyph.legend_label, [glyph]) for glyph in p.renderers], location='top_left')\n",
    "p.add_layout(legend, 'right')\n",
    "\n",
    "# specify output file and show the plot\n",
    "output_file('customized_plot.html')\n",
    "show(p)\n"
   ]
  },
  {
   "cell_type": "code",
   "execution_count": null,
   "id": "68f9f97d",
   "metadata": {},
   "outputs": [],
   "source": [
    "# Q4. What is a Bokeh server, and how can you use it to create interactive plots that can be updated in real time?"
   ]
  },
  {
   "cell_type": "code",
   "execution_count": null,
   "id": "4078a08d",
   "metadata": {},
   "outputs": [],
   "source": [
    "\"\"\"\n",
    "A Bokeh server is a Python application that allows you to create and serve interactive Bokeh plots that can be updated in real-time. Using a Bokeh server, you can create dynamic visualizations that respond to user input, streaming data, or external events. The Bokeh server includes a WebSocket protocol that enables bidirectional communication between the server and the client-side JavaScript Bokeh plot, allowing for seamless updates of the plot without the need for refreshing the entire web page.\n",
    "\n",
    "To use a Bokeh server, you first need to define a Bokeh plot in a Python script, just like you would for a static plot. Then, you need to wrap the plot in a Bokeh application, which is a subclass of bokeh.server.application.Application that defines the layout and behavior of the plot. You can define callbacks that respond to user input or other events and update the plot accordingly. Finally, you need to start the Bokeh server using the bokeh serve command, which launches a Tornado-based web server that serves the Bokeh application and handles the WebSocket communication between the server and client-side JavaScript.\n",
    "\n",
    "\"\"\""
   ]
  },
  {
   "cell_type": "code",
   "execution_count": null,
   "id": "860c1173",
   "metadata": {},
   "outputs": [],
   "source": [
    "# Q5. How can you embed a Bokeh plot into a web page or dashboard using Flask or Django?"
   ]
  },
  {
   "cell_type": "code",
   "execution_count": null,
   "id": "a0861e53",
   "metadata": {},
   "outputs": [],
   "source": [
    "from flask import Flask, render_template\n",
    "from bokeh.embed import components\n",
    "from bokeh.plotting import figure\n",
    "\n",
    "app = Flask(__name__)\n",
    "\n",
    "@app.route('/')\n",
    "def index():\n",
    "    # create a Bokeh plot\n",
    "    p = figure(width=400, height=400)\n",
    "    p.circle([1, 2, 3, 4, 5], [2, 5, 8, 3, 6], size=10)\n",
    "    \n",
    "    # generate the HTML and JavaScript code for the plot\n",
    "    script, div = components(p)\n",
    "\n",
    "    # pass the script and div to the HTML template\n",
    "    return render_template('index.html', script=script, div=div)\n",
    "\n",
    "if __name__ == '__main__':\n",
    "    app.run()\n"
   ]
  },
  {
   "cell_type": "code",
   "execution_count": null,
   "id": "af057369",
   "metadata": {},
   "outputs": [],
   "source": [
    "<!DOCTYPE html>\n",
    "<html>\n",
    "<head>\n",
    "  <title>Bokeh Plot Example</title>\n",
    "  {{ script|safe }}\n",
    "</head>\n",
    "<body>\n",
    "  <h1>Bokeh Plot Example</h1>\n",
    "  {{ div|safe }}\n",
    "</body>\n",
    "</html>\n"
   ]
  },
  {
   "cell_type": "code",
   "execution_count": null,
   "id": "cf1e4adf",
   "metadata": {},
   "outputs": [],
   "source": [
    "from django.shortcuts import render\n",
    "from bokeh.embed import components\n",
    "from bokeh.plotting import figure\n",
    "\n",
    "def index(request):\n",
    "    # create a Bokeh plot\n",
    "    p = figure(width=400, height=400)\n",
    "    p.circle([1, 2, 3, 4, 5], [2, 5, 8, 3, 6], size=10)\n",
    "    \n",
    "    # generate the HTML and JavaScript code for the plot\n",
    "    script, div = components(p)\n",
    "\n",
    "    # pass the script and div to the HTML template\n",
    "    return render(request, 'index.html', {'script': script, 'div': div})\n"
   ]
  }
 ],
 "metadata": {
  "kernelspec": {
   "display_name": "Python 3 (ipykernel)",
   "language": "python",
   "name": "python3"
  },
  "language_info": {
   "codemirror_mode": {
    "name": "ipython",
    "version": 3
   },
   "file_extension": ".py",
   "mimetype": "text/x-python",
   "name": "python",
   "nbconvert_exporter": "python",
   "pygments_lexer": "ipython3",
   "version": "3.9.7"
  }
 },
 "nbformat": 4,
 "nbformat_minor": 5
}
