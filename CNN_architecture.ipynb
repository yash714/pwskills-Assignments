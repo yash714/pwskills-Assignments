{
 "cells": [
  {
   "cell_type": "code",
   "execution_count": null,
   "id": "a70b12b0-a8d9-4e34-8130-6f13838fc81e",
   "metadata": {},
   "outputs": [],
   "source": [
    "\"\"\" Desccire the pucpose and renejits oj pooling in CNN\"\"\"\n"
   ]
  },
  {
   "cell_type": "code",
   "execution_count": null,
   "id": "0c9c5e7c-b250-4464-a41e-e56ae9ee74b9",
   "metadata": {},
   "outputs": [],
   "source": [
    "\"\"\"\n",
    "Pooling, specifically MaxPooling and AveragePooling, is a crucial operation in Convolutional Neural Networks (CNNs) used for image recognition and other tasks involving grid-like data such as spectrograms or sensor data. Pooling plays a role in reducing the spatial dimensions of the input while retaining important features, ultimately aiding in feature extraction and model efficiency.\n",
    "\n",
    "Purpose of Pooling:\n",
    "\n",
    "Dimension Reduction: Pooling reduces the spatial dimensions of the feature maps, making subsequent computations faster and more memory-efficient. This is important because as the network goes deeper, the spatial dimensions tend to decrease due to convolutions, and pooling helps manage this reduction.\n",
    "\n",
    "Translation Invariance: Pooling helps create a degree of translation invariance in the learned features. This means that if an object or feature is slightly shifted within an image, the pooled representation remains relatively stable. This can make the network more robust to small variations in input.\n",
    "\n",
    "Feature Learning: By pooling, the network focuses on the most prominent features within a local region of the input. This can help in capturing important patterns, edges, or textures that are more resilient to small changes.\n",
    "\n",
    "Types of Pooling:\n",
    "\n",
    "Max Pooling: In max pooling, for each local region (pooling window) in the feature map, the maximum value is taken as the representative feature for that region. Max pooling is particularly effective at capturing dominant features and edges within the region.\n",
    "\n",
    "Average Pooling: In average pooling, the average value of the elements in the local region is computed. This can be useful for creating a more smoothed representation of the input, which might be helpful for certain tasks.\n",
    "\n",
    "Relevance and Limitations:\n",
    "\n",
    "Loss of Spatial Information: While pooling is effective for dimension reduction and feature extraction, it comes at the cost of losing some spatial information. This loss can be acceptable to some extent, as higher-level layers in the network are responsible for capturing more abstract and complex features.\n",
    "\n",
    "Pooling Size and Stride: The size of the pooling window and the stride (how much the window moves between pooling operations) affect the degree of dimension reduction and translation invariance. Smaller pooling windows and strides can help retain more spatial information but might lead to more computations.\n",
    "\n",
    "Recent Trends: In more recent CNN architectures, there has been a shift towards using smaller or even no pooling layers, relying on strides and convolutional layers to achieve similar effects. This is particularly true for tasks like object detection and semantic segmentation, where precise spatial information is important.\n",
    "\n",
    "In summary, pooling is a technique in Convolutional Neural Networks that serves to reduce the spatial dimensions of feature maps while retaining important information for feature extraction and computational efficiency. It plays a significant role in creating translation invariance and aiding in the extraction of dominant features. However, its use and necessity have evolved over time based on the architecture and task at hand.\n",
    "\"\"\""
   ]
  },
  {
   "cell_type": "code",
   "execution_count": null,
   "id": "ea6a216d-5a9d-4039-aaf0-12be65344961",
   "metadata": {},
   "outputs": [],
   "source": [
    "\"\"\"  Explain the dijjecence retween Xin pooling and Xax poolingp\"\"\""
   ]
  },
  {
   "cell_type": "code",
   "execution_count": null,
   "id": "2f85db50-ef23-44a1-872d-f338cdffff9a",
   "metadata": {},
   "outputs": [],
   "source": [
    "\"\"\"   It seems like there might be a typographical error in your question, but I'll try to decipher it and provide an explanation for both \"Xin pooling\" and \"Xax pooling.\" If you meant \"Max pooling\" and \"Average pooling,\" then I'll go ahead and explain the differences between these two types of pooling in Convolutional Neural Networks (CNNs).\n",
    "\n",
    "Max Pooling:\n",
    "Max pooling is a pooling operation commonly used in CNNs. In max pooling, a pooling window (usually a small matrix) slides over the input feature map, and for each local region covered by the window, the maximum value within that region is selected. This maximum value becomes the representative feature for that region in the pooled feature map.\n",
    "\n",
    "Advantages of Max Pooling:\n",
    "\n",
    "Max pooling is effective at capturing the most prominent features and edges within a local region.\n",
    "It helps create translation invariance by focusing on the most significant feature in the region, which can help the network recognize features regardless of their exact location.\n",
    "Disadvantages of Max Pooling:\n",
    "\n",
    "Max pooling discards all information about the non-maximum values within a region, potentially leading to loss of fine-grained details.\n",
    "It doesn't provide any information about the average or overall intensity of the features in the region.\n",
    "Average Pooling:\n",
    "Average pooling is another pooling operation used in CNNs. Similar to max pooling, a pooling window slides over the input feature map, but instead of selecting the maximum value, the average value of all the elements within the region covered by the window is computed. This average value becomes the representative feature for that region in the pooled feature map.\n",
    "\n",
    "Advantages of Average Pooling:\n",
    "\n",
    "Average pooling provides a smoothed representation of the input, which can be useful for reducing noise and creating a more generalized view of the features.\n",
    "It retains more information about the overall distribution of features within a region compared to max pooling.\n",
    "Disadvantages of Average Pooling:\n",
    "\n",
    "Average pooling might not be as effective at capturing sharp edges or distinct features as max pooling, particularly in scenarios where specific features need to be highlighted.\n",
    "In summary, the main difference between max pooling and average pooling lies in the way they aggregate information within a local region of the input feature map. Max pooling selects the maximum value, emphasizing dominant features, while average pooling computes the average value, providing a more smoothed representation. The choice between these two pooling methods depends on the specific task and the desired properties of the pooled feature map.\n",
    "\"\"\""
   ]
  },
  {
   "cell_type": "code",
   "execution_count": null,
   "id": "2a3d5892-7c49-4389-84aa-5aabff28101d",
   "metadata": {},
   "outputs": [],
   "source": [
    "\"\"\"  Discuss the concept oj padding in CNN and its signijicancep\"\"\""
   ]
  },
  {
   "cell_type": "code",
   "execution_count": null,
   "id": "f27633f4-c2b0-402b-ab69-a0bba6a4ae7a",
   "metadata": {},
   "outputs": [],
   "source": [
    "\"\"\" \n",
    "Padding is a fundamental concept in Convolutional Neural Networks (CNNs) that involves adding extra pixels or values to the input data before applying convolutional operations. Padding is primarily used to control the spatial dimensions of the output feature maps after convolution and to preserve important information at the borders of the input.\n",
    "\n",
    "In a CNN, convolutional layers slide a set of filters (also called kernels) over the input data to extract features. During this process, the filters scan the input data, and their receptive fields determine the size of the output feature maps. Padding can be applied to modify this process. There are two main types of padding:\n",
    "\n",
    "Valid (Zero Padding): In this type of padding, no extra pixels are added to the input data. As the filters slide over the input, they only consider positions where the entire filter can fit within the input without exceeding its boundaries. This results in a smaller output feature map compared to the input. Valid padding is useful when you want to reduce the spatial dimensions of the output feature maps.\n",
    "\n",
    "Same (Zero-Centered Padding): In same padding, extra pixels (usually zeros) are added around the input data so that the filters can slide over the input while preserving its spatial dimensions. Specifically, the amount of padding added is determined by the size of the filter. The goal of same padding is to ensure that the output feature map has the same spatial dimensions as the input. This is particularly important for maintaining information at the borders of the input, which would otherwise be lost due to the filter moving over the input.\n",
    "\n",
    "Significance of Padding:\n",
    "\n",
    "Preservation of Spatial Information: Padding helps preserve the spatial information at the borders of the input data. Without padding, convolutional operations at the edges of the input would involve only a portion of the filter, resulting in a loss of information.\n",
    "\n",
    "Control Over Output Dimensions: By choosing appropriate padding, you can control the size of the output feature maps after convolution. Valid padding reduces dimensions, while same padding maintains them.\n",
    "\n",
    "Edge Effects Mitigation: Convolutional operations without padding can lead to edge effects where the features at the borders of the input are underrepresented in the output. Padding reduces the impact of these effects.\n",
    "\n",
    "Network Design Flexibility: Padding provides flexibility in designing deep CNN architectures. It allows you to stack multiple convolutional layers without excessive reduction in spatial dimensions, which can help in capturing features at different scales.\n",
    "\n",
    "Convolution Strides: Padding can also influence the choice of convolution stride. With larger strides, padding becomes more important for maintaining feature map dimensions.\n",
    "\n",
    "In summary, padding is a crucial concept in CNNs that involves adding extra pixels or values around the input data before applying convolutional operations. It plays a significant role in preserving spatial information, controlling output dimensions, mitigating edge effects, and providing design flexibility for deep networks.\n",
    "\"\"\""
   ]
  },
  {
   "cell_type": "code",
   "execution_count": null,
   "id": "be8658b0-a3cf-4117-a33a-bf1df115fdcf",
   "metadata": {},
   "outputs": [],
   "source": [
    "\"\"\" compare zeco-padding and valid-padding in tecXs oj theic ejjects on the output\n",
    "featuce Xap size. \"\"\""
   ]
  },
  {
   "cell_type": "code",
   "execution_count": null,
   "id": "4616a9c8-0f35-4c96-81bc-266c257e1b24",
   "metadata": {},
   "outputs": [],
   "source": [
    "\"\"\"\n",
    "Zero Padding (also known as \"Same\" Padding):\n",
    "Zero padding involves adding zeros (or any constant value) around the input data before performing a convolution operation. The added zeros create a border around the input, allowing the convolutional filters to fully cover the input, including its edges. This is particularly useful to prevent the loss of information at the borders during convolution.\n",
    "\n",
    "Effect on Output Feature Map Size:\n",
    "When using zero padding, the output feature map size can be maintained to be the same as the input feature map size (hence the term \"same\" padding). This is achieved by adjusting the size of the padding such that the convolutional operation doesn't alter the spatial dimensions.\n",
    "\n",
    "\n",
    "Valid Padding:\n",
    "Valid padding involves applying a convolutional filter only to positions where the filter fully overlaps with the input data, without any extra padding. This means that the filter's center is aligned with positions in the input where it can fit entirely without extending beyond the input boundaries.\n",
    "\n",
    "Effect on Output Feature Map Size:\n",
    "With valid padding, the convolution operation is only performed where the filter completely fits within the input. As a result, the output feature map size will be smaller than the input feature map size. The exact reduction in size depends on the size of the filter and the convolution stride.\n",
    "\n",
    "\"\"\""
   ]
  },
  {
   "cell_type": "code",
   "execution_count": null,
   "id": "6edaef95-fa6f-4a59-b8d5-6e9c55eebc81",
   "metadata": {},
   "outputs": [],
   "source": [
    "\"\"\"  Provide  ovecview oj LeNet-5 acchitecture\"\"\""
   ]
  },
  {
   "cell_type": "code",
   "execution_count": null,
   "id": "11bf266b-3bca-4a5b-9aeb-96f5da172761",
   "metadata": {},
   "outputs": [],
   "source": [
    "\"\"\"\n",
    "LeNet-5 is a pioneering convolutional neural network (CNN) architecture designed by Yann LeCun, Leon Bottou, Yoshua Bengio, and Patrick Haffner in 1998. It was one of the first successful CNN architectures and played a significant role in shaping the development of deep learning for image recognition tasks. LeNet-5 was primarily designed for handwritten digit recognition and was widely used for recognizing characters on checks and other similar documents. Here's an overview of the LeNet-5 architecture:\n",
    "\n",
    "Architecture Overview:\n",
    "LeNet-5 consists of seven layers, including three convolutional layers followed by two fully connected layers and two subsampling (pooling) layers. The architecture can be summarized as follows:\n",
    "\n",
    "Input Layer: The network takes grayscale images of size 32x32 pixels as input. Unlike modern architectures, LeNet-5 doesn't normalize the pixel values to a specific range (e.g., [0, 1]).\n",
    "\n",
    "Convolutional Layer 1: The first convolutional layer has 6 feature maps (also known as channels), each obtained by applying a convolution operation using a 5x5 filter with a stride of 1. This is followed by a sigmoid activation function.\n",
    "\n",
    "Subsampling (Pooling) Layer 1: This layer performs 2x2 max pooling on each feature map, reducing the spatial dimensions by half. Max pooling selects the maximum value from each 2x2 region.\n",
    "\n",
    "Convolutional Layer 2: The second convolutional layer has 16 feature maps, also obtained using 5x5 filters with a stride of 1 and followed by a sigmoid activation.\n",
    "\n",
    "Subsampling (Pooling) Layer 2: Similar to the first pooling layer, this layer performs 2x2 max pooling to further reduce spatial dimensions.\n",
    "\n",
    "Fully Connected Layer 1: This layer has 120 neurons, each connected to all the activations from the previous subsampling layer. It serves as a bridge between the convolutional layers and the final classification layer.\n",
    "\n",
    "Fully Connected Layer 2 (Output Layer): The last fully connected layer has 84 neurons, followed by a softmax activation layer with 10 output neurons. The 10 output neurons correspond to the 10 possible classes (digits 0-9) in the case of digit recognition.\n",
    "\n",
    "Activation Function:\n",
    "LeNet-5 primarily uses the sigmoid activation function for the convolutional and fully connected layers, with a softmax activation in the output layer for classification.\n",
    "\n",
    "Significance:\n",
    "LeNet-5 was groundbreaking in its time as it demonstrated the effectiveness of deep learning for image recognition tasks. While its architecture is relatively simple compared to modern CNNs, it introduced several key concepts that are still relevant today, such as the use of convolutional layers, pooling layers, and fully connected layers in a hierarchical manner. LeNet-5 paved the way for more complex architectures that followed, like AlexNet, VGG, and ResNet, and contributed to the resurgence of interest in neural networks and deep learning.\n",
    "\"\"\""
   ]
  },
  {
   "cell_type": "code",
   "execution_count": null,
   "id": "a811cfd7-5a5d-4242-b3ff-35d422ea62a2",
   "metadata": {},
   "outputs": [],
   "source": [
    "\"\"\"\n",
    " Desccire the key components of LeNet-5 and their respective purposes\n",
    "\"\"\""
   ]
  },
  {
   "cell_type": "code",
   "execution_count": null,
   "id": "06324a85-1105-43b4-bdfa-d5e0da9a44e4",
   "metadata": {},
   "outputs": [],
   "source": [
    "\"\"\"\n",
    "Certainly! LeNet-5 consists of several key components, each serving a specific purpose in the architecture. Let's go through these components and their respective purposes:\n",
    "\n",
    "1. Input Layer:\n",
    "\n",
    "Purpose: Accepts input images with dimensions of 32x32 pixels.\n",
    "Function: Passes the input image to the subsequent layers for feature extraction and classification.\n",
    "2. Convolutional Layers (Convolution + Sigmoid Activation):\n",
    "\n",
    "Purpose: Extracts features from the input image using convolution operations.\n",
    "Function: Each convolutional layer applies a set of filters to the input, capturing different features like edges, textures, and patterns.\n",
    "Sigmoid Activation: The sigmoid activation function introduces non-linearity and helps capture complex relationships within the data.\n",
    "3. Subsampling (Pooling) Layers (Max Pooling):\n",
    "\n",
    "Purpose: Reduces spatial dimensions and enhances translation invariance.\n",
    "Function: Performs max pooling, selecting the maximum value from local regions of the feature maps.\n",
    "Result: Reduces the size of the feature maps while retaining dominant features.\n",
    "4. Fully Connected Layers:\n",
    "\n",
    "Purpose: Combines features learned from convolutional and pooling layers for classification.\n",
    "Function: Each neuron in the fully connected layers is connected to all activations from the previous layer, enabling the network to learn high-level abstractions.\n",
    "FC Layer 1 (120 neurons): Captures more complex features by combining lower-level features.\n",
    "FC Layer 2 (Output Layer, 84 neurons): Prepares the network for classification and outputs a feature vector for each class.\n",
    "5. Softmax Activation Layer (Output Layer):\n",
    "\n",
    "Purpose: Produces class probabilities for classification.\n",
    "Function: Applies the softmax activation function to the outputs of the previous layer, converting them into probabilities that indicate the likelihood of each class.\n",
    "Result: The class with the highest probability is predicted as the final output.\n",
    "In summary, the key components of LeNet-5 and their purposes are as follows:\n",
    "\n",
    "Input Layer: Accepts input images.\n",
    "Convolutional Layers: Extracts features using convolution and sigmoid activation.\n",
    "Subsampling (Pooling) Layers: Reduces spatial dimensions using max pooling.\n",
    "Fully Connected Layers: Combines and learns complex features for classification.\n",
    "Softmax Activation Layer (Output Layer): Produces class probabilities for classification.\n",
    "These components work in concert to transform raw input images into meaningful feature representations and make predictions about the classes of the input images. LeNet-5's architecture was pivotal in showcasing the potential of deep learning for image recognition tasks and laid the foundation for more advanced CNN architectures.\n",
    "\"\"\""
   ]
  },
  {
   "cell_type": "code",
   "execution_count": null,
   "id": "0c0a50cb-c713-48d1-a40b-716566174e35",
   "metadata": {},
   "outputs": [],
   "source": [
    "\"\"\"  Discuss the advantages and limitations of LeNet-5 in the context oj image classijication tasks \"\"\""
   ]
  },
  {
   "cell_type": "code",
   "execution_count": null,
   "id": "838c6032-4232-4db8-84a3-9f1b3987e1a6",
   "metadata": {},
   "outputs": [],
   "source": [
    "\"\"\"\n",
    "LeNet-5 was a pioneering architecture in the field of convolutional neural networks (CNNs) and played a significant role in advancing image classification tasks. However, like any model, it has its own set of advantages and limitations when applied to image classification tasks. Let's explore these aspects:\n",
    "\n",
    "Advantages of LeNet-5 for Image Classification:\n",
    "\n",
    "Simplicity and Effectiveness: LeNet-5 demonstrated that deep learning architectures can effectively learn hierarchical features from images for classification tasks, even with a relatively simple design.\n",
    "\n",
    "Feature Extraction: The use of convolutional layers allows LeNet-5 to automatically extract features like edges, textures, and patterns from input images. This hierarchical feature extraction makes it suitable for a wide range of image classification problems.\n",
    "\n",
    "Translation Invariance: The inclusion of max pooling layers helps LeNet-5 achieve translation invariance, making it robust to slight shifts or translations of objects within images.\n",
    "\n",
    "Early Success: LeNet-5's success in handwritten digit recognition tasks, especially on the MNIST dataset, highlighted the potential of deep learning for image recognition and classification.\n",
    "\n",
    "Learning Hierarchies: By stacking convolutional and pooling layers, LeNet-5 captures increasingly abstract features, which enables it to learn hierarchical representations of input images.\n",
    "\n",
    "Limitations of LeNet-5 for Image Classification:\n",
    "\n",
    "Limited Complexity: LeNet-5's architecture is relatively simple compared to modern CNN architectures. It may struggle with more complex and nuanced patterns present in real-world images.\n",
    "\n",
    "Small Receptive Fields: The 5x5 filter size in the convolutional layers limits the receptive field for capturing large-scale features, which might be essential for recognizing larger objects.\n",
    "\n",
    "Lack of Non-Linearity: LeNet-5 primarily uses the sigmoid activation function, which can suffer from the vanishing gradient problem. Modern architectures often use rectified linear units (ReLU) for better training convergence.\n",
    "\n",
    "Limited to Small Images: LeNet-5 was designed for 32x32 pixel images, making it less suitable for high-resolution images commonly encountered today.\n",
    "\n",
    "Not Designed for Complex Tasks: While LeNet-5 was successful for digit recognition, it might struggle with more complex and diverse datasets like ImageNet, which contain a wider variety of objects.\n",
    "\n",
    "Overfitting: Like any model, LeNet-5 can be prone to overfitting, especially on smaller datasets. Regularization techniques were less advanced during its time.\n",
    "\n",
    "Limited Training Techniques: Training deep models was relatively challenging when LeNet-5 was introduced. Modern techniques such as dropout, batch normalization, and advanced optimization algorithms were not part of its original design.\n",
    "\n",
    "In summary, LeNet-5 was groundbreaking in demonstrating the power of CNNs for image classification, particularly for handwritten digit recognition. While it has limitations compared to modern architectures, its fundamental concepts paved the way for the development of more advanced CNNs that are capable of handling diverse and complex image classification tasks.\n",
    "\"\"\""
   ]
  },
  {
   "cell_type": "code",
   "execution_count": null,
   "id": "971d8a07-18cf-4e7d-8f02-c797197441d9",
   "metadata": {},
   "outputs": [],
   "source": [
    "\"\"\"Implement LeNet-5 using a deep learning framework oy youc choice (e.g., TensocFlow, P¢Tocch) and tcain it on a purlicl¢ availarle dataset (e.g., MNIST). Evaluate its pecjocXance and pcovide\n",
    "insights.\"\"\""
   ]
  },
  {
   "cell_type": "code",
   "execution_count": 3,
   "id": "8debbb19-d144-4bc5-ae77-b1d3df33e2de",
   "metadata": {},
   "outputs": [
    {
     "name": "stderr",
     "output_type": "stream",
     "text": [
      "2023-08-11 10:07:06.996587: I tensorflow/tsl/cuda/cudart_stub.cc:28] Could not find cuda drivers on your machine, GPU will not be used.\n",
      "2023-08-11 10:07:07.072652: I tensorflow/tsl/cuda/cudart_stub.cc:28] Could not find cuda drivers on your machine, GPU will not be used.\n",
      "2023-08-11 10:07:07.074623: I tensorflow/core/platform/cpu_feature_guard.cc:182] This TensorFlow binary is optimized to use available CPU instructions in performance-critical operations.\n",
      "To enable the following instructions: AVX2 FMA, in other operations, rebuild TensorFlow with the appropriate compiler flags.\n",
      "2023-08-11 10:07:08.364678: W tensorflow/compiler/tf2tensorrt/utils/py_utils.cc:38] TF-TRT Warning: Could not find TensorRT\n"
     ]
    }
   ],
   "source": [
    "import tensorflow as tf\n",
    "from tensorflow.keras import layers, models\n"
   ]
  },
  {
   "cell_type": "code",
   "execution_count": 2,
   "id": "8b21a372-961d-418e-9922-bd7d8a79e254",
   "metadata": {},
   "outputs": [
    {
     "name": "stdout",
     "output_type": "stream",
     "text": [
      "Collecting tensorflow\n",
      "  Downloading tensorflow-2.13.0-cp310-cp310-manylinux_2_17_x86_64.manylinux2014_x86_64.whl (524.1 MB)\n",
      "\u001b[2K     \u001b[90m━━━━━━━━━━━━━━━━━━━━━━━━━━━━━━━━━━━━━━━\u001b[0m \u001b[32m524.1/524.1 MB\u001b[0m \u001b[31m2.9 MB/s\u001b[0m eta \u001b[36m0:00:00\u001b[0m00:01\u001b[0m00:01\u001b[0m\n",
      "\u001b[?25hRequirement already satisfied: packaging in /opt/conda/lib/python3.10/site-packages (from tensorflow) (22.0)\n",
      "Collecting astunparse>=1.6.0\n",
      "  Downloading astunparse-1.6.3-py2.py3-none-any.whl (12 kB)\n",
      "Collecting flatbuffers>=23.1.21\n",
      "  Downloading flatbuffers-23.5.26-py2.py3-none-any.whl (26 kB)\n",
      "Requirement already satisfied: h5py>=2.9.0 in /opt/conda/lib/python3.10/site-packages (from tensorflow) (3.7.0)\n",
      "Collecting libclang>=13.0.0\n",
      "  Downloading libclang-16.0.6-py2.py3-none-manylinux2010_x86_64.whl (22.9 MB)\n",
      "\u001b[2K     \u001b[90m━━━━━━━━━━━━━━━━━━━━━━━━━━━━━━━━━━━━━━━━\u001b[0m \u001b[32m22.9/22.9 MB\u001b[0m \u001b[31m49.3 MB/s\u001b[0m eta \u001b[36m0:00:00\u001b[0m00:01\u001b[0m00:01\u001b[0m\n",
      "\u001b[?25hRequirement already satisfied: typing-extensions<4.6.0,>=3.6.6 in /opt/conda/lib/python3.10/site-packages (from tensorflow) (4.4.0)\n",
      "Collecting google-pasta>=0.1.1\n",
      "  Downloading google_pasta-0.2.0-py3-none-any.whl (57 kB)\n",
      "\u001b[2K     \u001b[90m━━━━━━━━━━━━━━━━━━━━━━━━━━━━━━━━━━━━━━━━\u001b[0m \u001b[32m57.5/57.5 kB\u001b[0m \u001b[31m10.8 MB/s\u001b[0m eta \u001b[36m0:00:00\u001b[0m\n",
      "\u001b[?25hCollecting grpcio<2.0,>=1.24.3\n",
      "  Downloading grpcio-1.57.0-cp310-cp310-manylinux_2_17_x86_64.manylinux2014_x86_64.whl (5.3 MB)\n",
      "\u001b[2K     \u001b[90m━━━━━━━━━━━━━━━━━━━━━━━━━━━━━━━━━━━━━━━━\u001b[0m \u001b[32m5.3/5.3 MB\u001b[0m \u001b[31m76.6 MB/s\u001b[0m eta \u001b[36m0:00:00\u001b[0mta \u001b[36m0:00:01\u001b[0m\n",
      "\u001b[?25hCollecting termcolor>=1.1.0\n",
      "  Downloading termcolor-2.3.0-py3-none-any.whl (6.9 kB)\n",
      "Collecting tensorflow-io-gcs-filesystem>=0.23.1\n",
      "  Downloading tensorflow_io_gcs_filesystem-0.33.0-cp310-cp310-manylinux_2_12_x86_64.manylinux2010_x86_64.whl (2.4 MB)\n",
      "\u001b[2K     \u001b[90m━━━━━━━━━━━━━━━━━━━━━━━━━━━━━━━━━━━━━━━━\u001b[0m \u001b[32m2.4/2.4 MB\u001b[0m \u001b[31m78.7 MB/s\u001b[0m eta \u001b[36m0:00:00\u001b[0m\n",
      "\u001b[?25hCollecting wrapt>=1.11.0\n",
      "  Downloading wrapt-1.15.0-cp310-cp310-manylinux_2_5_x86_64.manylinux1_x86_64.manylinux_2_17_x86_64.manylinux2014_x86_64.whl (78 kB)\n",
      "\u001b[2K     \u001b[90m━━━━━━━━━━━━━━━━━━━━━━━━━━━━━━━━━━━━━━━━\u001b[0m \u001b[32m78.4/78.4 kB\u001b[0m \u001b[31m14.7 MB/s\u001b[0m eta \u001b[36m0:00:00\u001b[0m\n",
      "\u001b[?25hCollecting gast<=0.4.0,>=0.2.1\n",
      "  Downloading gast-0.4.0-py3-none-any.whl (9.8 kB)\n",
      "Requirement already satisfied: six>=1.12.0 in /opt/conda/lib/python3.10/site-packages (from tensorflow) (1.16.0)\n",
      "Requirement already satisfied: setuptools in /opt/conda/lib/python3.10/site-packages (from tensorflow) (65.5.1)\n",
      "Collecting keras<2.14,>=2.13.1\n",
      "  Downloading keras-2.13.1-py3-none-any.whl (1.7 MB)\n",
      "\u001b[2K     \u001b[90m━━━━━━━━━━━━━━━━━━━━━━━━━━━━━━━━━━━━━━━━\u001b[0m \u001b[32m1.7/1.7 MB\u001b[0m \u001b[31m74.0 MB/s\u001b[0m eta \u001b[36m0:00:00\u001b[0m\n",
      "\u001b[?25hCollecting absl-py>=1.0.0\n",
      "  Downloading absl_py-1.4.0-py3-none-any.whl (126 kB)\n",
      "\u001b[2K     \u001b[90m━━━━━━━━━━━━━━━━━━━━━━━━━━━━━━━━━━━━━━\u001b[0m \u001b[32m126.5/126.5 kB\u001b[0m \u001b[31m21.1 MB/s\u001b[0m eta \u001b[36m0:00:00\u001b[0m\n",
      "\u001b[?25hCollecting tensorboard<2.14,>=2.13\n",
      "  Downloading tensorboard-2.13.0-py3-none-any.whl (5.6 MB)\n",
      "\u001b[2K     \u001b[90m━━━━━━━━━━━━━━━━━━━━━━━━━━━━━━━━━━━━━━━━\u001b[0m \u001b[32m5.6/5.6 MB\u001b[0m \u001b[31m72.0 MB/s\u001b[0m eta \u001b[36m0:00:00\u001b[0m:00:01\u001b[0m0:01\u001b[0m\n",
      "\u001b[?25hCollecting tensorflow-estimator<2.14,>=2.13.0\n",
      "  Downloading tensorflow_estimator-2.13.0-py2.py3-none-any.whl (440 kB)\n",
      "\u001b[2K     \u001b[90m━━━━━━━━━━━━━━━━━━━━━━━━━━━━━━━━━━━━━━\u001b[0m \u001b[32m440.8/440.8 kB\u001b[0m \u001b[31m49.7 MB/s\u001b[0m eta \u001b[36m0:00:00\u001b[0m\n",
      "\u001b[?25hRequirement already satisfied: numpy<=1.24.3,>=1.22 in /opt/conda/lib/python3.10/site-packages (from tensorflow) (1.23.5)\n",
      "Requirement already satisfied: protobuf!=4.21.0,!=4.21.1,!=4.21.2,!=4.21.3,!=4.21.4,!=4.21.5,<5.0.0dev,>=3.20.3 in /opt/conda/lib/python3.10/site-packages (from tensorflow) (4.21.11)\n",
      "Collecting opt-einsum>=2.3.2\n",
      "  Downloading opt_einsum-3.3.0-py3-none-any.whl (65 kB)\n",
      "\u001b[2K     \u001b[90m━━━━━━━━━━━━━━━━━━━━━━━━━━━━━━━━━━━━━━━━\u001b[0m \u001b[32m65.5/65.5 kB\u001b[0m \u001b[31m11.9 MB/s\u001b[0m eta \u001b[36m0:00:00\u001b[0m\n",
      "\u001b[?25hRequirement already satisfied: wheel<1.0,>=0.23.0 in /opt/conda/lib/python3.10/site-packages (from astunparse>=1.6.0->tensorflow) (0.38.4)\n",
      "Collecting google-auth-oauthlib<1.1,>=0.5\n",
      "  Downloading google_auth_oauthlib-1.0.0-py2.py3-none-any.whl (18 kB)\n",
      "Collecting markdown>=2.6.8\n",
      "  Downloading Markdown-3.4.4-py3-none-any.whl (94 kB)\n",
      "\u001b[2K     \u001b[90m━━━━━━━━━━━━━━━━━━━━━━━━━━━━━━━━━━━━━━━━\u001b[0m \u001b[32m94.2/94.2 kB\u001b[0m \u001b[31m17.0 MB/s\u001b[0m eta \u001b[36m0:00:00\u001b[0m\n",
      "\u001b[?25hRequirement already satisfied: requests<3,>=2.21.0 in /opt/conda/lib/python3.10/site-packages (from tensorboard<2.14,>=2.13->tensorflow) (2.28.1)\n",
      "Collecting google-auth<3,>=1.6.3\n",
      "  Downloading google_auth-2.22.0-py2.py3-none-any.whl (181 kB)\n",
      "\u001b[2K     \u001b[90m━━━━━━━━━━━━━━━━━━━━━━━━━━━━━━━━━━━━━━\u001b[0m \u001b[32m181.8/181.8 kB\u001b[0m \u001b[31m26.0 MB/s\u001b[0m eta \u001b[36m0:00:00\u001b[0m\n",
      "\u001b[?25hCollecting werkzeug>=1.0.1\n",
      "  Downloading Werkzeug-2.3.6-py3-none-any.whl (242 kB)\n",
      "\u001b[2K     \u001b[90m━━━━━━━━━━━━━━━━━━━━━━━━━━━━━━━━━━━━━━\u001b[0m \u001b[32m242.5/242.5 kB\u001b[0m \u001b[31m29.8 MB/s\u001b[0m eta \u001b[36m0:00:00\u001b[0m\n",
      "\u001b[?25hCollecting tensorboard-data-server<0.8.0,>=0.7.0\n",
      "  Downloading tensorboard_data_server-0.7.1-py3-none-manylinux2014_x86_64.whl (6.6 MB)\n",
      "\u001b[2K     \u001b[90m━━━━━━━━━━━━━━━━━━━━━━━━━━━━━━━━━━━━━━━━\u001b[0m \u001b[32m6.6/6.6 MB\u001b[0m \u001b[31m73.0 MB/s\u001b[0m eta \u001b[36m0:00:00\u001b[0m:00:01\u001b[0m0:01\u001b[0m\n",
      "\u001b[?25hCollecting pyasn1-modules>=0.2.1\n",
      "  Downloading pyasn1_modules-0.3.0-py2.py3-none-any.whl (181 kB)\n",
      "\u001b[2K     \u001b[90m━━━━━━━━━━━━━━━━━━━━━━━━━━━━━━━━━━━━━━\u001b[0m \u001b[32m181.3/181.3 kB\u001b[0m \u001b[31m24.4 MB/s\u001b[0m eta \u001b[36m0:00:00\u001b[0m\n",
      "\u001b[?25hCollecting cachetools<6.0,>=2.0.0\n",
      "  Downloading cachetools-5.3.1-py3-none-any.whl (9.3 kB)\n",
      "Collecting rsa<5,>=3.1.4\n",
      "  Downloading rsa-4.9-py3-none-any.whl (34 kB)\n",
      "Requirement already satisfied: urllib3<2.0 in /opt/conda/lib/python3.10/site-packages (from google-auth<3,>=1.6.3->tensorboard<2.14,>=2.13->tensorflow) (1.26.13)\n",
      "Collecting requests-oauthlib>=0.7.0\n",
      "  Downloading requests_oauthlib-1.3.1-py2.py3-none-any.whl (23 kB)\n",
      "Requirement already satisfied: idna<4,>=2.5 in /opt/conda/lib/python3.10/site-packages (from requests<3,>=2.21.0->tensorboard<2.14,>=2.13->tensorflow) (3.4)\n",
      "Requirement already satisfied: certifi>=2017.4.17 in /opt/conda/lib/python3.10/site-packages (from requests<3,>=2.21.0->tensorboard<2.14,>=2.13->tensorflow) (2022.12.7)\n",
      "Requirement already satisfied: charset-normalizer<3,>=2 in /opt/conda/lib/python3.10/site-packages (from requests<3,>=2.21.0->tensorboard<2.14,>=2.13->tensorflow) (2.1.1)\n",
      "Requirement already satisfied: MarkupSafe>=2.1.1 in /opt/conda/lib/python3.10/site-packages (from werkzeug>=1.0.1->tensorboard<2.14,>=2.13->tensorflow) (2.1.1)\n",
      "Collecting pyasn1<0.6.0,>=0.4.6\n",
      "  Downloading pyasn1-0.5.0-py2.py3-none-any.whl (83 kB)\n",
      "\u001b[2K     \u001b[90m━━━━━━━━━━━━━━━━━━━━━━━━━━━━━━━━━━━━━━━━\u001b[0m \u001b[32m83.9/83.9 kB\u001b[0m \u001b[31m14.0 MB/s\u001b[0m eta \u001b[36m0:00:00\u001b[0m\n",
      "\u001b[?25hRequirement already satisfied: oauthlib>=3.0.0 in /opt/conda/lib/python3.10/site-packages (from requests-oauthlib>=0.7.0->google-auth-oauthlib<1.1,>=0.5->tensorboard<2.14,>=2.13->tensorflow) (3.2.2)\n",
      "Installing collected packages: libclang, flatbuffers, wrapt, werkzeug, termcolor, tensorflow-io-gcs-filesystem, tensorflow-estimator, tensorboard-data-server, pyasn1, opt-einsum, markdown, keras, grpcio, google-pasta, gast, cachetools, astunparse, absl-py, rsa, requests-oauthlib, pyasn1-modules, google-auth, google-auth-oauthlib, tensorboard, tensorflow\n",
      "Successfully installed absl-py-1.4.0 astunparse-1.6.3 cachetools-5.3.1 flatbuffers-23.5.26 gast-0.4.0 google-auth-2.22.0 google-auth-oauthlib-1.0.0 google-pasta-0.2.0 grpcio-1.57.0 keras-2.13.1 libclang-16.0.6 markdown-3.4.4 opt-einsum-3.3.0 pyasn1-0.5.0 pyasn1-modules-0.3.0 requests-oauthlib-1.3.1 rsa-4.9 tensorboard-2.13.0 tensorboard-data-server-0.7.1 tensorflow-2.13.0 tensorflow-estimator-2.13.0 tensorflow-io-gcs-filesystem-0.33.0 termcolor-2.3.0 werkzeug-2.3.6 wrapt-1.15.0\n",
      "Note: you may need to restart the kernel to use updated packages.\n"
     ]
    }
   ],
   "source": [
    "pip install tensorflow"
   ]
  },
  {
   "cell_type": "code",
   "execution_count": 4,
   "id": "f42d3666-6e5d-4a97-ae3f-a08f649e74f0",
   "metadata": {},
   "outputs": [
    {
     "name": "stdout",
     "output_type": "stream",
     "text": [
      "Downloading data from https://storage.googleapis.com/tensorflow/tf-keras-datasets/mnist.npz\n",
      "11490434/11490434 [==============================] - 2s 0us/step\n"
     ]
    }
   ],
   "source": [
    "(train_images, train_labels), (test_images, test_labels) = tf.keras.datasets.mnist.load_data()\n",
    "train_images = train_images.reshape((60000, 28, 28, 1)).astype('float32') / 255\n",
    "test_images = test_images.reshape((10000, 28, 28, 1)).astype('float32') / 255\n",
    "train_labels = tf.keras.utils.to_categorical(train_labels)\n",
    "test_labels = tf.keras.utils.to_categorical(test_labels)\n"
   ]
  },
  {
   "cell_type": "code",
   "execution_count": 5,
   "id": "bfec7aaa-4613-47cb-84ff-8e499c555795",
   "metadata": {},
   "outputs": [
    {
     "name": "stdout",
     "output_type": "stream",
     "text": [
      "Model: \"sequential\"\n",
      "_________________________________________________________________\n",
      " Layer (type)                Output Shape              Param #   \n",
      "=================================================================\n",
      " conv2d (Conv2D)             (None, 24, 24, 6)         156       \n",
      "                                                                 \n",
      " max_pooling2d (MaxPooling2  (None, 12, 12, 6)         0         \n",
      " D)                                                              \n",
      "                                                                 \n",
      " conv2d_1 (Conv2D)           (None, 8, 8, 16)          2416      \n",
      "                                                                 \n",
      " max_pooling2d_1 (MaxPoolin  (None, 4, 4, 16)          0         \n",
      " g2D)                                                            \n",
      "                                                                 \n",
      " flatten (Flatten)           (None, 256)               0         \n",
      "                                                                 \n",
      " dense (Dense)               (None, 120)               30840     \n",
      "                                                                 \n",
      " dense_1 (Dense)             (None, 84)                10164     \n",
      "                                                                 \n",
      " dense_2 (Dense)             (None, 10)                850       \n",
      "                                                                 \n",
      "=================================================================\n",
      "Total params: 44426 (173.54 KB)\n",
      "Trainable params: 44426 (173.54 KB)\n",
      "Non-trainable params: 0 (0.00 Byte)\n",
      "_________________________________________________________________\n"
     ]
    }
   ],
   "source": [
    "model = models.Sequential()\n",
    "model.add(layers.Conv2D(6, (5, 5), activation='relu', input_shape=(28, 28, 1)))\n",
    "model.add(layers.MaxPooling2D((2, 2)))\n",
    "model.add(layers.Conv2D(16, (5, 5), activation='relu'))\n",
    "model.add(layers.MaxPooling2D((2, 2)))\n",
    "model.add(layers.Flatten())\n",
    "model.add(layers.Dense(120, activation='relu'))\n",
    "model.add(layers.Dense(84, activation='relu'))\n",
    "model.add(layers.Dense(10, activation='softmax'))\n",
    "\n",
    "model.summary()\n"
   ]
  },
  {
   "cell_type": "code",
   "execution_count": 6,
   "id": "acd45d0b-7b2c-4cb0-8557-83894aabfbea",
   "metadata": {},
   "outputs": [
    {
     "name": "stdout",
     "output_type": "stream",
     "text": [
      "Epoch 1/10\n",
      "938/938 [==============================] - 10s 10ms/step - loss: 0.2250 - accuracy: 0.9314 - val_loss: 0.0722 - val_accuracy: 0.9771\n",
      "Epoch 2/10\n",
      "938/938 [==============================] - 9s 9ms/step - loss: 0.0711 - accuracy: 0.9778 - val_loss: 0.0565 - val_accuracy: 0.9817\n",
      "Epoch 3/10\n",
      "938/938 [==============================] - 8s 9ms/step - loss: 0.0520 - accuracy: 0.9836 - val_loss: 0.0592 - val_accuracy: 0.9793\n",
      "Epoch 4/10\n",
      "938/938 [==============================] - 8s 9ms/step - loss: 0.0410 - accuracy: 0.9872 - val_loss: 0.0390 - val_accuracy: 0.9875\n",
      "Epoch 5/10\n",
      "938/938 [==============================] - 8s 9ms/step - loss: 0.0342 - accuracy: 0.9889 - val_loss: 0.0423 - val_accuracy: 0.9874\n",
      "Epoch 6/10\n",
      "938/938 [==============================] - 8s 9ms/step - loss: 0.0283 - accuracy: 0.9911 - val_loss: 0.0497 - val_accuracy: 0.9854\n",
      "Epoch 7/10\n",
      "938/938 [==============================] - 8s 9ms/step - loss: 0.0243 - accuracy: 0.9920 - val_loss: 0.0457 - val_accuracy: 0.9861\n",
      "Epoch 8/10\n",
      "938/938 [==============================] - 8s 9ms/step - loss: 0.0221 - accuracy: 0.9930 - val_loss: 0.0428 - val_accuracy: 0.9866\n",
      "Epoch 9/10\n",
      "938/938 [==============================] - 8s 9ms/step - loss: 0.0188 - accuracy: 0.9936 - val_loss: 0.0410 - val_accuracy: 0.9887\n",
      "Epoch 10/10\n",
      "938/938 [==============================] - 8s 9ms/step - loss: 0.0153 - accuracy: 0.9951 - val_loss: 0.0395 - val_accuracy: 0.9887\n"
     ]
    }
   ],
   "source": [
    "model.compile(optimizer='adam',\n",
    "              loss='categorical_crossentropy',\n",
    "              metrics=['accuracy'])\n",
    "\n",
    "history = model.fit(train_images, train_labels,\n",
    "                    epochs=10,\n",
    "                    batch_size=64,\n",
    "                    validation_data=(test_images, test_labels))\n"
   ]
  },
  {
   "cell_type": "code",
   "execution_count": 7,
   "id": "1a901b73-910f-4107-8942-05b8a359e23f",
   "metadata": {},
   "outputs": [
    {
     "name": "stdout",
     "output_type": "stream",
     "text": [
      "313/313 [==============================] - 1s 4ms/step - loss: 0.0395 - accuracy: 0.9887\n",
      "Test accuracy: 0.9886999726295471\n"
     ]
    }
   ],
   "source": [
    "test_loss, test_acc = model.evaluate(test_images, test_labels)\n",
    "print('Test accuracy:', test_acc)\n"
   ]
  },
  {
   "cell_type": "code",
   "execution_count": 8,
   "id": "4cc12ef4-39c8-4a60-9704-4f4c08514b7c",
   "metadata": {},
   "outputs": [
    {
     "data": {
      "image/png": "[encoded data removed]",
      "text/plain": [
       "<Figure size 640x480 with 1 Axes>"
      ]
     },
     "metadata": {},
     "output_type": "display_data"
    }
   ],
   "source": [
    "import matplotlib.pyplot as plt\n",
    "\n",
    "accuracy = history.history['accuracy']\n",
    "val_accuracy = history.history['val_accuracy']\n",
    "epochs = range(1, len(accuracy) + 1)\n",
    "\n",
    "plt.plot(epochs, accuracy, 'bo', label='Training accuracy')\n",
    "plt.plot(epochs, val_accuracy, 'b', label='Validation accuracy')\n",
    "plt.title('Training and validation accuracy')\n",
    "plt.xlabel('Epochs')\n",
    "plt.ylabel('Accuracy')\n",
    "plt.legend()\n",
    "plt.show()\n"
   ]
  },
  {
   "cell_type": "code",
   "execution_count": null,
   "id": "168f8eaa-b8e1-4775-a619-4f116196f8d4",
   "metadata": {},
   "outputs": [],
   "source": []
  },
  {
   "cell_type": "code",
   "execution_count": null,
   "id": "7ad78839-fef2-4637-998d-9fdae35e16da",
   "metadata": {},
   "outputs": [],
   "source": []
  }
 ],
 "metadata": {
  "kernelspec": {
   "display_name": "Python 3 (ipykernel)",
   "language": "python",
   "name": "python3"
  },
  "language_info": {
   "codemirror_mode": {
    "name": "ipython",
    "version": 3
   },
   "file_extension": ".py",
   "mimetype": "text/x-python",
   "name": "python",
   "nbconvert_exporter": "python",
   "pygments_lexer": "ipython3",
   "version": "3.10.8"
  }
 },
 "nbformat": 4,
 "nbformat_minor": 5
}
