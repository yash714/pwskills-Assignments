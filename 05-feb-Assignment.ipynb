{
 "cells": [
  {
   "cell_type": "markdown",
   "id": "1769055e",
   "metadata": {},
   "source": [
    "Q1. Explain Class and Object with respect to Object-Oriented Programming. Give a suitable example."
   ]
  },
  {
   "cell_type": "markdown",
   "id": "0ce81e4e",
   "metadata": {},
   "source": [
    "# Ans.\n",
    "In object-oriented programming, a class is a blueprint for creating objects that share similar attributes and behavior. It defines the attributes and methods that an object can have, but it does not create an actual object. Instead, an object is an instance of a class, which means it is a specific implementation of that class with its own values for the class attributes.\n",
    "\n",
    "Example :\n",
    "\n",
    "class Car:\n",
    "    def __init__(self, make, model, year, color, price):\n",
    "        self.make = make\n",
    "        self.model = model\n",
    "        self.year = year\n",
    "        self.color = color\n",
    "        self.price = price\n",
    "    \n",
    "    def accelerate(self):\n",
    "        print(\"The car is accelerating.\")\n",
    "    \n",
    "    def brake(self):\n",
    "        print(\"The car is braking.\")\n",
    "    \n",
    "    def turn(self, direction):\n",
    "        print(f\"The car is turning {direction}.\")\n",
    "        \n",
    "  my_car = Car(\"Toyota\", \"Camry\", 2021, \"black\", 25000)\n",
    "\n",
    "my_car.accelerate()   # prints \"The car is accelerating.\"\n",
    "my_car.brake()        # prints \"The car is braking.\"\n",
    "my_car.turn(\"left\")   # prints \"The car is turning left.\"\n",
    "\n"
   ]
  },
  {
   "cell_type": "markdown",
   "id": "f5505fa7",
   "metadata": {},
   "source": [
    "Q2. Name the four pillars of OOPs."
   ]
  },
  {
   "cell_type": "markdown",
   "id": "db417111",
   "metadata": {},
   "source": [
    "# Ans.\n",
    "Encapsulation: Encapsulation is the technique of wrapping data and code together in a single unit called a class. It allows for the separation of the internal workings of an object from the external interface, making the object easier to use and maintain.\n",
    "\n",
    "Inheritance: Inheritance is the mechanism by which one class can derive properties and characteristics from another class. It allows for the creation of new classes that are built upon existing classes, thereby reducing redundancy and improving code reuse.\n",
    "\n",
    "Polymorphism: Polymorphism is the ability of an object to take on multiple forms. It allows objects of different classes to be treated as if they were of the same class, making it easier to write code that works with a variety of different objects.\n",
    "\n",
    "Abstraction: Abstraction is the technique of hiding the complexity of a system and providing a simpler interface for the user. It allows for the creation of high-level concepts that can be used to represent complex systems, making them easier to understand and use.\n",
    "\n",
    "These four pillars provide the foundation for building complex and scalable software systems using the principles of OOP."
   ]
  },
  {
   "cell_type": "markdown",
   "id": "e68ca3f2",
   "metadata": {},
   "source": [
    "Q3. Explain why the __init__() function is used. Give a suitable example."
   ]
  },
  {
   "cell_type": "markdown",
   "id": "518c1b6b",
   "metadata": {},
   "source": [
    "# Ans.\n",
    "\n",
    "the __init__() function is a special method used to initialize the instance variables of a class when an object is created. It is commonly used to set the initial values of an object's attributes, which are stored as instance variables.\n",
    "\n",
    "The __init__() method is called automatically when an object of a class is created. It takes at least one parameter, which is usually named self, and represents the object being created. The self parameter is used to access the instance variables of the object.\n",
    "\n",
    "Example:\n",
    "\n",
    "class Person:\n",
    "    def __init__(self, name, age):\n",
    "        self.name = name\n",
    "        self.age = age\n",
    "\n",
    "    def introduce(self):\n",
    "        print(f\"My name is {self.name} and I am {self.age} years old.\")\n",
    "\n",
    "person1 = Person(\"Alice\", 25)\n",
    "person1.introduce()   # Output: My name is Alice and I am 25 years old.\n"
   ]
  },
  {
   "cell_type": "markdown",
   "id": "ac30773d",
   "metadata": {},
   "source": [
    "Q4. Why self is used in OOPs?"
   ]
  },
  {
   "cell_type": "markdown",
   "id": "53e85bc2",
   "metadata": {},
   "source": [
    "# Ans.\n",
    "In Object-Oriented Programming (OOP), self is a special parameter used to refer to the object being manipulated or operated on. It is a convention in Python, and many other object-oriented programming languages, to use the name self for this parameter, although it could technically be called anything.\n",
    "\n",
    "When a method is called on an object, the self parameter allows the method to access and manipulate the object's attributes and methods. This is because self refers to the specific instance of the object on which the method is being called."
   ]
  },
  {
   "cell_type": "markdown",
   "id": "d87ea899",
   "metadata": {},
   "source": [
    "Q5. What is inheritance? Give an example for each type of inheritance"
   ]
  },
  {
   "cell_type": "markdown",
   "id": "f0fcb533",
   "metadata": {},
   "source": [
    "# Ans.\n",
    "\n",
    "Inheritance is a key feature of Object-Oriented Programming (OOP) that allows for the creation of new classes based on existing classes. Inheritance is the mechanism by which one class can derive properties and characteristics from another class. The existing class is called the parent class or super class, and the new class is called the child class or sub class.\n",
    "\n",
    "In Python, there are three types of inheritance:\n",
    "\n",
    "Single inheritance: In single inheritance, a subclass inherits from a single superclass.\n",
    "\n",
    "class Animal:\n",
    "    def __init__(self, name):\n",
    "        self.name = name\n",
    "\n",
    "    def speak(self):\n",
    "        print(\"\")\n",
    "\n",
    "class Dog(Animal):\n",
    "    def speak(self):\n",
    "        print(\"Woof!\")\n",
    "\n",
    "dog = Dog(\"Fido\")\n",
    "print(dog.name)     # Output: Fido\n",
    "dog.speak()         # Output: Woof!\n",
    "\n",
    "Multiple inheritance: In multiple inheritance, a subclass inherits from multiple superclasses.\n",
    "\n",
    "class Car:\n",
    "    def __init__(self, make, model):\n",
    "        self.make = make\n",
    "        self.model = model\n",
    "\n",
    "class Electric:\n",
    "    def __init__(self, range):\n",
    "        self.range = range\n",
    "\n",
    "class ElectricCar(Car, Electric):\n",
    "    def __init__(self, make, model, range):\n",
    "        Car.__init__(self, make, model)\n",
    "        Electric.__init__(self, range)\n",
    "\n",
    "    def display(self):\n",
    "        print(\"Make:\", self.make)\n",
    "        print(\"Model:\", self.model)\n",
    "        print(\"Range:\", self.range)\n",
    "\n",
    "car = ElectricCar(\"Tesla\", \"Model S\", 300)\n",
    "car.display()       # Output: Make: Tesla, Model: Model S, Range: 300\n",
    "\n",
    "\n",
    "\n"
   ]
  }
 ],
 "metadata": {
  "kernelspec": {
   "display_name": "Python 3 (ipykernel)",
   "language": "python",
   "name": "python3"
  },
  "language_info": {
   "codemirror_mode": {
    "name": "ipython",
    "version": 3
   },
   "file_extension": ".py",
   "mimetype": "text/x-python",
   "name": "python",
   "nbconvert_exporter": "python",
   "pygments_lexer": "ipython3",
   "version": "3.9.7"
  }
 },
 "nbformat": 4,
 "nbformat_minor": 5
}
