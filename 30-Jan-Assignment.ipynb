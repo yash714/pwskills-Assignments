{
 "cells": [
  {
   "cell_type": "code",
   "execution_count": 5,
   "id": "ec767024",
   "metadata": {},
   "outputs": [
    {
     "name": "stdout",
     "output_type": "stream",
     "text": [
      "enter percentage marks78.44\n",
      "Grade : C\n"
     ]
    }
   ],
   "source": [
    "# Ans 1 :\n",
    "\n",
    "\n",
    "marks = float(input(\"enter percentage marks\"))\n",
    "if marks>90:\n",
    "    print(\" Grade : A\")\n",
    "elif marks >80 and marks <= 90:\n",
    "     print(\"Grade : B\")\n",
    "elif marks >60 and marks <= 80:\n",
    "     print(\"Grade : C\")\n",
    "elif marks< 60: \n",
    "     print(\"Grade : D\") "
   ]
  },
  {
   "cell_type": "code",
   "execution_count": 6,
   "id": "3d64b39f",
   "metadata": {},
   "outputs": [
    {
     "name": "stdout",
     "output_type": "stream",
     "text": [
      "enter the cost price of a bike500000\n",
      " The road tax is : 15%\n"
     ]
    }
   ],
   "source": [
    "# Ans 2 :\n",
    "\n",
    "\n",
    "Cost_price = float(input(\"enter the cost price of a bike\"))\n",
    "if Cost_price >100000:\n",
    "    print(\" The road tax is : 15%\")\n",
    "elif Cost_price >50000 and Cost_price <= 100000:\n",
    "     print(\"The road tax is : 10%\")\n",
    "elif Cost_price < 50000: \n",
    "     print(\"The road tax is : 5%\") "
   ]
  },
  {
   "cell_type": "code",
   "execution_count": 8,
   "id": "fc2beb58",
   "metadata": {},
   "outputs": [
    {
     "name": "stdout",
     "output_type": "stream",
     "text": [
      "enter the name of the cityawd\n",
      "Entered wrong city\n"
     ]
    }
   ],
   "source": [
    "# Ans 3 :\n",
    "\n",
    "\n",
    "city = input(\"enter the name of the city\")\n",
    "if city == 'delhi':\n",
    "    print(\" Monument : Red Fort\")\n",
    "elif city == 'agra':\n",
    "    print(\" Monument : Taj Mahal\")\n",
    "elif city == 'jaipur': \n",
    "     print(\" Monument : Jal Mahal\") \n",
    "else :\n",
    "     print(\"Entered wrong city\")"
   ]
  },
  {
   "cell_type": "code",
   "execution_count": 10,
   "id": "efbde3e8",
   "metadata": {},
   "outputs": [
    {
     "name": "stdout",
     "output_type": "stream",
     "text": [
      "Enter a number: 14\n",
      "The number was divided by 3 is 1 times before it became less than 10.\n"
     ]
    }
   ],
   "source": [
    "# Ans 4 :\n",
    "\n",
    "def divide_by_3(num):\n",
    "    count = 0\n",
    "    while num >= 10:\n",
    "        num = num / 3\n",
    "        count += 1\n",
    "    return count\n",
    "\n",
    "num = int(input(\"Enter a number: \"))\n",
    "result = divide_by_3(num)\n",
    "print(\"The number was divided by 3 is\", result, \"times before it became less than 10.\")\n"
   ]
  },
  {
   "cell_type": "code",
   "execution_count": null,
   "id": "39c58042",
   "metadata": {},
   "outputs": [],
   "source": [
    "# Ans 5 :\n",
    "\n",
    "Python while loop is used to run a block code until a certain condition is met.\n",
    "\n",
    "The syntax of while loop is:\n",
    "    while condition:\n",
    "    # body of while loop\n",
    "    \n",
    "Here,\n",
    "\n",
    "A while loop evaluates the condition\n",
    "If the condition evaluates to True, the code inside the while loop is executed.\n",
    "condition is evaluated again.\n",
    "This process continues until the condition is False.\n",
    "When condition evaluates to False, the loop stops.\n",
    "\n",
    "Example: Python while Loop\n",
    "    \n",
    "# program to display numbers from 1 to 5\n",
    "\n",
    "# initialize the variable\n",
    "i = 1\n",
    "n = 5\n",
    "\n",
    "# while loop from i = 1 to 5\n",
    "while i <= n:\n",
    "    print(i)\n",
    "    i = i + 1"
   ]
  },
  {
   "cell_type": "code",
   "execution_count": 12,
   "id": "925139d9",
   "metadata": {},
   "outputs": [
    {
     "name": "stdout",
     "output_type": "stream",
     "text": [
      "0 0 0 0 0 0 \n",
      "0 1 2 3 4 5 \n",
      "0 2 4 6 8 10 \n",
      "0 3 6 9 12 15 \n",
      "\n",
      "0 0 0 0 0 0 \n",
      "0 2 4 6 8 10 \n",
      "0 4 8 12 16 20 \n",
      "0 6 12 18 24 30 \n",
      "\n",
      "0 0 0 0 0 0 \n",
      "0 3 6 9 12 15 \n",
      "0 6 12 18 24 30 \n",
      "0 9 18 27 36 45 \n",
      "\n",
      "0 0 0 0 0 0 \n",
      "0 4 8 12 16 20 \n",
      "0 8 16 24 32 40 \n",
      "0 12 24 36 48 60 \n",
      "\n"
     ]
    }
   ],
   "source": [
    "# Ans 6 :\n",
    "\n",
    "i = 1\n",
    "while i <= 4 :\n",
    "    j = 0\n",
    "    while  j <= 3 :\n",
    "        k = 0\n",
    "        while  k <= 5 :\n",
    "            print(i*j*k, end=\" \")\n",
    "            k += 1\n",
    "        print()\n",
    "        j += 1\n",
    "    print()\n",
    "    i += 1"
   ]
  },
  {
   "cell_type": "code",
   "execution_count": 14,
   "id": "42378f06",
   "metadata": {},
   "outputs": [
    {
     "name": "stdout",
     "output_type": "stream",
     "text": [
      "10\n",
      "9\n",
      "8\n",
      "7\n",
      "6\n",
      "5\n",
      "4\n",
      "3\n",
      "2\n",
      "1\n"
     ]
    }
   ],
   "source": [
    "# Ans 7 :\n",
    "num = 10\n",
    "while (num >=1):\n",
    "    print(num)\n",
    "    num = num-1\n"
   ]
  },
  {
   "cell_type": "code",
   "execution_count": 15,
   "id": "a6784c58",
   "metadata": {},
   "outputs": [
    {
     "name": "stdout",
     "output_type": "stream",
     "text": [
      "10\n",
      "9\n",
      "8\n",
      "7\n",
      "6\n",
      "5\n",
      "4\n",
      "3\n",
      "2\n",
      "1\n"
     ]
    }
   ],
   "source": [
    "# Ans 8 :\n",
    "num = 10\n",
    "while (num >=1):\n",
    "    print(num)\n",
    "    num = num-1"
   ]
  },
  {
   "cell_type": "code",
   "execution_count": null,
   "id": "2d037fec",
   "metadata": {},
   "outputs": [],
   "source": []
  }
 ],
 "metadata": {
  "kernelspec": {
   "display_name": "Python 3 (ipykernel)",
   "language": "python",
   "name": "python3"
  },
  "language_info": {
   "codemirror_mode": {
    "name": "ipython",
    "version": 3
   },
   "file_extension": ".py",
   "mimetype": "text/x-python",
   "name": "python",
   "nbconvert_exporter": "python",
   "pygments_lexer": "ipython3",
   "version": "3.9.7"
  }
 },
 "nbformat": 4,
 "nbformat_minor": 5
}
