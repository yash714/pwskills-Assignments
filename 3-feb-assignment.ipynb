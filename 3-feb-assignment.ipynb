{
 "cells": [
  {
   "cell_type": "markdown",
   "id": "1ab224d5",
   "metadata": {},
   "source": [
    "Q1. Which keyword is used to create a function? Create a function to return a list of odd numbers in the\n",
    "range of 1 to 25."
   ]
  },
  {
   "cell_type": "code",
   "execution_count": 57,
   "id": "876ee27f",
   "metadata": {},
   "outputs": [],
   "source": [
    "# Ans. def keyword is used to create a function\n",
    "\n",
    "\n",
    "def get_odd_numbers():\n",
    "    odd_numbers = []\n",
    "    for num in range(1, 26):\n",
    "        if num % 2 != 0:\n",
    "            odd_numbers.append(num)\n",
    "    return odd_numbers\n",
    "            \n",
    "\n",
    "        \n",
    "    "
   ]
  },
  {
   "cell_type": "code",
   "execution_count": 58,
   "id": "89ba979d",
   "metadata": {},
   "outputs": [
    {
     "data": {
      "text/plain": [
       "[1, 3, 5, 7, 9, 11, 13, 15, 17, 19, 21, 23, 25]"
      ]
     },
     "execution_count": 58,
     "metadata": {},
     "output_type": "execute_result"
    }
   ],
   "source": [
    "get_odd_numbers()"
   ]
  },
  {
   "cell_type": "markdown",
   "id": "4c005704",
   "metadata": {},
   "source": [
    "Q2. Why *args and **kwargs is used in some functions? Create a function each for *args and **kwargs\n",
    "to demonstrate their use."
   ]
  },
  {
   "cell_type": "code",
   "execution_count": 60,
   "id": "b9f543e5",
   "metadata": {},
   "outputs": [
    {
     "data": {
      "text/plain": [
       "'\\n    Ans. *args and **kwargs are used in Python functions when we want to pass a variable number of arguments to a function.\\n\\n*args is used to pass a variable number of non-keyworded arguments to a function. The * before the argument name allows us to pass any number of positional arguments, and they will be collected into a tuple.\\n\\n'"
      ]
     },
     "execution_count": 60,
     "metadata": {},
     "output_type": "execute_result"
    }
   ],
   "source": [
    "\"\"\"\n",
    "    Ans. *args and **kwargs are used in Python functions when we want to pass a variable number of arguments to a function.\n",
    "\n",
    "*args is used to pass a variable number of non-keyworded arguments to a function. The * before the argument name allows us to pass any number of positional arguments, and they will be collected into a tuple.\n",
    "\n",
    "**kwargs is used to pass a variable number of keyword arguments to a function. The ** before the argument name allows us to pass any number of keyword arguments, and they will be collected into a dictionary.\n",
    "\n",
    "\"\"\""
   ]
  },
  {
   "cell_type": "code",
   "execution_count": 64,
   "id": "62b46996",
   "metadata": {},
   "outputs": [],
   "source": [
    " # example function  of *args:\n",
    "def print_args(*args):\n",
    "    for arg in args:\n",
    "        print(arg)\n"
   ]
  },
  {
   "cell_type": "code",
   "execution_count": 65,
   "id": "02210894",
   "metadata": {},
   "outputs": [
    {
     "name": "stdout",
     "output_type": "stream",
     "text": [
      "1\n",
      "2\n",
      "3\n",
      "hello\n"
     ]
    }
   ],
   "source": [
    "print_args(1, 2, 3, 'hello')\n"
   ]
  },
  {
   "cell_type": "code",
   "execution_count": 66,
   "id": "01ba672a",
   "metadata": {},
   "outputs": [],
   "source": [
    "# example function  of **kwargs\n",
    "\n",
    "def print_kwargs(**kwargs):\n",
    "    for key, value in kwargs.items():\n",
    "        print(f'{key}: {value}')\n"
   ]
  },
  {
   "cell_type": "code",
   "execution_count": 68,
   "id": "6967ce4a",
   "metadata": {},
   "outputs": [
    {
     "name": "stdout",
     "output_type": "stream",
     "text": [
      "name: Yash\n",
      "age: 30\n",
      "city: Delhi\n"
     ]
    }
   ],
   "source": [
    "print_kwargs(name='Yash', age=30, city='Delhi')\n"
   ]
  },
  {
   "cell_type": "markdown",
   "id": "221c0237",
   "metadata": {},
   "source": [
    "Q3. What is an iterator in python? Name the method used to initialise the iterator object and the method\n",
    "used for iteration. Use these methods to print the first five elements of the given list [2, 4, 6, 8, 10, 12, 14,\n",
    "16, 18, 20]."
   ]
  },
  {
   "cell_type": "code",
   "execution_count": 69,
   "id": "3bad074f",
   "metadata": {},
   "outputs": [
    {
     "data": {
      "text/plain": [
       "'\\nAns. An iterator in Python is an object that can be iterated (looped) upon. It is used to represent a stream of data. The iterator object returns one data element at a time and keeps track of its current position. The iter() function is used to create an iterator object from an iterable, and the next() function is used to iterate through the elements of the iterator.\\n\\n'"
      ]
     },
     "execution_count": 69,
     "metadata": {},
     "output_type": "execute_result"
    }
   ],
   "source": [
    "\"\"\"\n",
    "Ans. An iterator in Python is an object that can be iterated (looped) upon. It is used to represent a stream of data. The iterator object returns one data element at a time and keeps track of its current position. The iter() function is used to create an iterator object from an iterable, and the next() function is used to iterate through the elements of the iterator.\n",
    "\n",
    "\"\"\"\n"
   ]
  },
  {
   "cell_type": "code",
   "execution_count": 70,
   "id": "a5f0b209",
   "metadata": {},
   "outputs": [
    {
     "name": "stdout",
     "output_type": "stream",
     "text": [
      "2\n",
      "4\n",
      "6\n",
      "8\n",
      "10\n"
     ]
    }
   ],
   "source": [
    "# example\n",
    "# create an iterator object from the list\n",
    "my_list = [2, 4, 6, 8, 10, 12, 14, 16, 18, 20]\n",
    "my_iterator = iter(my_list)\n",
    "\n",
    "# iterate through the first five elements of the iterator\n",
    "for i in range(5):\n",
    "    element = next(my_iterator)\n",
    "    print(element)\n"
   ]
  },
  {
   "cell_type": "markdown",
   "id": "16c87ac7",
   "metadata": {},
   "source": [
    "Q4. What is a generator function in python? Why yield keyword is used? Give an example of a generator\n",
    "function."
   ]
  },
  {
   "cell_type": "code",
   "execution_count": 71,
   "id": "dad7e80f",
   "metadata": {},
   "outputs": [
    {
     "data": {
      "text/plain": [
       "\"\\nAns.A generator function in Python is a special type of function that allows us to generate a sequence of values on-the-fly, instead of generating all the values at once and storing them in memory. It is implemented using a special keyword yield instead of return.\\n\\nWhen a generator function is called, it returns a generator object which can be iterated over using a for loop or other iteration tools. Each time an iteration is performed, the generator function runs until it reaches a yield statement, which then returns a value to the calling code. When the next iteration is performed, the generator function picks up where it left off, and continues until it reaches the next yield statement.\\n\\nThe yield keyword is used to return a value from the generator function without destroying the function's state. The generator function is paused at the point of the yield statement, and the calling code can retrieve the value. When the next value is requested, the generator function resumes execution from where it left off and continues until it hits the next yield statement.\\n\\n\""
      ]
     },
     "execution_count": 71,
     "metadata": {},
     "output_type": "execute_result"
    }
   ],
   "source": [
    "\"\"\"\n",
    "Ans.A generator function in Python is a special type of function that allows us to generate a sequence of values on-the-fly, instead of generating all the values at once and storing them in memory. It is implemented using a special keyword yield instead of return.\n",
    "\n",
    "When a generator function is called, it returns a generator object which can be iterated over using a for loop or other iteration tools. Each time an iteration is performed, the generator function runs until it reaches a yield statement, which then returns a value to the calling code. When the next iteration is performed, the generator function picks up where it left off, and continues until it reaches the next yield statement.\n",
    "\n",
    "The yield keyword is used to return a value from the generator function without destroying the function's state. The generator function is paused at the point of the yield statement, and the calling code can retrieve the value. When the next value is requested, the generator function resumes execution from where it left off and continues until it hits the next yield statement.\n",
    "\n",
    "\"\"\""
   ]
  },
  {
   "cell_type": "code",
   "execution_count": 72,
   "id": "3551a93e",
   "metadata": {},
   "outputs": [],
   "source": [
    "# Ans.\n",
    "\n",
    "def even_numbers(n):\n",
    "    for i in range(n):\n",
    "        if i % 2 == 0:\n",
    "            yield i\n"
   ]
  },
  {
   "cell_type": "code",
   "execution_count": 73,
   "id": "fc2bc289",
   "metadata": {},
   "outputs": [
    {
     "name": "stdout",
     "output_type": "stream",
     "text": [
      "0\n",
      "2\n",
      "4\n",
      "6\n",
      "8\n",
      "10\n"
     ]
    }
   ],
   "source": [
    "for num in even_numbers(12):\n",
    "    print(num)\n"
   ]
  },
  {
   "cell_type": "code",
   "execution_count": 74,
   "id": "52bbd272",
   "metadata": {},
   "outputs": [
    {
     "data": {
      "text/plain": [
       "'\\nQ5. Create a generator function for prime numbers less than 1000. Use the next() method to print the\\nfirst 20 prime numbers.\\n'"
      ]
     },
     "execution_count": 74,
     "metadata": {},
     "output_type": "execute_result"
    }
   ],
   "source": [
    "\"\"\"\n",
    "Q5. Create a generator function for prime numbers less than 1000. Use the next() method to print the\n",
    "first 20 prime numbers.\n",
    "\"\"\""
   ]
  },
  {
   "cell_type": "code",
   "execution_count": 75,
   "id": "73c58a06",
   "metadata": {},
   "outputs": [
    {
     "name": "stdout",
     "output_type": "stream",
     "text": [
      "2\n",
      "3\n",
      "5\n",
      "7\n",
      "11\n",
      "13\n",
      "17\n",
      "19\n",
      "23\n",
      "29\n",
      "31\n",
      "37\n",
      "41\n",
      "43\n",
      "47\n",
      "53\n",
      "59\n",
      "61\n",
      "67\n",
      "71\n"
     ]
    }
   ],
   "source": [
    "# Ans.\n",
    "def prime_numbers():\n",
    "    \"\"\"Generator function for prime numbers less than 1000\"\"\"\n",
    "    primes = []\n",
    "    for num in range(2, 1000):\n",
    "        is_prime = True\n",
    "        for divisor in range(2, int(num**0.5)+1):\n",
    "            if num % divisor == 0:\n",
    "                is_prime = False\n",
    "                break\n",
    "        if is_prime:\n",
    "            primes.append(num)\n",
    "            yield num\n",
    "\n",
    "# Use the next() method to print the first 20 prime numbers\n",
    "generator = prime_numbers()\n",
    "for i in range(20):\n",
    "    print(next(generator))\n"
   ]
  },
  {
   "cell_type": "code",
   "execution_count": 76,
   "id": "07559406",
   "metadata": {},
   "outputs": [
    {
     "data": {
      "text/plain": [
       "'\\nQ6. Write a python program to print the first 10 Fibonacci numbers using a while loop.\\n\\n'"
      ]
     },
     "execution_count": 76,
     "metadata": {},
     "output_type": "execute_result"
    }
   ],
   "source": [
    "\"\"\"\n",
    "Q6. Write a python program to print the first 10 Fibonacci numbers using a while loop.\n",
    "\n",
    "\"\"\""
   ]
  },
  {
   "cell_type": "code",
   "execution_count": 90,
   "id": "4477aa8c",
   "metadata": {},
   "outputs": [
    {
     "name": "stdout",
     "output_type": "stream",
     "text": [
      "0\n",
      "1\n",
      "1\n",
      "2\n",
      "3\n",
      "5\n",
      "8\n",
      "13\n",
      "21\n",
      "34\n"
     ]
    }
   ],
   "source": [
    "# Ans.\n",
    "# initialize the first two numbers in the sequence\n",
    "a, b = 0, 1\n",
    "\n",
    "# print the first 10 Fibonacci numbers\n",
    "i = 0\n",
    "while i < 10:\n",
    "    print(a)\n",
    "    a, b = b, a+b\n",
    "    i += 1\n",
    "\n",
    "\n",
    "    \n",
    "\n"
   ]
  },
  {
   "cell_type": "code",
   "execution_count": 91,
   "id": "f8db7465",
   "metadata": {},
   "outputs": [
    {
     "data": {
      "text/plain": [
       "\"\\nQ7. Write a List Comprehension to iterate through the given string: ‘pwskills’.\\nExpected output: ['p', 'w', 's', 'k', 'i', 'l', 'l', 's']\\n\""
      ]
     },
     "execution_count": 91,
     "metadata": {},
     "output_type": "execute_result"
    }
   ],
   "source": [
    "\"\"\"\n",
    "Q7. Write a List Comprehension to iterate through the given string: ‘pwskills’.\n",
    "Expected output: ['p', 'w', 's', 'k', 'i', 'l', 'l', 's']\n",
    "\"\"\""
   ]
  },
  {
   "cell_type": "code",
   "execution_count": 92,
   "id": "1269bfc8",
   "metadata": {},
   "outputs": [
    {
     "name": "stdout",
     "output_type": "stream",
     "text": [
      "['p', 'w', 's', 'k', 'i', 'l', 'l', 's']\n"
     ]
    }
   ],
   "source": [
    "# Ans.\n",
    "\n",
    "string = 'pwskills'\n",
    "\n",
    "new_list = [char for char in string if char in 'pwskills']\n",
    "\n",
    "print(new_list)\n"
   ]
  },
  {
   "cell_type": "code",
   "execution_count": 93,
   "id": "6b4ce4ce",
   "metadata": {},
   "outputs": [
    {
     "data": {
      "text/plain": [
       "' Q8. Write a python program to check whether a given number is Palindrome or not using a while loop.\\n'"
      ]
     },
     "execution_count": 93,
     "metadata": {},
     "output_type": "execute_result"
    }
   ],
   "source": [
    "\"\"\" Q8. Write a python program to check whether a given number is Palindrome or not using a while loop.\n",
    "\"\"\""
   ]
  },
  {
   "cell_type": "code",
   "execution_count": 95,
   "id": "2fc2b808",
   "metadata": {},
   "outputs": [
    {
     "name": "stdout",
     "output_type": "stream",
     "text": [
      "Enter a number: 11212144\n",
      "11212144 is not a palindrome number\n"
     ]
    }
   ],
   "source": [
    "# Ans.\n",
    "\n",
    "num = int(input(\"Enter a number: \"))\n",
    "\n",
    "temp = num  # save a copy of the number\n",
    "\n",
    "reverse = 0  # initialize the reverse number to 0\n",
    "\n",
    "# while loop to reverse the number\n",
    "while num > 0:\n",
    "    digit = num % 10\n",
    "    reverse = (reverse * 10) + digit\n",
    "    num = num // 10\n",
    "\n",
    "# check if the original number and its reverse are the same\n",
    "if temp == reverse:\n",
    "    print(temp, \"is a palindrome number\")\n",
    "else:\n",
    "    print(temp, \"is not a palindrome number\")\n"
   ]
  },
  {
   "cell_type": "code",
   "execution_count": 96,
   "id": "505b90a2",
   "metadata": {},
   "outputs": [],
   "source": [
    "# Q9. Write a code to print odd numbers from 1 to 100 using list comprehension.\n"
   ]
  },
  {
   "cell_type": "code",
   "execution_count": 97,
   "id": "5d67e840",
   "metadata": {},
   "outputs": [
    {
     "name": "stdout",
     "output_type": "stream",
     "text": [
      "[1, 3, 5, 7, 9, 11, 13, 15, 17, 19, 21, 23, 25, 27, 29, 31, 33, 35, 37, 39, 41, 43, 45, 47, 49, 51, 53, 55, 57, 59, 61, 63, 65, 67, 69, 71, 73, 75, 77, 79, 81, 83, 85, 87, 89, 91, 93, 95, 97, 99]\n"
     ]
    }
   ],
   "source": [
    "# Ans.\n",
    "\n",
    "odd_numbers = [num for num in range(1, 101) if num % 2 != 0]\n",
    "\n",
    "print(odd_numbers)\n"
   ]
  },
  {
   "cell_type": "code",
   "execution_count": null,
   "id": "f0bfd3e0",
   "metadata": {},
   "outputs": [],
   "source": []
  }
 ],
 "metadata": {
  "kernelspec": {
   "display_name": "Python 3 (ipykernel)",
   "language": "python",
   "name": "python3"
  },
  "language_info": {
   "codemirror_mode": {
    "name": "ipython",
    "version": 3
   },
   "file_extension": ".py",
   "mimetype": "text/x-python",
   "name": "python",
   "nbconvert_exporter": "python",
   "pygments_lexer": "ipython3",
   "version": "3.9.7"
  }
 },
 "nbformat": 4,
 "nbformat_minor": 5
}
