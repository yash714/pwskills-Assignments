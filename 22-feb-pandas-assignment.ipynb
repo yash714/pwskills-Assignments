{
 "cells": [
  {
   "cell_type": "code",
   "execution_count": null,
   "id": "3bcac0c7-0e40-438f-81ca-146c91fd9a27",
   "metadata": {},
   "outputs": [],
   "source": [
    "# Q1. Create a Pandas Series that contains the following data: 4, 8, 15, 16, 23, and 42. Then, print the series."
   ]
  },
  {
   "cell_type": "code",
   "execution_count": 2,
   "id": "82e875c5-7a67-4421-82f4-fa71c5b900a6",
   "metadata": {},
   "outputs": [
    {
     "name": "stdout",
     "output_type": "stream",
     "text": [
      "0     4\n",
      "1     8\n",
      "2    15\n",
      "3    16\n",
      "4    23\n",
      "5    42\n",
      "dtype: int64\n"
     ]
    }
   ],
   "source": [
    "# Ans.\n",
    "\n",
    "import pandas as pd\n",
    "\n",
    "data = [4,8,15,16,23,42]\n",
    "\n",
    "data_series = pd.Series(data)\n",
    "\n",
    "print(data_series)"
   ]
  },
  {
   "cell_type": "code",
   "execution_count": null,
   "id": "ef9e3ff5-093a-4af3-a4f3-738f623ac552",
   "metadata": {},
   "outputs": [],
   "source": [
    "# Q2. Create a variable of list type containing 10 elements in it, and apply pandas.Series function on the variable print it."
   ]
  },
  {
   "cell_type": "code",
   "execution_count": 4,
   "id": "862f36fc-4c41-4859-872d-78b30c34fca1",
   "metadata": {},
   "outputs": [
    {
     "name": "stdout",
     "output_type": "stream",
     "text": [
      "0     10\n",
      "1     20\n",
      "2     30\n",
      "3     40\n",
      "4     50\n",
      "5     60\n",
      "6     70\n",
      "7     80\n",
      "8     90\n",
      "9    100\n",
      "dtype: int64\n"
     ]
    }
   ],
   "source": [
    "import pandas as pd\n",
    "\n",
    "lst = [10,20,30,40,50,60,70,80,90,100]\n",
    "\n",
    "my_series = pd.Series(lst)\n",
    "\n",
    "print(my_series)"
   ]
  },
  {
   "cell_type": "code",
   "execution_count": null,
   "id": "d7b74aeb-d635-4c1a-9ef7-32184066b139",
   "metadata": {},
   "outputs": [],
   "source": [
    "# Q3.Create a Pandas DataFrame that contains the following data:"
   ]
  },
  {
   "cell_type": "code",
   "execution_count": 7,
   "id": "ae8b8fe4-ace4-468d-b823-f55b017cb8f1",
   "metadata": {},
   "outputs": [
    {
     "name": "stdout",
     "output_type": "stream",
     "text": [
      "     NAME  AGE  GENDER\n",
      "0   Alice   25  Female\n",
      "1     Bob   30    Male\n",
      "2  Claire   27  Female\n"
     ]
    }
   ],
   "source": [
    "import pandas as pd \n",
    "\n",
    "\n",
    "\n",
    "\n",
    "data = { 'NAME': ['Alice','Bob','Claire'],\n",
    "         'AGE' : [25,30,27],\n",
    "          'GENDER' : ['Female','Male', 'Female']\n",
    "        \n",
    "}\n",
    "\n",
    "df = pd.DataFrame(data)\n",
    "print(df)"
   ]
  },
  {
   "cell_type": "code",
   "execution_count": null,
   "id": "d3ca7d1a-39fa-475a-bf16-a8fc8a2a58fd",
   "metadata": {},
   "outputs": [],
   "source": [
    "# Q4. What is ‘DataFrame’ in pandas and how is it different from pandas.series? Explain with an example."
   ]
  },
  {
   "cell_type": "markdown",
   "id": "877eb318-717f-4d30-a37a-4f97cee4650f",
   "metadata": {},
   "source": [
    "\"\"\"\n",
    "# Ans.\n",
    "In pandas, a DataFrame is a two-dimensional labeled data structure with columns of potentially different types, whereas a Series is a one-dimensional labeled array capable of holding any data type. In other words, a DataFrame can be thought of as a collection of Series objects that share the same index.\n",
    "\n",
    "import pandas as pd\n",
    "\n",
    "# create a dictionary of data\n",
    "data = {\n",
    "    'name': ['John', 'Mary', 'Bob'],\n",
    "    'age': [30, 25, 40],\n",
    "    'gender': ['male', 'female', 'male']\n",
    "}\n",
    "\n",
    "# create a DataFrame from the dictionary\n",
    "df = pd.DataFrame(data)\n",
    "\n",
    "# create a Series from the 'age' column of the DataFrame\n",
    "ages = df['age']\n",
    "\n",
    "# print the DataFrame and the Series\n",
    "print(df)\n",
    "print(ages)\n",
    "\n",
    "\n",
    "\"\"\"\n",
    "\n"
   ]
  },
  {
   "cell_type": "code",
   "execution_count": null,
   "id": "a49444d7-ef9e-4a35-a58a-b70cf766ca57",
   "metadata": {},
   "outputs": [],
   "source": [
    "# Q5. What are some common functions you can use to manipulate data in a Pandas DataFrame? Can\n",
    "# you give an example of when you might use one of these functions?"
   ]
  },
  {
   "cell_type": "code",
   "execution_count": null,
   "id": "efe3f455-7456-473e-8af8-c14609274334",
   "metadata": {},
   "outputs": [],
   "source": [
    "\"\"\"\n",
    "Ans. Pandas provides a variety of functions to manipulate data in a DataFrame. Here are some common functions\n",
    "\n",
    "df = pd.read_csv('data.csv')\n",
    "print(df.head(10))\n",
    "\n",
    "\n",
    "df.tail(n): Returns the last n rows of the DataFrame.\n",
    "\n",
    "df = pd.read_csv('data.csv')\n",
    "print(df.tail(10))\n",
    "\n",
    "\n",
    "df.shape: Returns a tuple representing the dimensions of the DataFrame.\n",
    "\n",
    "df = pd.read_csv('data.csv')\n",
    "print(df.shape)\n",
    "\n",
    "df.columns: Returns a list of the column names in the DataFrame.\n",
    "\n",
    "df = pd.read_csv('data.csv')\n",
    "print(df.columns)\n",
    "\n",
    "\n",
    "\n",
    "\"\"\""
   ]
  },
  {
   "cell_type": "code",
   "execution_count": null,
   "id": "6f737cb7-ce67-4c50-8d5a-b3d10d4714d4",
   "metadata": {},
   "outputs": [],
   "source": [
    "#Q6 . Which of the following is mutable in nature Series, DataFrame, Panel?"
   ]
  },
  {
   "cell_type": "code",
   "execution_count": null,
   "id": "2f682244-aaf3-4836-bedd-3d338f8fdf79",
   "metadata": {},
   "outputs": [],
   "source": [
    "\"\"\"\n",
    "Ans.  In Pandas, both Series and DataFrame are mutable in nature, while Panel is not mutable.\n",
    "\n",
    "A mutable object is an object whose value can be changed after it is created. On the other hand, an immutable object is an object whose value cannot be changed after it is created.\n",
    "\n",
    "Since Series and DataFrame are mutable, you can modify their contents by assigning new values to individual elements, rows, or columns.\n",
    "\n",
    "import pandas as pd\n",
    "\n",
    "data = {\n",
    "    'name': ['John', 'Mary', 'Bob'],\n",
    "    'age': [30, 25, 40],\n",
    "    'gender': ['male', 'female', 'male']\n",
    "}\n",
    "\n",
    "df = pd.DataFrame(data)\n",
    "df.loc[1, 'age'] = 26  # change Mary's age to 26\n",
    "print(df)\n",
    "\n",
    "\n",
    "\n",
    "On the other hand, Panel is not mutable. Panel is a three-dimensional data structure in Pandas that is similar to a DataFrame but has an extra dimension. However, Panel has been deprecated since version 0.25.0 of Pandas and is no longer recommended for use. Instead, Pandas recommends using multi-dimensional NumPy arrays or xarray.\n",
    "\n",
    "\"\"\""
   ]
  },
  {
   "cell_type": "code",
   "execution_count": null,
   "id": "26d5a5d0-97af-4869-8107-8b3f937557f8",
   "metadata": {},
   "outputs": [],
   "source": [
    "# Q7. Create a DataFrame using multiple Series. Explain with an example."
   ]
  },
  {
   "cell_type": "code",
   "execution_count": 8,
   "id": "74569d69-1e8d-4f61-821a-c9cc0fcca998",
   "metadata": {},
   "outputs": [
    {
     "name": "stdout",
     "output_type": "stream",
     "text": [
      "   name  age  gender\n",
      "0  John   30    male\n",
      "1  Mary   25  female\n",
      "2   Bob   40    male\n"
     ]
    }
   ],
   "source": [
    "import pandas as pd\n",
    "\n",
    "# create three Series objects\n",
    "names = pd.Series(['John', 'Mary', 'Bob'])\n",
    "ages = pd.Series([30, 25, 40])\n",
    "genders = pd.Series(['male', 'female', 'male'])\n",
    "\n",
    "# create a DataFrame from the Series objects\n",
    "df = pd.DataFrame({'name': names, 'age': ages, 'gender': genders})\n",
    "\n",
    "# print the DataFrame\n",
    "print(df)\n"
   ]
  },
  {
   "cell_type": "code",
   "execution_count": null,
   "id": "a03254fa-4bde-4a07-9732-514f6542b80b",
   "metadata": {},
   "outputs": [],
   "source": []
  }
 ],
 "metadata": {
  "kernelspec": {
   "display_name": "Python 3 (ipykernel)",
   "language": "python",
   "name": "python3"
  },
  "language_info": {
   "codemirror_mode": {
    "name": "ipython",
    "version": 3
   },
   "file_extension": ".py",
   "mimetype": "text/x-python",
   "name": "python",
   "nbconvert_exporter": "python",
   "pygments_lexer": "ipython3",
   "version": "3.10.8"
  }
 },
 "nbformat": 4,
 "nbformat_minor": 5
}
