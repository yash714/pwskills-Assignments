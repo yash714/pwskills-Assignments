{
 "cells": [
  {
   "cell_type": "code",
   "execution_count": null,
   "id": "db76555d-a145-41d6-87eb-50a8b1c70b73",
   "metadata": {},
   "outputs": [],
   "source": [
    "# Q1. What is Flask Framework? What are the advantages of Flask Framework?"
   ]
  },
  {
   "cell_type": "markdown",
   "id": "f3ff8f21-ca2b-41f9-b741-0be555515ba2",
   "metadata": {},
   "source": [
    "\"\"\"\n",
    "\n",
    "Ans. Flask is a micro web framework written in Python. It is designed to be lightweight, flexible, and easy to use. Flask is considered a \"micro\" framework because it does not require particular tools or libraries. It is easy to get started with, making it an excellent choice for small to medium-sized applications.\n",
    "\n",
    "Some of the advantages of using Flask include:\n",
    "\n",
    "Lightweight: Flask is lightweight and does not have any dependencies on external libraries or tools. It is easy to learn, easy to use, and doesn't require much configuration.\n",
    "\n",
    "Flexibility: Flask is highly flexible and customizable, which means it can be used for a wide range of applications. You can use Flask to create a simple blog or a complex web application.\n",
    "\n",
    "Easy to use: Flask is easy to use and has a minimalistic syntax. You can create a new Flask application with just a few lines of code.\n",
    "\n",
    "Extensible: Flask is extensible, meaning you can add more functionality to it using Flask extensions. There are a large number of extensions available for Flask that can help you add features such as authentication, database support, and caching.\n",
    "\n",
    "Powerful: Despite being a \"micro\" framework, Flask is powerful and can handle a variety of tasks. It can be used to create REST APIs, web applications, and much more.\n",
    "\n",
    "\"\"\""
   ]
  },
  {
   "cell_type": "code",
   "execution_count": null,
   "id": "8c74f28b-48b0-499a-8b88-e440264ff573",
   "metadata": {},
   "outputs": [],
   "source": [
    "# Q2. Create a simple Flask application to display ‘Hello World!!’. Attach the screenshot of the output in\n",
    "# Jupyter Notebook."
   ]
  },
  {
   "attachments": {
    "flask.png": {
     "image/png": "[encoded data removed]"
    }
   },
   "cell_type": "markdown",
   "id": "6ce4b10e-0606-4410-aa3c-f601ebcedc46",
   "metadata": {},
   "source": [
    "\n",
    "\n",
    "\"\"\"\n",
    "\n",
    "Ans. from flask import Flask\n",
    "\n",
    "app = Flask(__name__)\n",
    "\n",
    "@app.route(\"/\")\n",
    "def hello_world():\n",
    "    return \"<h1>Hello, World!</h1>\"\n",
    "\n",
    "\n",
    "if __name__==\"__main__\":\n",
    "    app.run(host=\"0.0.0.0\")\n",
    "    \n",
    "\n",
    "\n",
    "![flask.png](attachment:flask.png)\n",
    "\n",
    "\n",
    "\"\"\""
   ]
  },
  {
   "cell_type": "code",
   "execution_count": null,
   "id": "eec541d9-d5f9-4310-8ff6-0b994a990a1f",
   "metadata": {},
   "outputs": [],
   "source": [
    "# Q3. What is App routing in Flask? Why do we use app routes?"
   ]
  },
  {
   "cell_type": "markdown",
   "id": "7db07cd4-2997-44ca-b9dc-69053d57a328",
   "metadata": {},
   "source": [
    "\"\"\"\n",
    "\n",
    "Ans. In Flask, application routing refers to the process of defining URL patterns for different parts of your web application. This is done using the @app.route decorator, which is used to associate a URL endpoint with a specific function in your Flask application.\n",
    "\n",
    "Using app routes in Flask has several advantages:\n",
    "\n",
    "Organizes code: Routing allows you to organize your code in a structured way, with each endpoint and corresponding function clearly defined.\n",
    "\n",
    "Separates concerns: By separating the URL endpoint from the function that handles it, you can make changes to your application's URL structure without having to modify your code.\n",
    "\n",
    "Improves maintainability: When your code is well-organized and structured, it is easier to maintain and modify over time.\n",
    "\n",
    "Enables modular development: App routing allows you to break your application into smaller, modular components that can be developed independently and then assembled into a larger application.\n",
    "\n",
    "\"\"\""
   ]
  },
  {
   "cell_type": "markdown",
   "id": "dfc75fb2-baed-4fe3-80fe-cca047a0759a",
   "metadata": {},
   "source": [
    "\"\"\"\n",
    "Q4. Create a “/welcome” route to display the welcome message “Welcome to ABC Corporation” and a “/”\n",
    "route to show the following details:\n",
    "Company Name: ABC Corporation\n",
    "Location: India\n",
    "Contact Detail: 999-999-9999\n",
    "Attach the screenshot of the output in Jupyter Notebook.\n",
    "\n",
    "\"\"\""
   ]
  },
  {
   "cell_type": "markdown",
   "id": "78ef6edf-1771-43bd-9a70-29de02fa786f",
   "metadata": {},
   "source": [
    "\"\"\"\n",
    "\n",
    "Ans. from flask import Flask\n",
    "\n",
    "app = Flask(__name__)\n",
    "\n",
    "@app.route('/welcome')\n",
    "def welcome():\n",
    "    return 'Welcome to ABC Corporation'\n",
    "\n",
    "@app.route('/')\n",
    "def company_details():\n",
    "    return '''Company Name: ABC Corporation\n",
    "    Location: India\n",
    "    Contact Detail: 999-999-9999'''\n",
    "\n",
    "\n",
    "if __name__==\"__main__\":\n",
    "    app.run(host=\"0.0.0.0\")\n",
    "\n",
    "\n",
    "![flask1.png](attachment:flask1.png)\n",
    "\n",
    "\"\"\""
   ]
  },
  {
   "cell_type": "code",
   "execution_count": null,
   "id": "678214f5-fe45-441b-9758-2fc5f8f24d8d",
   "metadata": {},
   "outputs": [],
   "source": [
    "# Q5. What function is used in Flask for URL Building? Write a Python code to demonstrate the working of the\n",
    "# url_for() function."
   ]
  },
  {
   "cell_type": "markdown",
   "id": "72a85994-d0a3-481e-998c-3d0c1ddd9d7c",
   "metadata": {},
   "source": [
    "\"\"\"\n",
    "\n",
    "Ans.  In Flask, the url_for() function is used for URL building. This function generates a URL to the given endpoint with the specified arguments.\n",
    "\n",
    "\n",
    "from flask import Flask, url_for\n",
    "\n",
    "app = Flask(__name__)\n",
    "\n",
    "@app.route('/')\n",
    "def index():\n",
    "    return 'This is the homepage'\n",
    "\n",
    "@app.route('/user/<username>')\n",
    "def profile(username):\n",
    "    return f'This is the profile page for {username}'\n",
    "\n",
    "with app.test_request_context():\n",
    "    print(url_for('index'))  # Output: /\n",
    "\n",
    "    print(url_for('profile', username='John'))  # Output: /user/John\n",
    "    \n",
    "    \n",
    "    \n",
    "The url_for() function takes the endpoint name as its first argument, and any additional keyword arguments are treated as values to be interpolated into the URL. In the example above, we pass the username argument to the profile endpoint to generate a URL for a specific user's profile.\n",
    "\n",
    "Note that we use the with app.test_request_context() block to create a test request context for the application. This allows us to use the url_for() function outside of a request context, which is necessary for testing or in cases where a request context is not available.\n",
    "\n",
    "\n",
    "\"\"\""
   ]
  }
 ],
 "metadata": {
  "kernelspec": {
   "display_name": "Python 3 (ipykernel)",
   "language": "python",
   "name": "python3"
  },
  "language_info": {
   "codemirror_mode": {
    "name": "ipython",
    "version": 3
   },
   "file_extension": ".py",
   "mimetype": "text/x-python",
   "name": "python",
   "nbconvert_exporter": "python",
   "pygments_lexer": "ipython3",
   "version": "3.9.7"
  }
 },
 "nbformat": 4,
 "nbformat_minor": 5
}
