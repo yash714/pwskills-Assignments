{
 "cells": [
  {
   "cell_type": "code",
   "execution_count": null,
   "id": "47c85eb6-eb74-4af5-9c6e-e6ec63ae1864",
   "metadata": {},
   "outputs": [],
   "source": [
    "# Q1. What is a database? Differentiate between SQL and NoSQL databases."
   ]
  },
  {
   "cell_type": "markdown",
   "id": "5193e17e-aa91-40d3-afea-21e252c6c5d1",
   "metadata": {},
   "source": [
    "\"\"\"\n",
    "Ans.  A database is a collection of data that is organized in a way that allows for efficient storage, retrieval, and manipulation of that data. Databases are used in a variety of applications, from simple data storage to complex business processes.\n",
    "\n",
    "SQL (Structured Query Language) and NoSQL (Not Only SQL) are two main types of database management systems that differ in their structure, organization, and use cases. Here's a brief comparison:\n",
    "\n",
    "Structure and organization:\n",
    "SQL databases are based on a relational data model, where data is organized into tables with rows and columns, and relationships are established between tables. NoSQL databases, on the other hand, use a variety of data models, such as document-based, key-value, graph-based, or column-family.\n",
    "\n",
    "Querying and manipulation:\n",
    "SQL databases use SQL language to query and manipulate data, which is a standardized language for managing relational databases. SQL allows for complex queries and joins between tables, making it ideal for applications that require high levels of data integrity and consistency. NoSQL databases, however, use different querying languages or APIs specific to their data model, which may require more specialized knowledge.\n",
    "\n",
    "Scalability and performance:\n",
    "NoSQL databases are often designed to scale horizontally, which means adding more servers to handle increased traffic or data volumes, while SQL databases typically scale vertically by adding more resources to a single server. NoSQL databases are often optimized for performance and can handle large volumes of unstructured data more efficiently than SQL databases.\n",
    "\n",
    "Use cases:\n",
    "SQL databases are commonly used in applications that require high levels of data integrity and consistency, such as financial applications, e-commerce, and healthcare. NoSQL databases are commonly used in applications that handle large volumes of unstructured data, such as social media, gaming, and big data analytics.\n",
    "\n",
    "\"\"\""
   ]
  },
  {
   "cell_type": "code",
   "execution_count": null,
   "id": "5ca86154-720c-4269-ab47-74d7351c5b0e",
   "metadata": {},
   "outputs": [],
   "source": [
    "# Q2. What is DDL? Explain why CREATE, DROP, ALTER, and TRUNCATE are used with an example."
   ]
  },
  {
   "cell_type": "markdown",
   "id": "45445595-08c6-4ca4-8fdd-9cc272f17fe7",
   "metadata": {},
   "source": [
    "\"\"\"\n",
    "Ans. DDL stands for Data Definition Language, which is a subset of SQL (Structured Query Language) used to define the structure of a database, including tables, columns, constraints, and indexes. DDL statements are used to create, modify, and delete database objects, but they do not manipulate the data stored in those objects.\n",
    "\n",
    "CREATE: Used to create a new database object, such as a table, view, or index. Here's an example of a CREATE TABLE statement that creates a new table named \"customers\" with three columns: \"id\", \"name\", and \"email\".\n",
    "\n",
    "CREATE TABLE customers (\n",
    "    id INT PRIMARY KEY,\n",
    "    name VARCHAR(50),\n",
    "    email VARCHAR(50)\n",
    ");\n",
    "\n",
    "\n",
    "DROP: Used to delete an existing database object, such as a table or index. Here's an example of a DROP TABLE statement that deletes the \"customers\" table:\n",
    "\n",
    "DROP TABLE customers;\n",
    "\n",
    "ALTER: Used to modify the structure of an existing database object, such as adding or deleting a column from a table, or modifying the data type of a column. Here's an example of an ALTER TABLE statement that adds a new column named \"phone\" to the \"customers\" table:\n",
    "\n",
    "\n",
    "ALTER TABLE customers ADD COLUMN phone VARCHAR(20);\n",
    "\n",
    "TRUNCATE: Used to delete all the data from an existing table, but keep the table structure intact. Here's an example of a TRUNCATE TABLE statement that deletes all the data from the \"customers\" table:\n",
    "\n",
    "\n",
    "TRUNCATE TABLE customers;\n",
    "\n",
    "\n",
    "\"\"\""
   ]
  },
  {
   "cell_type": "code",
   "execution_count": null,
   "id": "5459385b-5699-4a0f-ba69-69c747533f1d",
   "metadata": {},
   "outputs": [],
   "source": [
    "#Q3. What is DML? Explain INSERT, UPDATE, and DELETE with an example."
   ]
  },
  {
   "cell_type": "markdown",
   "id": "899dc8d5-cab5-4d00-a90b-7d2f7c34aa5b",
   "metadata": {},
   "source": [
    "\"\"\"\n",
    "Ans. A DML stands for Data Manipulation Language, which is a subset of SQL (Structured Query Language) used to manipulate the data stored in a database. DML statements are used to insert, update, delete, and retrieve data from database tables.\n",
    "\n",
    "INSERT: Used to insert new data into a database table. Here's an example of an INSERT statement that inserts a new record into a table named \"customers\" with values for the \"name\" and \"email\" columns:\n",
    "\n",
    "INSERT INTO customers (name, email)\n",
    "VALUES ('John Doe', 'john.doe@example.com');\n",
    "\n",
    "UPDATE: Used to modify existing data in a database table. Here's an example of an UPDATE statement that changes the email address for a customer with an ID of 1 in the \"customers\" table:\n",
    "\n",
    "UPDATE customers\n",
    "SET email = 'jane.doe@example.com'\n",
    "WHERE id = 1;\n",
    "\n",
    "\n",
    "DELETE: Used to delete existing data from a database table. Here's an example of a DELETE statement that removes a customer with an ID of 2 from the \"customers\" table:\n",
    "\n",
    "DELETE FROM customers\n",
    "WHERE id = 2;\n",
    "\n",
    "\n",
    "\"\"\""
   ]
  },
  {
   "cell_type": "code",
   "execution_count": null,
   "id": "f2b57e2f-5453-4692-abb5-6f655c25f005",
   "metadata": {},
   "outputs": [],
   "source": [
    "# Q4. What is DQL? Explain SELECT with an example."
   ]
  },
  {
   "cell_type": "markdown",
   "id": "5b974339-dfb7-4c62-b2f4-1a899eb1013f",
   "metadata": {},
   "source": [
    "\"\"\"\n",
    "Ans. DQL stands for Data Query Language, which is a subset of SQL (Structured Query Language) used to retrieve data from a database. DQL statements are used to retrieve data from one or more tables in a database and return the results in a specified format.\n",
    "\n",
    "SELECT: Used to retrieve data from one or more tables in a database. Here's an example of a SELECT statement that retrieves all columns and rows from a table named \"customers\":\n",
    "\n",
    "SELECT * FROM customers;\n",
    "\n",
    "SELECT name, email FROM customers;\n",
    "\n",
    "SELECT * FROM customers\n",
    "WHERE id = 1;\n",
    "\n",
    "\n",
    "\n",
    "\n",
    "\"\"\""
   ]
  },
  {
   "cell_type": "code",
   "execution_count": null,
   "id": "c044aa5a-4dc9-447c-a8f2-63fa0f18ad79",
   "metadata": {},
   "outputs": [],
   "source": [
    "# Q5. Explain Primary Key and Foreign Key."
   ]
  },
  {
   "cell_type": "markdown",
   "id": "60f2ec93-4d1c-42dc-b8ec-cd863081d9e7",
   "metadata": {},
   "source": [
    "\"\"\"\n",
    "Ans. Primary key and foreign key are both database constraints used to establish relationships between tables in a database.\n",
    "\n",
    "A primary key is a column or set of columns in a table that uniquely identifies each row in the table. A primary key is used to ensure that each row in a table can be identified uniquely and to enforce data integrity. Primary keys can be created using a single column or a combination of columns, and the values in the primary key column(s) must be unique for each row in the table. Here's an example of a primary key definition for a table named \"customers\" with a primary key column named \"id\":\n",
    "\n",
    "CREATE TABLE customers (\n",
    "    id INT PRIMARY KEY,\n",
    "    name VARCHAR(50),\n",
    "    email VARCHAR(50)\n",
    ");\n",
    "\n",
    "\n",
    "A foreign key is a column or set of columns in a table that refers to the primary key of another table. A foreign key is used to establish a relationship between two tables and to enforce referential integrity between them. The foreign key column(s) in one table must contain values that match the values in the primary key column(s) of the other table. Here's an example of a foreign key definition for a table named \"orders\" with a foreign key column named \"customer_id\" that references the primary key column \"id\" in the \"customers\" table:\n",
    "\n",
    "CREATE TABLE orders (\n",
    "    id INT PRIMARY KEY,\n",
    "    customer_id INT,\n",
    "    total_amount DECIMAL(10,2),\n",
    "    FOREIGN KEY (customer_id) REFERENCES customers(id)\n",
    ");\n",
    "\n",
    "\n",
    "\"\"\""
   ]
  },
  {
   "cell_type": "code",
   "execution_count": null,
   "id": "0bd35325-e034-4bfc-969f-7e6dfdef45cb",
   "metadata": {},
   "outputs": [],
   "source": [
    "# Q6. Write a python code to connect MySQL to python. Explain the cursor() and execute() method."
   ]
  },
  {
   "cell_type": "markdown",
   "id": "bb4d0a2c-8765-4ad5-b12d-c5536e2874ae",
   "metadata": {},
   "source": [
    "\"\"\"\n",
    "Ans. To connect to a MySQL database in Python, we can use the mysql-connector-python module. Here's an example code snippet that demonstrates how to connect to a MySQL database, create a cursor object, and execute a SQL query:\n",
    "\n",
    "import mysql.connector\n",
    "\n",
    "# Connect to the MySQL database\n",
    "mydb = mysql.connector.connect(\n",
    "  host=\"localhost\",\n",
    "  user=\"username\",\n",
    "  password=\"password\",\n",
    "  database=\"database_name\"\n",
    ")\n",
    "\n",
    "# Create a cursor object\n",
    "mycursor = mydb.cursor()\n",
    "\n",
    "# Execute a SQL query\n",
    "mycursor.execute(\"SELECT * FROM customers\")\n",
    "\n",
    "# Fetch the result\n",
    "result = mycursor.fetchall()\n",
    "\n",
    "# Print the result\n",
    "for row in result:\n",
    "  print(row)\n",
    "  \n",
    "  \n",
    "  we first import the mysql.connector module and use it to connect to the MySQL database. We provide the database connection details such as the host, username, password, and database name in the mysql.connector.connect() function.\n",
    "\n",
    "We then create a cursor object using the cursor() method of the database connection object. The cursor object is used to execute SQL queries and fetch the results.\n",
    "\n",
    "Next, we execute a SQL query using the execute() method of the cursor object. The SQL query in this example selects all rows from a table named \"customers\". The execute() method takes the SQL query as an argument.\n",
    "\n",
    "We then use the fetchall() method of the cursor object to fetch all the rows returned by the SQL query. The fetchall() method returns a list of tuples, where each tuple represents a row from the result set.\n",
    "\n",
    "Finally, we print the result by iterating over the list of tuples and printing each tuple.\n",
    "\n",
    "The cursor() method creates a cursor object that can be used to execute SQL queries and fetch the results. The execute() method of the cursor object is used to execute an SQL query. The SQL query can be passed as an argument to the execute() method. The fetchall() method of the cursor object is used to fetch all the rows returned by the SQL query. Other fetch methods like fetchone() and fetchmany() can also be used to fetch specific rows from the result set.\n",
    "\n",
    "\n",
    "\"\"\""
   ]
  },
  {
   "cell_type": "code",
   "execution_count": null,
   "id": "b28d3db0-2ca2-4cd6-93bc-f28ee47627d2",
   "metadata": {},
   "outputs": [],
   "source": [
    "# Q7. Give the order of execution of SQL clauses in an SQL query."
   ]
  },
  {
   "attachments": {},
   "cell_type": "markdown",
   "id": "033a10ee",
   "metadata": {},
   "source": [
    "\"\"\"\n",
    "Ans.  The order of execution of SQL clauses in an SQL query is as follows:\n",
    "\n",
    "FROM clause: The FROM clause specifies the table(s) from which to retrieve the data. It is the first clause to be executed in an SQL query.\n",
    "\n",
    "JOIN clause: If the SQL query involves joining multiple tables, the JOIN clause is executed next. It specifies the join condition(s) and combines the data from the specified tables into a single result set.\n",
    "\n",
    "WHERE clause: The WHERE clause filters the rows in the result set based on a specified condition. It is executed after the FROM and JOIN clauses, and before the GROUP BY clause.\n",
    "\n",
    "GROUP BY clause: The GROUP BY clause groups the rows in the result set based on one or more columns. It is executed after the WHERE clause, and before the HAVING clause.\n",
    "\n",
    "HAVING clause: The HAVING clause filters the groups in the result set based on a specified condition. It is executed after the GROUP BY clause and before the SELECT clause.\n",
    "\n",
    "SELECT clause: The SELECT clause specifies the columns to retrieve from the result set. It is executed after all other clauses have been executed.\n",
    "\n",
    "ORDER BY clause: The ORDER BY clause sorts the rows in the result set based on one or more columns. It is executed after the SELECT clause.\n",
    "\n",
    "LIMIT clause: The LIMIT clause limits the number of rows returned by the SQL query. It is executed after the ORDER BY clause.\n",
    "\n",
    "It's important to note that not all SQL queries include all of these clauses, and the order of execution may vary depending on the specific query. Additionally, some database management systems may optimize the query execution plan by rearranging the order of execution.\n",
    "\n",
    "\n",
    "\"\"\""
   ]
  }
 ],
 "metadata": {
  "kernelspec": {
   "display_name": "Python 3 (ipykernel)",
   "language": "python",
   "name": "python3"
  },
  "language_info": {
   "codemirror_mode": {
    "name": "ipython",
    "version": 3
   },
   "file_extension": ".py",
   "mimetype": "text/x-python",
   "name": "python",
   "nbconvert_exporter": "python",
   "pygments_lexer": "ipython3",
   "version": "3.10.8"
  }
 },
 "nbformat": 4,
 "nbformat_minor": 5
}
