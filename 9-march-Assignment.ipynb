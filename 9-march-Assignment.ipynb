{
 "cells": [
  {
   "cell_type": "code",
   "execution_count": null,
   "id": "42f5abfe-2307-4522-ab6f-0efb33b8d35e",
   "metadata": {},
   "outputs": [],
   "source": [
    "\"\"\" Q1: What are the Probability Mass Function (PMF) and Probability Density Function (PDF)? Explain with\n",
    "an example.\n",
    "\"\"\""
   ]
  },
  {
   "cell_type": "code",
   "execution_count": null,
   "id": "9d26ea73-0fc8-4f4b-9739-352d94de29aa",
   "metadata": {},
   "outputs": [],
   "source": [
    "\"\"\"\n",
    "The Probability Mass Function (PMF) and Probability Density Function (PDF) are two fundamental concepts in probability theory and statistics that describe the probability distribution of a random variable.\n",
    "\n",
    "The PMF is used to describe the probability distribution of a discrete random variable. It is a function that assigns a probability to each possible value that the random variable can take. Mathematically, the PMF of a random variable X is defined as:\n",
    "\n",
    "P(X=x) = f(x)\n",
    "\n",
    "Where f(x) is the probability that X takes the value x. For example, consider the roll of a fair six-sided die. The PMF for this random variable is given by:\n",
    "\n",
    "P(X=1) = 1/6\n",
    "P(X=2) = 1/6\n",
    "P(X=3) = 1/6\n",
    "P(X=4) = 1/6\n",
    "P(X=5) = 1/6\n",
    "P(X=6) = 1/6\n",
    "\n",
    "The sum of all these probabilities is 1, which is a requirement for any PMF.\n",
    "\n",
    "On the other hand, the PDF is used to describe the probability distribution of a continuous random variable. It is a function that describes the relative likelihood of a random variable taking on a specific value within a given range. The area under the PDF curve over a certain interval gives the probability of the random variable taking on a value within that interval. Mathematically, the PDF of a random variable X is defined as:\n",
    "\n",
    "f(x) = dF(x)/dx\n",
    "\n",
    "Where F(x) is the cumulative distribution function (CDF) of X, which gives the probability that X is less than or equal to x. For example, consider the height of adult males in a certain population. \n",
    "\"\"\""
   ]
  },
  {
   "cell_type": "code",
   "execution_count": null,
   "id": "36d9b36b-d717-49ba-b2f8-4b88313a2630",
   "metadata": {},
   "outputs": [],
   "source": [
    "#Q2: What is Cumulative Density Function (CDF)? Explain with an example. Why CDF is used?"
   ]
  },
  {
   "cell_type": "code",
   "execution_count": null,
   "id": "5b17c852-7355-48ac-bf7f-ae51e1bb5cd7",
   "metadata": {},
   "outputs": [],
   "source": [
    "\"\"\"\n",
    "The Cumulative Density Function (CDF) is a fundamental concept in probability theory and statistics that describes the probability distribution of a random variable. It gives the probability that a random variable X is less than or equal to a certain value x.\n",
    "\n",
    "Mathematically, the CDF of a random variable X is defined as:\n",
    "\n",
    "F(x) = P(X <= x)\n",
    "\n",
    "Where P(X <= x) is the probability that X is less than or equal to x.\n",
    "\n",
    "For example, consider the roll of a fair six-sided die. The CDF for this random variable is given by:\n",
    "\n",
    "F(x) = P(X <= x)\n",
    "\n",
    "= 0 for x < 1\n",
    "= 1/6 for 1 <= x < 2\n",
    "= 1/3 for 2 <= x < 3\n",
    "= 1/2 for 3 <= x < 4\n",
    "= 2/3 for 4 <= x < 5\n",
    "= 5/6 for 5 <= x < 6\n",
    "= 1 for x >= 6\n",
    "\n",
    "The CDF tells us the probability of getting a result less than or equal to a certain value. For example, the probability of getting a result less than or equal to 3 is given by:\n",
    "\n",
    "F(3) = P(X <= 3) = 1/6 + 1/6 + 1/6 = 1/2\n",
    "\n",
    "The CDF is used in many statistical applications, including hypothesis testing, confidence intervals, and the calculation of percentiles. It allows us to calculate probabilities and make inferences about the distribution of a random variable. The CDF can also be used to derive other important functions, such as the PDF and the PMF.\n",
    "\n",
    "\"\"\""
   ]
  },
  {
   "cell_type": "code",
   "execution_count": null,
   "id": "4a60a85a-a9e7-4bae-8b1f-582157f0b5a8",
   "metadata": {},
   "outputs": [],
   "source": [
    "\"\"\"\n",
    "Q3: What are some examples of situations where the normal distribution might be used as a model?\n",
    "Explain how the parameters of the normal distribution relate to the shape of the distribution.\n",
    "\n",
    "\"\"\""
   ]
  },
  {
   "cell_type": "code",
   "execution_count": null,
   "id": "4b881f14-3144-401b-8acd-7364357c8d2a",
   "metadata": {},
   "outputs": [],
   "source": [
    "\"\"\"\n",
    "The normal distribution is a very common probability distribution that is often used as a model for real-world phenomena in various fields such as physics, biology, finance, engineering, and social sciences. Here are some examples of situations where the normal distribution might be used as a model:\n",
    "\n",
    "Heights of a population\n",
    "Weights of a population\n",
    "IQ scores of a population\n",
    "Errors in measurement\n",
    "Returns on financial investments\n",
    "Reaction times in a psychological experiment\n",
    "The normal distribution is characterized by two parameters: the mean (μ) and the standard deviation (σ). The mean represents the center of the distribution, while the standard deviation represents the spread of the distribution. The shape of the normal distribution is symmetrical and bell-shaped, with the majority of the data clustered around the mean.\n",
    "\n",
    "If the mean of the distribution shifts to the right, the curve will shift to the right as well, resulting in a higher peak and a longer right tail. Similarly, if the mean of the distribution shifts to the left, the curve will shift to the left, resulting in a lower peak and a longer left tail. The standard deviation determines the width of the distribution. If the standard deviation is large, the curve will be wider and flatter, indicating more spread-out data. If the standard deviation is small, the curve will be narrower and taller, indicating less spread-out data.\n",
    "\n",
    "Overall, the normal distribution is a useful tool for modeling a wide range of phenomena because it is easy to work with mathematically and accurately describes many natural phenomena in which the errors or fluctuations are normally distributed.\n",
    "\"\"\""
   ]
  },
  {
   "cell_type": "code",
   "execution_count": null,
   "id": "74bce234-897a-4407-b496-8850f8d160cb",
   "metadata": {},
   "outputs": [],
   "source": [
    "\"\"\"\n",
    "Q4: Explain the importance of Normal Distribution. Give a few real-life examples of Normal\n",
    "Distribution.\n",
    "\"\"\""
   ]
  },
  {
   "cell_type": "code",
   "execution_count": null,
   "id": "95c8c1b5-48d0-44fa-b1c8-b6472abfd8b2",
   "metadata": {},
   "outputs": [],
   "source": [
    "\"\"\"\n",
    "The normal distribution is important in statistics and data analysis for several reasons:\n",
    "\n",
    "It is a very common probability distribution that can be used to model many real-world phenomena, as it accurately describes a wide range of natural phenomena where the errors or fluctuations are normally distributed.\n",
    "\n",
    "It has several mathematical properties that make it easy to work with, such as the central limit theorem, which states that the sum of a large number of independent random variables, each with finite mean and variance, will be approximately normally distributed.\n",
    "\n",
    "It allows us to make inferences and predictions about a population based on a sample, as the normal distribution is characterized by its mean and standard deviation.\n",
    "\n",
    "Here are some real-life examples of normal distribution:\n",
    "\n",
    "Heights and weights of people in a population: In most populations, the distribution of heights and weights follows a normal distribution, with a bell-shaped curve centered around the mean height or weight.\n",
    "\n",
    "IQ scores: IQ scores are designed to follow a normal distribution, with a mean of 100 and a standard deviation of 15. This means that the majority of people will fall within the range of 85-115 on the IQ scale.\n",
    "\n",
    "Exam scores: In a well-designed exam, the distribution of scores will often follow a normal distribution, with a bell-shaped curve centered around the mean score.\n",
    "\n",
    "The distribution of errors in scientific experiments: The normal distribution is often used to model the distribution of errors in scientific experiments. For example, the precision of a measurement device can be measured by looking at the distribution of errors, which should follow a normal distribution.\n",
    "\n",
    "Returns on financial investments: The returns on many financial investments, such as stocks and bonds, follow a normal distribution. This allows investors to make predictions about the future returns based on historical data.\n",
    "\n",
    "\"\"\""
   ]
  },
  {
   "cell_type": "code",
   "execution_count": null,
   "id": "641ad111-7a5b-4ec6-85bb-968873faa64b",
   "metadata": {},
   "outputs": [],
   "source": [
    "\"\"\"\n",
    "Q5: What is Bernaulli Distribution? Give an Example. What is the difference between Bernoulli\n",
    "Distribution and Binomial Distribution?\n",
    "\"\"\""
   ]
  },
  {
   "cell_type": "code",
   "execution_count": null,
   "id": "889bb448-ea53-4e4a-8f69-7f340392eed7",
   "metadata": {},
   "outputs": [],
   "source": [
    "\"\"\"\n",
    "The Bernoulli distribution is a discrete probability distribution that models a random variable that can take on only two possible outcomes, typically labeled as success and failure. It is named after the Swiss mathematician, Jacob Bernoulli, who introduced it in the late 1600s.\n",
    "\n",
    "The Bernoulli distribution is characterized by a single parameter, p, which represents the probability of success. The probability mass function (PMF) of the Bernoulli distribution is:\n",
    "\n",
    "P(X = 1) = p\n",
    "P(X = 0) = 1-p\n",
    "\n",
    "where X is the random variable, taking on the value of 1 for success and 0 for failure.\n",
    "\n",
    "An example of the Bernoulli distribution is flipping a coin, where the outcome is either heads (success) or tails (failure). We can model this as a Bernoulli distribution, where p is the probability of getting heads, which is 0.5 for a fair coin.\n",
    "\n",
    "The Binomial distribution, on the other hand, models the number of successes in a fixed number of independent Bernoulli trials. It is characterized by two parameters, n and p, where n is the number of trials and p is the probability of success in each trial. The probability mass function (PMF) of the Binomial distribution is:\n",
    "\n",
    "P(X = k) = (n choose k) * p^k * (1-p)^(n-k)\n",
    "\n",
    "where X is the random variable representing the number of successes in n trials.\n",
    "\n",
    "The main difference between the Bernoulli distribution and the Binomial distribution is that the Bernoulli distribution models a single trial, while the Binomial distribution models multiple trials. In other words, the Bernoulli distribution is a special case of the Binomial distribution, where n = 1.\n",
    "\n",
    "\"\"\""
   ]
  },
  {
   "cell_type": "code",
   "execution_count": null,
   "id": "64dd6770-1acd-4521-b978-e7de71c026cb",
   "metadata": {},
   "outputs": [],
   "source": [
    "\"\"\"\n",
    "Q6. Consider a dataset with a mean of 50 and a standard deviation of 10. If we assume that the dataset\n",
    "is normally distributed, what is the probability that a randomly selected observation will be greater\n",
    "than 60? Use the appropriate formula and show your calculations.\n",
    "\"\"\""
   ]
  },
  {
   "cell_type": "code",
   "execution_count": null,
   "id": "64f16d00-86dc-4b73-83aa-9676de335274",
   "metadata": {},
   "outputs": [],
   "source": [
    "\"\"\"\n",
    "Given:\n",
    "Mean (μ) = 50\n",
    "Standard deviation (σ) = 10\n",
    "We want to find the probability of a randomly selected observation being greater than 60.\n",
    "\n",
    "To find this probability, we need to calculate the standardized score or z-score of 60, which tells us how many standard deviations away from the mean 60 is:\n",
    "\n",
    "z = (x - μ) / σ\n",
    "z = (60 - 50) / 10\n",
    "z = 1\n",
    "\n",
    "Using a standard normal distribution table or a calculator, we can find the probability that a standardized score of 1 or greater occurs. The area to the right of the z-score of 1 is:\n",
    "\n",
    "P(Z > 1) = 0.1587\n",
    "\n",
    "Therefore, the probability of a randomly selected observation from this dataset being greater than 60 is 0.1587 or approximately 16%.\n",
    "\"\"\""
   ]
  },
  {
   "cell_type": "code",
   "execution_count": null,
   "id": "7a9aa761-c451-4619-b7ba-0c71ea8b5a91",
   "metadata": {},
   "outputs": [],
   "source": [
    "#Q7: Explain uniform Distribution with an example."
   ]
  },
  {
   "cell_type": "code",
   "execution_count": null,
   "id": "e14c9c4f-79ef-4700-a896-61df8b162ae7",
   "metadata": {},
   "outputs": [],
   "source": [
    "\"\"\"\n",
    "The uniform distribution is a continuous probability distribution that models a random variable that can take on values within a specified range, with each value being equally likely to occur. The probability density function (PDF) of the uniform distribution is a horizontal line over the range of possible values, such that the area under the curve is equal to 1.\n",
    "\n",
    "An example of the uniform distribution is rolling a fair six-sided die. In this case, the range of possible values is from 1 to 6, and each value is equally likely to occur. The probability density function of the uniform distribution for rolling a fair six-sided die is:\n",
    "\n",
    "f(x) = 1/6, for x = 1, 2, 3, 4, 5, 6\n",
    "f(x) = 0, otherwise\n",
    "\n",
    "This means that the probability of rolling any specific value on the die is 1/6, and the probability of rolling a value outside the range of 1 to 6 is 0.\n",
    "\n",
    "Another example of the uniform distribution is selecting a random number between 0 and 1 using a random number generator. In this case, the range of possible values is from 0 to 1, and each value is equally likely to occur. The probability density function of the uniform distribution for selecting a random number between 0 and 1 is:\n",
    "\n",
    "f(x) = 1, for 0 ≤ x ≤ 1\n",
    "f(x) = 0, otherwise\n",
    "\n",
    "This means that the probability of selecting any specific value between 0 and 1 is the same, and the probability of selecting a value outside this range is 0.\n",
    "\n",
    "\"\"\""
   ]
  },
  {
   "cell_type": "code",
   "execution_count": null,
   "id": "22f515a9-07ef-4f21-a1fc-c0751011a96d",
   "metadata": {},
   "outputs": [],
   "source": [
    "#Q8: What is the z score? State the importance of the z score."
   ]
  },
  {
   "cell_type": "code",
   "execution_count": null,
   "id": "70952d11-cc53-4a7a-a35c-7a3625a6b9d5",
   "metadata": {},
   "outputs": [],
   "source": [
    "\"\"\"\n",
    "The z-score, also known as the standard score, is a measure of how many standard deviations a given observation or data point is away from the mean of a distribution. It is a way to standardize and compare values across different distributions, regardless of their units or scales.\n",
    "\n",
    "The formula for calculating the z-score is:\n",
    "\n",
    "z = (x - μ) / σ\n",
    "\n",
    "where x is the observation or data point, μ is the mean of the distribution, and σ is the standard deviation of the distribution.\n",
    "\n",
    "The z-score tells us whether a particular observation is above or below the mean of the distribution, and by how many standard deviations. A positive z-score means that the observation is above the mean, while a negative z-score means it is below the mean.\n",
    "\n",
    "The importance of the z-score is that it allows us to compare observations or data points from different distributions on a common scale. This is useful in statistical analysis, as it helps us to identify outliers, calculate probabilities and percentiles, and make inferences and predictions about populations based on sample data.\n",
    "\n",
    "For example, the z-score is commonly used in hypothesis testing, where we compare a sample mean to a population mean to determine whether the sample is likely to have come from the population. The z-score also plays a role in confidence intervals, where we use it to calculate the range of values within which the true population mean is likely to fall with a certain degree of confidence.\n",
    "\"\"\""
   ]
  },
  {
   "cell_type": "code",
   "execution_count": null,
   "id": "e45ce70e-4bde-479f-8c85-cf98331a8206",
   "metadata": {},
   "outputs": [],
   "source": [
    "#Q9: What is Central Limit Theorem? State the significance of the Central Limit Theorem."
   ]
  },
  {
   "cell_type": "code",
   "execution_count": null,
   "id": "c0cbffb2-8a72-4018-93c5-62d1d352e559",
   "metadata": {},
   "outputs": [],
   "source": [
    "\"\"\"\n",
    "The Central Limit Theorem (CLT) is a fundamental concept in statistics that describes the behavior of the sample means of a population. It states that the distribution of the sample means approaches a normal distribution as the sample size increases, regardless of the distribution of the population from which the sample is drawn.\n",
    "\n",
    "In other words, the CLT states that if we take repeated samples from a population and calculate the mean of each sample, the distribution of those sample means will be approximately normal, even if the population itself is not normally distributed.\n",
    "\n",
    "The significance of the Central Limit Theorem is that it allows us to make inferences about a population based on a sample, even if we do not know the distribution of the population. For example, if we want to estimate the average height of all students in a school, we can take a random sample of students and calculate the mean height of that sample. By applying the CLT, we can assume that the distribution of sample means is normal and use it to estimate the confidence interval of the population mean.\n",
    "\n",
    "Another practical application of the CLT is in quality control, where we take a sample of a product and test it for certain characteristics. If the sample means do not follow a normal distribution, we can use the CLT to approximate the distribution and make decisions about the quality of the product.\n",
    "\n",
    "Overall, the Central Limit Theorem is significant because it allows us to use statistical methods that assume normality, even when the population itself is not normally distributed. This makes it a valuable tool in a wide range of fields, including economics, engineering, biology, and more.\n",
    "\n",
    "\"\"\""
   ]
  },
  {
   "cell_type": "code",
   "execution_count": null,
   "id": "5381c031-9efe-4199-8f8b-4aa58b31ea42",
   "metadata": {},
   "outputs": [],
   "source": [
    "#Q10: State the assumptions of the Central Limit Theorem."
   ]
  },
  {
   "cell_type": "code",
   "execution_count": null,
   "id": "034204c9-c2d1-4482-899f-6dfb7b218093",
   "metadata": {},
   "outputs": [],
   "source": [
    "\"\"\"\n",
    "The Central Limit Theorem (CLT) is a powerful statistical concept that describes the behavior of sample means. However, there are certain assumptions that must be met in order for the CLT to be applicable. These assumptions include:\n",
    "\n",
    "Random Sampling: The samples must be drawn randomly from the population, without any bias or preconceived notions about the population.\n",
    "\n",
    "Independence: Each observation in the sample must be independent of the others. That is, the value of one observation should not depend on the value of another observation.\n",
    "\n",
    "Finite Variance: The population must have a finite variance, which means that the data should not be too spread out or too concentrated around the mean.\n",
    "\n",
    "Sample Size: The sample size must be large enough to ensure that the sample means follow a normal distribution. In general, a sample size of at least 30 is considered sufficient, although this can vary depending on the shape of the population distribution.\n",
    "\n",
    "If these assumptions are not met, then the CLT may not be applicable, and other statistical methods may need to be used instead. It is also important to note that the CLT is a theoretical concept and may not always hold true in practice, particularly for small sample sizes or non-normal distributions.\n",
    "\n",
    "\"\"\""
   ]
  }
 ],
 "metadata": {
  "kernelspec": {
   "display_name": "Python 3 (ipykernel)",
   "language": "python",
   "name": "python3"
  },
  "language_info": {
   "codemirror_mode": {
    "name": "ipython",
    "version": 3
   },
   "file_extension": ".py",
   "mimetype": "text/x-python",
   "name": "python",
   "nbconvert_exporter": "python",
   "pygments_lexer": "ipython3",
   "version": "3.10.8"
  }
 },
 "nbformat": 4,
 "nbformat_minor": 5
}
