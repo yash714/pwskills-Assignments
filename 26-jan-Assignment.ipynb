{
 "cells": [
  {
   "cell_type": "markdown",
   "id": "b75736f0",
   "metadata": {},
   "source": [
    "Q1. Who develop the python programming Language ?"
   ]
  },
  {
   "cell_type": "markdown",
   "id": "e4815b4f",
   "metadata": {},
   "source": [
    "Ans1. Guido van Rossum"
   ]
  },
  {
   "cell_type": "markdown",
   "id": "32cf671e",
   "metadata": {},
   "source": [
    "Q2. Which type of programming python support ?"
   ]
  },
  {
   "cell_type": "markdown",
   "id": "03faaf1d",
   "metadata": {},
   "source": [
    "Ans2. Object-oriented programming and structured programming "
   ]
  },
  {
   "cell_type": "markdown",
   "id": "39cc81e8",
   "metadata": {},
   "source": [
    "Q3. Is python case sensative when dealing with identifier ?"
   ]
  },
  {
   "cell_type": "markdown",
   "id": "13e1460f",
   "metadata": {},
   "source": [
    "Ans3. Yes, Python is a case-sensitive language"
   ]
  },
  {
   "cell_type": "markdown",
   "id": "27959cf2",
   "metadata": {},
   "source": [
    "Q4. what is the correct extension of python file ?"
   ]
  },
  {
   "cell_type": "markdown",
   "id": "51dc1244",
   "metadata": {},
   "source": [
    "Ans4. The extensions for Python files are - . py, . pyi ."
   ]
  },
  {
   "cell_type": "markdown",
   "id": "f0ff7c67",
   "metadata": {},
   "source": [
    "Q5. Is python code compiled or interpreted ?"
   ]
  },
  {
   "cell_type": "markdown",
   "id": "edab4187",
   "metadata": {},
   "source": [
    "Ans5. Python is an interpreted language and not a compiled one"
   ]
  },
  {
   "cell_type": "markdown",
   "id": "c9c96665",
   "metadata": {},
   "source": [
    "Q6. Name a few block of codes used to define in python language?"
   ]
  },
  {
   "cell_type": "markdown",
   "id": "b58cf678",
   "metadata": {},
   "source": [
    "Ans6. Program for Checking names using Python\n",
    " \n",
    "      \n",
    "        name = 'Alex'\n",
    "    \n",
    "if name == 'Alex':\n",
    "    print('Correct Name!!')\n",
    "else:\n",
    "\tprint('InCorrect Name:(')\n",
    "print('HI')\n",
    "\n",
    "Showcasing use of Indentation in Python using loop\n",
    "\n",
    "\n",
    "i = 1\n",
    "while(i<=4):\n",
    "     print(i)\n",
    "     i = i + 1\n",
    "\n"
   ]
  },
  {
   "cell_type": "markdown",
   "id": "f0a08ef8",
   "metadata": {},
   "source": [
    "Q7. state a character used to give single line comments in python?"
   ]
  },
  {
   "cell_type": "markdown",
   "id": "4cc98412",
   "metadata": {},
   "source": [
    "Ans7.   # character"
   ]
  },
  {
   "cell_type": "code",
   "execution_count": null,
   "id": "dbbeafa5",
   "metadata": {},
   "outputs": [],
   "source": []
  },
  {
   "cell_type": "markdown",
   "id": "9bae8db7",
   "metadata": {},
   "source": [
    "Ans8. python_version()  is used to find vesrion of current pyrhon."
   ]
  },
  {
   "cell_type": "code",
   "execution_count": null,
   "id": "53b710a2",
   "metadata": {},
   "outputs": [],
   "source": []
  },
  {
   "cell_type": "markdown",
   "id": "15b5519b",
   "metadata": {},
   "source": [
    "Ans9. An anonymous function in Python is one that has no name when it is defined. In Python, the lambda keyword is used to define anonymous functions"
   ]
  },
  {
   "cell_type": "code",
   "execution_count": null,
   "id": "35df02c4",
   "metadata": {},
   "outputs": [],
   "source": []
  },
  {
   "cell_type": "markdown",
   "id": "d545dfd8",
   "metadata": {},
   "source": [
    "Ans10. pip stands for \"preferred installer program\""
   ]
  },
  {
   "cell_type": "code",
   "execution_count": null,
   "id": "613dc4a4",
   "metadata": {},
   "outputs": [],
   "source": []
  },
  {
   "cell_type": "markdown",
   "id": "20b76b42",
   "metadata": {},
   "source": [
    "Ans11. Python has a set of built-in functions \n",
    "\n",
    "        abs()\tReturns the absolute value of a number\n",
    "        bool()\tReturns the boolean value of the specified object\n",
    "        dict()\tReturns a dictionary (Array)\n",
    "        float()\tReturns a floating point number\n",
    "        input()\tAllowing user input\n",
    "        int()\tReturns an integer number\n",
    "        len()\tReturns the length of an object\n",
    "        list()\tReturns a list"
   ]
  },
  {
   "cell_type": "markdown",
   "id": "7c7e4794",
   "metadata": {},
   "source": []
  },
  {
   "cell_type": "markdown",
   "id": "58cd7bc8",
   "metadata": {},
   "source": [
    "Ans12. An identifier can have a maximum length of 79 characters in Python."
   ]
  },
  {
   "cell_type": "code",
   "execution_count": null,
   "id": "4567f780",
   "metadata": {},
   "outputs": [],
   "source": []
  },
  {
   "cell_type": "markdown",
   "id": "f0c5748a",
   "metadata": {},
   "source": [
    "Ans13. Advantages: \n",
    "        Presence of third-party modules \n",
    "        Extensive support libraries(NumPy for numerical calculations, Pandas for data analytics, etc.) \n",
    "        Open source and large active community base \n",
    "        Versatile, Easy to read, learn and write\n",
    "        User-friendly data structures \n",
    "        High-level language \n",
    "        Dynamically typed language(No need to mention data type based on the value assigned, it takes data type) \n",
    "        Object-Oriented and Procedural  Programming language\n",
    "        Portable and Interactive\n",
    "        Ideal for prototypes – provide more functionality with less coding\n",
    "        Highly Efficient(Python’s clean object-oriented design provides enhanced process control, and the language is equipped with excellent text processing and integration capabilities, as well as its own unit testing framework, which makes it more efficient.)\n",
    "        Internet of Things(IoT) Opportunities\n",
    "        Interpreted Language\n",
    "        Portable across Operating systems "
   ]
  },
  {
   "cell_type": "code",
   "execution_count": null,
   "id": "21df3783",
   "metadata": {},
   "outputs": [],
   "source": []
  },
  {
   "cell_type": "markdown",
   "id": "9655ea5c",
   "metadata": {},
   "source": [
    "Ans14. Memory management in Python involves the management of a private heap. A private heap is a portion of memory that is exclusive to the Python process. All Python objects and data structures are stored in the private heap. "
   ]
  },
  {
   "cell_type": "code",
   "execution_count": null,
   "id": "1c0ea8e6",
   "metadata": {},
   "outputs": [],
   "source": []
  },
  {
   "cell_type": "markdown",
   "id": "00ae800b",
   "metadata": {},
   "source": [
    "Ans15. Go to the official Python download page for Windows.\n",
    "\n",
    "Find a stable Python 3 release. This tutorial was tested with Python version 3.10.10.\n",
    "\n",
    "Click the appropriate link for your system to download the executable file: Windows installer (64-bit) or Windows installer (32-bit).\n",
    "\n",
    "After the installer is downloaded, double-click the .exe file, for example python-3.10.10-amd64.exe, to run the Python installer.\n",
    "\n",
    "Select the Install launcher for all users checkbox, which enables all users of the computer to access the Python launcher application.\n",
    "\n",
    "Select the Add python.exe to PATH checkbox, which enables users to launch Python from the command line.\n",
    "\n",
    "If you’re just getting started with Python and you want to install it with default features as described in the dialog, then click Install Now and go to Step 4 - Verify the Python Installation. To install other optional and advanced features, click Customize installation and continue.\n",
    "\n",
    "The Optional Features include common tools and resources for Python and you can install all of them, even if you don’t plan to use them.\n",
    "\n",
    "Click Next.\n",
    "\n",
    "The Advanced Options dialog displays.\n",
    "\n",
    "Click Install to start the installation.\n",
    "\n",
    "After the installation is complete, a Setup was successful message displays.\n"
   ]
  },
  {
   "cell_type": "code",
   "execution_count": null,
   "id": "3a58d718",
   "metadata": {},
   "outputs": [],
   "source": []
  },
  {
   "cell_type": "markdown",
   "id": "5719809e",
   "metadata": {},
   "source": [
    "Ans16. Yes, Indentation is required in python."
   ]
  },
  {
   "cell_type": "code",
   "execution_count": null,
   "id": "406530f5",
   "metadata": {},
   "outputs": [],
   "source": []
  }
 ],
 "metadata": {
  "kernelspec": {
   "display_name": "Python 3 (ipykernel)",
   "language": "python",
   "name": "python3"
  },
  "language_info": {
   "codemirror_mode": {
    "name": "ipython",
    "version": 3
   },
   "file_extension": ".py",
   "mimetype": "text/x-python",
   "name": "python",
   "nbconvert_exporter": "python",
   "pygments_lexer": "ipython3",
   "version": "3.9.7"
  }
 },
 "nbformat": 4,
 "nbformat_minor": 5
}
