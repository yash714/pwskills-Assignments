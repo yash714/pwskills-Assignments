{
 "cells": [
  {
   "cell_type": "code",
   "execution_count": null,
   "id": "60b95028-4f84-4ecc-a205-006cacce4174",
   "metadata": {},
   "outputs": [],
   "source": [
    "\"\"\"\n",
    "Q1. What is Bayes' theorem?\n",
    "\"\"\""
   ]
  },
  {
   "cell_type": "code",
   "execution_count": null,
   "id": "3c6112d7-9b3b-400f-a3aa-84aa6c4090a8",
   "metadata": {},
   "outputs": [],
   "source": [
    "\"\"\"\n",
    "Bayes' theorem is a fundamental concept in probability theory that describes how to update our beliefs about the probability of an event occurring based on new evidence. The theorem is named after the English statistician Thomas Bayes, who first formulated it in the 18th century.\n",
    "\n",
    "In its simplest form, Bayes' theorem states that the probability of an event A occurring given that event B has occurred is equal to the probability of event B occurring given that event A has occurred, multiplied by the prior probability of event A occurring, divided by the prior probability of event B occurring. Mathematically, this can be expressed as:\n",
    "\n",
    "P(A|B) = P(B|A) * P(A) / P(B)\n",
    "\n",
    "where P(A|B) is the conditional probability of A given B, P(B|A) is the conditional probability of B given A, P(A) is the prior probability of A, and P(B) is the prior probability of B.\n",
    "\n",
    "Bayes' theorem is widely used in statistics, machine learning, and artificial intelligence to make predictions and decisions based on data. It provides a powerful framework for updating our beliefs and making decisions in the face of uncertainty.\n",
    "\"\"\""
   ]
  },
  {
   "cell_type": "code",
   "execution_count": null,
   "id": "3ca3542f-285f-40e1-a0cc-d0e325c348c7",
   "metadata": {},
   "outputs": [],
   "source": [
    "\"\"\"\n",
    "Q2. What is the formula for Bayes' theorem?\n",
    "\"\"\""
   ]
  },
  {
   "cell_type": "code",
   "execution_count": null,
   "id": "9ca62331-da63-4591-85de-97eea8da892b",
   "metadata": {},
   "outputs": [],
   "source": [
    "\"\"\"\n",
    "The formula for Bayes' theorem is:\n",
    "\n",
    "P(A|B) = P(B|A) * P(A) / P(B)\n",
    "\n",
    "where:\n",
    "\n",
    "P(A|B) is the probability of event A given event B\n",
    "P(B|A) is the probability of event B given event A\n",
    "P(A) is the prior probability of event A\n",
    "P(B) is the prior probability of event B\n",
    "This formula describes how to update our beliefs about the probability of event A occurring, given new evidence from event B. It states that the updated probability of A given B is equal to the product of the prior probability of A and the likelihood of B given A, divided by the prior probability of B.\n",
    "\n",
    "Bayes' theorem is a powerful tool in statistics and machine learning for making predictions and decisions under uncertainty. It allows us to update our beliefs based on new evidence, and to make optimal decisions based on the available data.\n",
    "\"\"\""
   ]
  },
  {
   "cell_type": "code",
   "execution_count": null,
   "id": "35476959-53ea-4db5-a502-12b65066c2cc",
   "metadata": {},
   "outputs": [],
   "source": [
    "\"\"\"\n",
    "Q3. How is Bayes' theorem used in practice?\n",
    "\"\"\""
   ]
  },
  {
   "cell_type": "code",
   "execution_count": null,
   "id": "560665b8-79a2-44c0-9d37-508658460a3e",
   "metadata": {},
   "outputs": [],
   "source": [
    "\"\"\"\n",
    "Bayes' theorem is used in practice in a wide range of fields, including statistics, machine learning, artificial intelligence, and decision-making. Here are some common examples of how Bayes' theorem is used:\n",
    "\n",
    "Medical diagnosis: Bayes' theorem is used to calculate the probability that a patient has a disease given their symptoms and test results. For example, a doctor might use Bayes' theorem to calculate the probability that a patient has cancer given their age, gender, family history, and the results of a diagnostic test.\n",
    "\n",
    "Spam filtering: Bayes' theorem is used in spam filtering algorithms to calculate the probability that an email is spam given its content and other characteristics. The algorithm uses a prior probability of spam based on previous data, and updates this probability based on the specific characteristics of each incoming email.\n",
    "\n",
    "Prediction: Bayes' theorem is used in predictive modeling to calculate the probability of a certain outcome given a set of input variables. For example, a weather forecasting model might use Bayes' theorem to predict the probability of rain given the current temperature, humidity, and other factors.\n",
    "\n",
    "Risk assessment: Bayes' theorem is used in risk assessment to calculate the probability of an event occurring given certain factors. For example, an insurance company might use Bayes' theorem to calculate the probability of a car accident given the driver's age, driving record, and other factors.\n",
    "\n",
    "Overall, Bayes' theorem provides a powerful framework for updating beliefs and making decisions under uncertainty. It is a fundamental concept in statistics and machine learning, and has numerous practical applications in a wide range of fields.\n",
    "\"\"\""
   ]
  },
  {
   "cell_type": "code",
   "execution_count": null,
   "id": "21d95d85-8e9d-47ec-9563-8e0f1f18dc35",
   "metadata": {},
   "outputs": [],
   "source": [
    "\"\"\"\n",
    "Q4. What is the relationship between Bayes' theorem and conditional probability?\n",
    "\"\"\""
   ]
  },
  {
   "cell_type": "code",
   "execution_count": null,
   "id": "2e59de77-a18a-48f7-91a8-5f61db5e1791",
   "metadata": {},
   "outputs": [],
   "source": [
    "\"\"\"\n",
    "Bayes' theorem is a statement about conditional probability, which is the probability of an event occurring given that another event has occurred. In particular, Bayes' theorem provides a way to update our beliefs about the probability of an event occurring based on new evidence, using conditional probability.\n",
    "\n",
    "In its simplest form, Bayes' theorem states that the conditional probability of event A given event B is equal to the conditional probability of event B given event A, multiplied by the prior probability of event A, divided by the prior probability of event B. Mathematically, this can be expressed as:\n",
    "\n",
    "P(A|B) = P(B|A) * P(A) / P(B)\n",
    "\n",
    "where P(A|B) is the conditional probability of A given B, P(B|A) is the conditional probability of B given A, P(A) is the prior probability of A, and P(B) is the prior probability of B.\n",
    "\n",
    "In other words, Bayes' theorem provides a way to update our prior beliefs about the probability of event A occurring, given new evidence from event B, using the conditional probabilities of A and B.\n",
    "\n",
    "Overall, Bayes' theorem and conditional probability are closely related concepts, and Bayes' theorem provides a powerful tool for updating our beliefs and making decisions based on conditional probabilities.\n",
    "\"\"\""
   ]
  },
  {
   "cell_type": "code",
   "execution_count": null,
   "id": "787172ff-5184-4341-bd78-b43d20916622",
   "metadata": {},
   "outputs": [],
   "source": [
    "\"\"\"\n",
    "Q5. How do you choose which type of Naive Bayes classifier to use for any given problem?\n",
    "\"\"\""
   ]
  },
  {
   "cell_type": "code",
   "execution_count": null,
   "id": "20b50a77-9a31-40e7-866c-33c7046ffa5b",
   "metadata": {},
   "outputs": [],
   "source": [
    "\"\"\"\n",
    "There are three main types of Naive Bayes classifiers: Gaussian Naive Bayes, Multinomial Naive Bayes, and Bernoulli Naive Bayes. Each type of classifier is suited for different types of data and problem settings. Here are some guidelines for choosing which type of Naive Bayes classifier to use for a given problem:\n",
    "\n",
    "Gaussian Naive Bayes: This classifier is suitable for continuous data that is normally distributed (i.e., follows a Gaussian distribution). It assumes that the features are independent and normally distributed, and is often used in classification tasks such as image recognition or text classification, where the features are continuous values.\n",
    "\n",
    "Multinomial Naive Bayes: This classifier is suitable for discrete count data, such as word counts in text classification. It assumes that the features are independent and follow a multinomial distribution, and is often used in text classification tasks where the features are counts of words or other discrete features.\n",
    "\n",
    "Bernoulli Naive Bayes: This classifier is suitable for binary data, such as presence or absence of a feature. It assumes that the features are independent and follow a Bernoulli distribution, and is often used in text classification tasks where the features are binary indicators of whether a word or other feature is present or not.\n",
    "\n",
    "In practice, the choice of which type of Naive Bayes classifier to use often depends on the nature of the data and the specific problem at hand. It is often a good idea to try out all three types of classifiers and compare their performance on the given task. In addition, other factors such as the size and quality of the training data, the computational resources available, and the specific requirements of the application may also influence the choice of classifier.\n",
    "\"\"\""
   ]
  },
  {
   "cell_type": "code",
   "execution_count": null,
   "id": "258e2471-6bb8-471d-8f94-8f2c33f87c51",
   "metadata": {},
   "outputs": [],
   "source": [
    "\"\"\"\n",
    "Q6.You have a dataset with two features, X1 and X2, and two possible classes, A and B. You want to use Naive\n",
    "Bayes to classify a new instance with features X1 = 3 and X2 = 4. The following table shows the frequency of\n",
    "each feature value for each class:\n",
    "Class X1=1 X1=2 X1=3 X2=1 X2=2 X2=3 X2=4\n",
    "A 3 3 4 4 3 3 3\n",
    "B 2 2 1 2 2 2 3\n",
    "Assuming equal prior probabilities for each class, which class would Naive Bayes predict the new instance\n",
    "to belong to?\n",
    "\"\"\""
   ]
  },
  {
   "cell_type": "code",
   "execution_count": null,
   "id": "3221a6a9-398b-4d87-9cac-04469b7073eb",
   "metadata": {},
   "outputs": [],
   "source": [
    "\"\"\"\n",
    "To classify the new instance with features X1 = 3 and X2 = 4, we can use Naive Bayes by calculating the conditional probabilities of each class given the feature values. Since we assume equal prior probabilities for each class, we can ignore the prior probabilities in this case.\n",
    "\n",
    "To calculate the conditional probabilities, we first need to estimate the class-conditional probability density functions for each feature, given each class. We can assume that each feature follows a Gaussian distribution, and estimate the mean and variance for each feature in each class based on the training data.\n",
    "\n",
    "For example, for class A, we can estimate the mean and variance of X1 as:\n",
    "\n",
    "mean(X1|A) = (13 + 23 + 34) / (3+3+4) = 2.83\n",
    "var(X1|A) = ((1-2.83)^23 + (2-2.83)^23 + (3-2.83)^24) / (3+3+4) = 0.47\n",
    "\n",
    "Similarly, we can estimate the mean and variance of X2 for class A as:\n",
    "\n",
    "mean(X2|A) = (14 + 23 + 33 + 43) / (4+3+3+3) = 3\n",
    "var(X2|A) = ((1-3)^24 + (2-3)^23 + (3-3)^23 + (4-3)^23) / (4+3+3+3) = 1.33\n",
    "\n",
    "We can do the same for class B:\n",
    "\n",
    "mean(X1|B) = (12 + 22 + 31) / (2+2+1) = 2\n",
    "var(X1|B) = ((1-2)^22 + (2-2)^22 + (3-2)^21) / (2+2+1) = 0.67\n",
    "\n",
    "mean(X2|B) = (12 + 22 + 32 + 43) / (2+2+2+3) = 2.5\n",
    "var(X2|B) = ((1-2.5)^22 + (2-2.5)^22 + (3-2.5)^22 + (4-2.5)^23) / (2+2+2+3) = 1.25\n",
    "\n",
    "Using these estimates, we can calculate the conditional probabilities of each class given the new instance with features X1 = 3 and X2 = 4:\n",
    "\n",
    "P(A|X1=3,X2=4) = P(X1=3|A)P(X2=4|A)P(A) = 0.220.030.5 = 0.0033\n",
    "P(B|X1=3,X2=4) = P(X1=3|B)P(X2=4|B)P(B) = 0.090.150.5 = 0.0068\n",
    "\n",
    "Since P(B|X1=3,X2=4) > P(A|X1=3,X2=4), Naive Bayes would predict that the new instance belongs to class B.\n",
    "\"\"\""
   ]
  },
  {
   "cell_type": "code",
   "execution_count": null,
   "id": "8b84795d-8867-4155-a713-e923f532541b",
   "metadata": {},
   "outputs": [],
   "source": []
  },
  {
   "cell_type": "code",
   "execution_count": null,
   "id": "468b7a01-7b1b-4656-af57-2b69ae5d54ea",
   "metadata": {},
   "outputs": [],
   "source": []
  }
 ],
 "metadata": {
  "kernelspec": {
   "display_name": "Python 3 (ipykernel)",
   "language": "python",
   "name": "python3"
  },
  "language_info": {
   "codemirror_mode": {
    "name": "ipython",
    "version": 3
   },
   "file_extension": ".py",
   "mimetype": "text/x-python",
   "name": "python",
   "nbconvert_exporter": "python",
   "pygments_lexer": "ipython3",
   "version": "3.10.8"
  }
 },
 "nbformat": 4,
 "nbformat_minor": 5
}
