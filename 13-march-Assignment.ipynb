{
 "cells": [
  {
   "cell_type": "code",
   "execution_count": null,
   "id": "70e9d50d-d58a-472f-b75b-35be12a8b072",
   "metadata": {},
   "outputs": [],
   "source": [
    "\"\"\n",
    "Q1. Explain the assumptions required to use ANOVA and provide examples of violations that could impact\n",
    "the validity of the results.\n",
    "\"\""
   ]
  },
  {
   "cell_type": "code",
   "execution_count": null,
   "id": "4cd5eab6-ade2-4fda-81df-6fd674ddd635",
   "metadata": {},
   "outputs": [],
   "source": [
    "\"\"\n",
    "ANOVA (Analysis of Variance) is a statistical technique used to test whether there is a significant difference between the means of three or more groups. ANOVA relies on certain assumptions to be met for its results to be valid. The assumptions required for ANOVA are:\n",
    "\n",
    "Independence: The observations in each group are independent of each other.\n",
    "Normality: The distribution of scores within each group is approximately normal.\n",
    "Homogeneity of variance: The variance of scores within each group is approximately equal.\n",
    "If these assumptions are violated, the validity of the ANOVA results may be compromised. Examples of violations that could impact the validity of the results include:\n",
    "\n",
    "Non-independence: If observations within a group are correlated with each other, such as repeated measurements on the same individual or clustered data, ANOVA may produce inaccurate results.\n",
    "Non-normality: If the distribution of scores within a group is not approximately normal, ANOVA may produce inaccurate results. For example, if the distribution is heavily skewed or has extreme outliers.\n",
    "Heterogeneity of variance: If the variance of scores within groups is not approximately equal, ANOVA may produce inaccurate results. This can occur if one or more groups have much larger variances than the others.\n",
    "In such situations, alternative methods may need to be used. For example, nonparametric tests, such as the Kruskal-Wallis test, may be used instead of ANOVA when the normality assumption is violated.\n",
    "\n",
    "\"\""
   ]
  },
  {
   "cell_type": "code",
   "execution_count": null,
   "id": "cb7e418c-5093-473b-b137-b7f83057e737",
   "metadata": {},
   "outputs": [],
   "source": [
    "#Q2. What are the three types of ANOVA, and in what situations would each be used?"
   ]
  },
  {
   "cell_type": "code",
   "execution_count": null,
   "id": "398c5161-eeb3-48d3-bd18-23b1d26153c2",
   "metadata": {},
   "outputs": [],
   "source": [
    "The three types of ANOVA are:\n",
    "\n",
    "One-Way ANOVA: This type of ANOVA is used when there is one independent variable with three or more levels (or groups). It is used to test whether there is a significant difference between the means of the groups. For example, a One-Way ANOVA can be used to compare the mean scores of students in different classes or different schools.\n",
    "\n",
    "Two-Way ANOVA: This type of ANOVA is used when there are two independent variables, each with two or more levels. It is used to test whether there are significant main effects of each independent variable and whether there is a significant interaction effect between the two independent variables. For example, a Two-Way ANOVA can be used to examine whether there is a significant difference in the mean scores of students in different classes (one independent variable) and whether this effect differs by gender (second independent variable).\n",
    "\n",
    "Repeated Measures ANOVA: This type of ANOVA is used when the same individuals are measured on the same variable under different conditions or at different time points. It is used to test whether there is a significant difference between the means of the conditions or time points. For example, a Repeated Measures ANOVA can be used to examine whether there is a significant difference in the mean scores of students before and after an intervention or whether there is a significant difference in the mean scores of patients at different time points during a treatment.\n",
    "\n",
    "Each type of ANOVA is used in different situations depending on the research question and design of the study. One-Way ANOVA is used when there is one independent variable, Two-Way ANOVA is used when there are two independent variables, and Repeated Measures ANOVA is used when the same individuals are measured on the same variable under different conditions or time points."
   ]
  },
  {
   "cell_type": "code",
   "execution_count": null,
   "id": "6eeddb2f-e596-4695-83fc-3d5a4d876b0c",
   "metadata": {},
   "outputs": [],
   "source": [
    "#Q3. What is the partitioning of variance in ANOVA, and why is it important to understand this concept?"
   ]
  },
  {
   "cell_type": "code",
   "execution_count": null,
   "id": "153b4c18-bafa-4b8b-bec6-83b7ea92582f",
   "metadata": {},
   "outputs": [],
   "source": [
    "\"\"\n",
    "The partitioning of variance in ANOVA refers to the division of the total variance in the data into different sources of variation that can be attributed to different factors or variables. This is done by decomposing the total variance in the data into two or more components: the variance between groups (also known as the \"treatment\" or \"factor\" variance) and the variance within groups (also known as the \"error\" or \"residual\" variance).\n",
    "\n",
    "The between-groups variance represents the variation in the data that can be attributed to the differences between the groups being compared, while the within-groups variance represents the variation in the data that cannot be attributed to the group differences but rather reflects the natural variability of the data within each group. By partitioning the variance in this way, ANOVA allows researchers to determine whether any observed differences between groups are likely due to chance or whether they are statistically significant.\n",
    "\n",
    "Understanding the partitioning of variance is important because it helps researchers to interpret the results of ANOVA and determine whether any observed differences between groups are statistically significant or simply due to chance. It also provides insights into the relative importance of different sources of variation in the data, which can help inform future research and experimental designs. Finally, understanding the partitioning of variance is important for selecting appropriate post-hoc tests and estimating effect sizes.\n",
    "\n",
    "\n",
    "\n",
    "\n",
    "\n",
    "\"\""
   ]
  },
  {
   "cell_type": "code",
   "execution_count": null,
   "id": "c7d32bdb-f0b5-4c8f-92e4-7cabd5d233cb",
   "metadata": {},
   "outputs": [],
   "source": [
    "\"\"\n",
    "Q4. How would you calculate the total sum of squares (SST), explained sum of squares (SSE), and residual\n",
    "sum of squares (SSR) in a one-way ANOVA using Python?\n",
    "\n",
    "\"\""
   ]
  },
  {
   "cell_type": "code",
   "execution_count": null,
   "id": "8cf43dca-437a-4dcd-a0a9-c137e1ad92ff",
   "metadata": {},
   "outputs": [],
   "source": [
    "import pandas as pd\n",
    "import statsmodels.api as sm\n",
    "from statsmodels.formula.api import ols\n",
    "\n",
    "# Load the data into a pandas dataframe\n",
    "data = pd.read_csv('data.csv')\n",
    "\n",
    "# Fit the one-way ANOVA model\n",
    "model = ols('score ~ group', data=data).fit()\n",
    "\n",
    "# Calculate the total sum of squares (SST)\n",
    "ss_total = sm.stats.anova_lm(model, typ=1)['sum_sq'][0]\n",
    "\n",
    "# Calculate the explained sum of squares (SSE)\n",
    "ss_explained = sm.stats.anova_lm(model, typ=1)['sum_sq'][1]\n",
    "\n",
    "# Calculate the residual sum of squares (SSR)\n",
    "ss_residual = ss_total - ss_explained\n",
    "\n",
    "print('Total sum of squares (SST):', ss_total)\n",
    "print('Explained sum of squares (SSE):', ss_explained)\n",
    "print('Residual sum of squares (SSR):', ss_residual)\n"
   ]
  },
  {
   "cell_type": "code",
   "execution_count": null,
   "id": "d05522ae-e1a9-4c89-bb04-87ee25ee4e1b",
   "metadata": {},
   "outputs": [],
   "source": [
    "#Q5. In a two-way ANOVA, how would you calculate the main effects and interaction effects using Python?"
   ]
  },
  {
   "cell_type": "code",
   "execution_count": null,
   "id": "72f9c4d3-1f9e-4f7a-bd5e-238ffdc5393e",
   "metadata": {},
   "outputs": [],
   "source": [
    "\n",
    "import pandas as pd\n",
    "import statsmodels.api as sm\n",
    "from statsmodels.formula.api import ols\n",
    "\n",
    "# Load the data into a pandas dataframe\n",
    "data = pd.read_csv('data.csv')\n",
    "\n",
    "# Fit the two-way ANOVA model\n",
    "model = ols('score ~ group1 + group2 + group1:group2', data=data).fit()\n",
    "\n",
    "# Calculate the main effects\n",
    "main_effects = model.params[:-1]\n",
    "\n",
    "# Calculate the interaction effect\n",
    "interaction_effect = model.params[-1]\n",
    "\n",
    "print('Main effects:', main_effects)\n",
    "print('Interaction effect:', interaction_effect)\n"
   ]
  },
  {
   "cell_type": "code",
   "execution_count": null,
   "id": "aa37fa39-fcdb-49cb-a747-dd88c7c56d53",
   "metadata": {},
   "outputs": [],
   "source": [
    "\"\"\n",
    "Q6. Suppose you conducted a one-way ANOVA and obtained an F-statistic of 5.23 and a p-value of 0.02.\n",
    "What can you conclude about the differences between the groups, and how would you interpret these\n",
    "results?\n",
    "\"\""
   ]
  },
  {
   "cell_type": "code",
   "execution_count": null,
   "id": "941117a6-a71d-48b5-b1eb-5f1a10d26907",
   "metadata": {},
   "outputs": [],
   "source": [
    "\n",
    "\"\"\n",
    "If a one-way ANOVA produces an F-statistic of 5.23 and a p-value of 0.02, it indicates that there is a significant difference between the groups. In particular, it suggests that the null hypothesis of equal means across all groups can be rejected at a significance level of 0.05 or lower.\n",
    "\n",
    "To interpret these results, we can examine the F-statistic and the p-value. The F-statistic measures the ratio of between-group variability to within-group variability, and a larger F-statistic indicates that the differences between the groups are more significant. In this case, the F-statistic of 5.23 suggests that there is a moderate-to-strong difference between the groups.\n",
    "\n",
    "The p-value, on the other hand, measures the probability of observing such an extreme F-statistic by chance alone, assuming that the null hypothesis is true. A p-value of 0.02 indicates that there is only a 2% chance of observing such a large F-statistic if the null hypothesis were true. Therefore, we can reject the null hypothesis and conclude that there is a significant difference between the groups.\n",
    "\n",
    "In summary, if a one-way ANOVA produces an F-statistic of 5.23 and a p-value of 0.02, we can conclude that there is a significant difference between the groups, and that the differences are moderate-to-strong.\n",
    "\n",
    "\"\"\n"
   ]
  },
  {
   "cell_type": "code",
   "execution_count": null,
   "id": "b2fc39ca-6bf6-41cf-b609-ac7e912bed2d",
   "metadata": {},
   "outputs": [],
   "source": [
    "\"\"\n",
    "Q7. In a repeated measures ANOVA, how would you handle missing data, and what are the potential\n",
    "consequences of using different methods to handle missing data?\n",
    "\n",
    "\"\""
   ]
  },
  {
   "cell_type": "code",
   "execution_count": null,
   "id": "4623f0d8-0d7e-4572-82c7-e5db9588cad2",
   "metadata": {},
   "outputs": [],
   "source": [
    "\"\"\n",
    "In a repeated measures ANOVA, missing data can be handled using various methods, depending on the nature of the missingness and the assumptions made about the data. Here are some common methods for handling missing data in repeated measures ANOVA:\n",
    "\n",
    "Listwise deletion: This method involves deleting any cases that have missing values on any of the variables used in the analysis. This method is easy to implement but can lead to loss of statistical power and biased results if the missingness is not completely at random.\n",
    "\n",
    "Pairwise deletion: This method involves using all available data for each comparison, even if some cases have missing values on some of the variables. This method can be more efficient than listwise deletion, but can also lead to biased results if the missingness is not completely at random.\n",
    "\n",
    "Imputation: This method involves estimating the missing values based on the observed values of the other variables. There are various methods of imputation, such as mean imputation, regression imputation, and multiple imputation. Imputation can help retain statistical power and reduce bias, but it also relies on assumptions about the data and the imputation method used.\n",
    "\n",
    "The potential consequences of using different methods to handle missing data in repeated measures ANOVA are as follows:\n",
    "\n",
    "Listwise deletion can lead to a loss of statistical power and biased results, especially if the missing data is not completely at random.\n",
    "\n",
    "Pairwise deletion can lead to biased results if the missing data is not completely at random.\n",
    "\n",
    "Imputation can retain statistical power and reduce bias, but the accuracy of the imputed values depends on the quality of the imputation method and the assumptions made about the data.\n",
    "\n",
    "Therefore, it is important to carefully evaluate the nature of the missing data and choose an appropriate method of handling missing data that is consistent with the assumptions made about the data. It is also important to report the method used to handle missing data in the analysis to ensure transparency and reproducibility of the results.\n",
    "\n",
    "\"\""
   ]
  },
  {
   "cell_type": "code",
   "execution_count": null,
   "id": "17f107e1-83f6-4877-8f4c-54f2f8ccbcb7",
   "metadata": {},
   "outputs": [],
   "source": [
    "\"\"\n",
    "Q8. What are some common post-hoc tests used after ANOVA, and when would you use each one? Provide\n",
    "an example of a situation where a post-hoc test might be necessary.\n",
    "\"\""
   ]
  },
  {
   "cell_type": "code",
   "execution_count": null,
   "id": "33c697ca-6d4a-4ecb-8933-9873508faaac",
   "metadata": {},
   "outputs": [],
   "source": [
    "\"\"\n",
    "Post-hoc tests are used after conducting an ANOVA to determine which specific groups have significant differences in their means. Here are some common post-hoc tests used in ANOVA, along with examples of situations where they might be used:\n",
    "\n",
    "Tukey's HSD (honestly significant difference): This test compares the mean difference between all pairs of groups and adjusts for multiple comparisons. It is often used when there are more than two groups and the research question involves identifying which specific groups differ significantly from each other.\n",
    "Example: A researcher is conducting an experiment to compare the effectiveness of four different medications for treating a particular condition. After conducting an ANOVA, the researcher wants to determine which specific medications have significantly different mean effectiveness scores.\n",
    "\n",
    "Bonferroni correction: This test adjusts the significance level for multiple comparisons to control for the family-wise error rate. It is often used when multiple pairwise comparisons are being made, and there is a risk of falsely rejecting the null hypothesis.\n",
    "Example: A researcher is conducting an experiment to compare the effectiveness of three different teaching methods for improving student performance on a particular exam. After conducting an ANOVA, the researcher wants to determine whether each of the three teaching methods produces significantly different mean exam scores.\n",
    "\n",
    "Dunnett's test: This test compares the mean difference between each treatment group and a control group. It is often used when the research question involves comparing several treatment groups to a single control group.\n",
    "Example: A researcher is conducting an experiment to compare the effects of three different diets on weight loss, with a control group that does not follow any specific diet. After conducting an ANOVA, the researcher wants to determine whether each of the three diets produces significantly different mean weight loss compared to the control group.\n",
    "\n",
    "Scheffe's test: This test compares the mean difference between each treatment group and the overall mean. It is often used when the research question involves comparing several treatment groups to a general population mean.\n",
    "Example: A researcher is conducting an experiment to compare the effects of four different exercise programs on improving cardiovascular health. After conducting an ANOVA, the researcher wants to determine whether each of the four exercise programs produces significantly different mean cardiovascular health scores compared to the general population mean.\n",
    "\n",
    "In summary, post-hoc tests are used after conducting ANOVA to determine which specific groups have significant differences in their means. The choice of post-hoc test depends on the research question and the number of groups being compared. A post-hoc test might be necessary when the ANOVA shows that there is a significant difference among the groups, but does not specify which specific groups are different from each other.\n",
    "\n",
    "\n",
    "\n",
    "\n",
    "\n",
    "\"\""
   ]
  },
  {
   "cell_type": "code",
   "execution_count": null,
   "id": "38646aa3-385b-4e85-a169-e90f6fcc2279",
   "metadata": {},
   "outputs": [],
   "source": [
    "\"\"\n",
    "Q9. A researcher wants to compare the mean weight loss of three diets: A, B, and C. They collect data from\n",
    "50 participants who were randomly assigned to one of the diets. Conduct a one-way ANOVA using Python\n",
    "to determine if there are any significant differences between the mean weight loss of the three diets.\n",
    "Report the F-statistic and p-value, and interpret the results.\n",
    "\n",
    "\"\""
   ]
  },
  {
   "cell_type": "code",
   "execution_count": 3,
   "id": "3a60f3a9-25f8-4cb0-878d-c93918cc2504",
   "metadata": {},
   "outputs": [
    {
     "name": "stdout",
     "output_type": "stream",
     "text": [
      "F-statistic: 27.089667116788075\n",
      "p-value: 9.648208034964242e-11\n"
     ]
    }
   ],
   "source": [
    "import numpy as np\n",
    "from scipy.stats import f_oneway\n",
    "\n",
    "# Generate random weight loss data for each diet\n",
    "np.random.seed(123)\n",
    "diet_a = np.random.normal(5, 1, 50)\n",
    "diet_b = np.random.normal(4.5, 1, 50)\n",
    "diet_c = np.random.normal(6, 1, 50)\n",
    "\n",
    "# Conduct one-way ANOVA\n",
    "f_stat, p_value = f_oneway(diet_a, diet_b, diet_c)\n",
    "\n",
    "# Print results\n",
    "print(\"F-statistic:\", f_stat)\n",
    "print(\"p-value:\", p_value)\n"
   ]
  },
  {
   "cell_type": "code",
   "execution_count": null,
   "id": "d926830e-e741-4dc2-8e80-9612878ec4e6",
   "metadata": {},
   "outputs": [],
   "source": [
    "\"\"\n",
    "\n",
    "Q10. A company wants to know if there are any significant differences in the average time it takes to\n",
    "complete a task using three different software programs: Program A, Program B, and Program C. They\n",
    "randomly assign 30 employees to one of the programs and record the time it takes each employee to\n",
    "complete the task. Conduct a two-way ANOVA using Python to determine if there are any main effects or\n",
    "interaction effects between the software programs and employee experience level (novice vs.\n",
    "experienced). Report the F-statistics and p-values, and interpret the results.\n",
    "\n",
    "\"\""
   ]
  },
  {
   "cell_type": "code",
   "execution_count": 4,
   "id": "54a61030-144b-46c2-b0d5-31c9c112dd5b",
   "metadata": {},
   "outputs": [
    {
     "name": "stdout",
     "output_type": "stream",
     "text": [
      "                        sum_sq    df         F    PR(>F)\n",
      "program               1.376957   2.0  0.073063  0.789062\n",
      "experience                 NaN   1.0       NaN       NaN\n",
      "program:experience  120.333333   2.0  6.385034  0.017931\n",
      "Residual            245.000000  26.0       NaN       NaN\n"
     ]
    },
    {
     "name": "stderr",
     "output_type": "stream",
     "text": [
      "/opt/conda/lib/python3.10/site-packages/statsmodels/base/model.py:1871: ValueWarning: covariance of constraints does not have full rank. The number of constraints is 2, but rank is 1\n",
      "  warnings.warn('covariance of constraints does not have full '\n",
      "/opt/conda/lib/python3.10/site-packages/statsmodels/base/model.py:1871: ValueWarning: covariance of constraints does not have full rank. The number of constraints is 1, but rank is 0\n",
      "  warnings.warn('covariance of constraints does not have full '\n",
      "/opt/conda/lib/python3.10/site-packages/statsmodels/base/model.py:1900: RuntimeWarning: invalid value encountered in divide\n",
      "  F /= J\n",
      "/opt/conda/lib/python3.10/site-packages/statsmodels/base/model.py:1871: ValueWarning: covariance of constraints does not have full rank. The number of constraints is 2, but rank is 1\n",
      "  warnings.warn('covariance of constraints does not have full '\n"
     ]
    }
   ],
   "source": [
    "import pandas as pd\n",
    "import statsmodels.api as sm\n",
    "from statsmodels.formula.api import ols\n",
    "\n",
    "# Create a dataframe with the task completion time data\n",
    "data = {'time': [12, 11, 10, 14, 13, 12, 18, 17, 16, 20, 19, 18, 24, 23, 22,\n",
    "                 15, 14, 13, 16, 15, 14, 20, 19, 18, 22, 21, 20, 26, 25, 24],\n",
    "        'program': ['A']*10 + ['B']*10 + ['C']*10,\n",
    "        'experience': ['Novice']*15 + ['Experienced']*15}\n",
    "\n",
    "df = pd.DataFrame(data)\n",
    "\n",
    "# Fit the two-way ANOVA model\n",
    "model = ols('time ~ program + experience + program:experience', data=df).fit()\n",
    "anova_table = sm.stats.anova_lm(model, typ=2)\n",
    "\n",
    "# Print the ANOVA table\n",
    "print(anova_table)\n"
   ]
  },
  {
   "cell_type": "code",
   "execution_count": null,
   "id": "c664239f-2b79-4fb1-9acb-09b95d65d104",
   "metadata": {},
   "outputs": [],
   "source": [
    "\"\"\n",
    "Q11. An educational researcher is interested in whether a new teaching method improves student test\n",
    "scores. They randomly assign 100 students to either the control group (traditional teaching method) or the\n",
    "experimental group (new teaching method) and administer a test at the end of the semester. Conduct a\n",
    "two-sample t-test using Python to determine if there are any significant differences in test scores\n",
    "between the two groups. If the results are significant, follow up with a post-hoc test to determine which\n",
    "group(s) differ significantly from each other.\n",
    "\"\""
   ]
  },
  {
   "cell_type": "code",
   "execution_count": null,
   "id": "4dfbc08e-2ad5-48e2-9eb2-84f43be24929",
   "metadata": {},
   "outputs": [],
   "source": [
    "import pandas as pd\n",
    "import scipy.stats as stats\n",
    "from statsmodels.stats.multicomp import pairwise_tukeyhsd\n",
    "\n",
    "# load data\n",
    "data = pd.read_csv(\"test_scores.csv\")\n",
    "\n",
    "# conduct two-sample t-test\n",
    "control_scores = data[data[\"group\"] == \"control\"][\"score\"]\n",
    "experimental_scores = data[data[\"group\"] == \"experimental\"][\"score\"]\n",
    "t_stat, p_val = stats.ttest_ind(control_scores, experimental_scores)\n",
    "\n",
    "print(\"Two-sample t-test results:\")\n",
    "print(f\"t-statistic: {t_stat:.2f}\")\n",
    "print(f\"p-value: {p_val:.4f}\")\n",
    "\n",
    "# conduct post-hoc test\n",
    "tukey_results = pairwise_tukeyhsd(data[\"score\"], data[\"group\"])\n",
    "\n",
    "print(\"\\nPost-hoc test results:\")\n",
    "print(tukey_results.summary())\n"
   ]
  },
  {
   "cell_type": "code",
   "execution_count": null,
   "id": "06e990c6-39a3-4070-a3e6-015f33e56df2",
   "metadata": {},
   "outputs": [],
   "source": [
    "\"\"\n",
    "Q12. A researcher wants to know if there are any significant differences in the average daily sales of three\n",
    "retail stores: Store A, Store B, and Store C. They randomly select 30 days and record the sales for each store\n",
    "on those days. Conduct a repeated measures ANOVA using Python to determine if there are any\n",
    "\n",
    "significant differences in sales between the three stores. If the results are significant, follow up with a post-\n",
    "hoc test to determine which store(s) differ significantly from each other.\n",
    "\n",
    "\"\""
   ]
  },
  {
   "cell_type": "code",
   "execution_count": null,
   "id": "c88c6b7f-3ca4-43bd-a3c9-e674974e4eed",
   "metadata": {},
   "outputs": [],
   "source": [
    "import pandas as pd\n",
    "import statsmodels.api as sm\n",
    "from statsmodels.formula.api import ols\n",
    "\n",
    "# create a dataframe with sales data\n",
    "sales_data = pd.DataFrame({\n",
    "    'Store': ['A']*30 + ['B']*30 + ['C']*30,\n",
    "    'Day': list(range(1, 31))*3,\n",
    "    'Sales': [10, 11, 9, 12, 10, 11, 13, 12, 14, 11, 10, 9, 10, 12, 11, 13, 11, 10, 12, 13, 12, 14, 13, 11, 10, 12, 11, 10, 9, 8] + \n",
    "             [8, 9, 7, 10, 8, 9, 11, 10, 12, 9, 8, 7, 8, 10, 9, 11, 9, 8, 10, 11, 10, 12, 11, 9, 8, 10, 9, 8, 7, 6] +\n",
    "             [6, 7, 5, 8, 6, 7, 9, 8, 10, 7, 6, 5, 6, 8, 7, 9, 7, 6, 8, 9, 8, 10, 9, 7, 6, 8, 7, 6, 5, 4]\n",
    "})\n",
    "\n",
    "# conduct repeated measures ANOVA\n",
    "rm = ols('Sales ~ C(Store, Sum)*C(Day, Sum)', data=sales_data).fit()\n",
    "sm.stats.anova_lm(rm, typ=3)\n",
    "\n",
    "# conduct post-hoc tests (Tukey HSD)\n",
    "from statsmodels.stats.multicomp import MultiComparison\n",
    "mc = MultiComparison(sales_data['Sales'], sales_data['Store'])\n",
    "tukey_result = mc.tukeyhsd()\n",
    "print(tukey_result)\n"
   ]
  },
  {
   "cell_type": "code",
   "execution_count": null,
   "id": "0f8d61bf-23e7-4109-8027-eeff67b91432",
   "metadata": {},
   "outputs": [],
   "source": []
  },
  {
   "cell_type": "code",
   "execution_count": null,
   "id": "f5644aa1-e98a-401f-91b0-08a79a177561",
   "metadata": {},
   "outputs": [],
   "source": []
  },
  {
   "cell_type": "code",
   "execution_count": null,
   "id": "dd309dd2-95dc-4b50-9c2a-b58cd06bdcf1",
   "metadata": {},
   "outputs": [],
   "source": []
  }
 ],
 "metadata": {
  "kernelspec": {
   "display_name": "Python 3 (ipykernel)",
   "language": "python",
   "name": "python3"
  },
  "language_info": {
   "codemirror_mode": {
    "name": "ipython",
    "version": 3
   },
   "file_extension": ".py",
   "mimetype": "text/x-python",
   "name": "python",
   "nbconvert_exporter": "python",
   "pygments_lexer": "ipython3",
   "version": "3.10.8"
  }
 },
 "nbformat": 4,
 "nbformat_minor": 5
}
