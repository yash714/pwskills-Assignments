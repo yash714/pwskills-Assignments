{
 "cells": [
  {
   "cell_type": "code",
   "execution_count": 1,
   "id": "f47e8bc1",
   "metadata": {},
   "outputs": [],
   "source": [
    "# Q1. What is Exception in python ? Difference between Exception and syntax error ."
   ]
  },
  {
   "cell_type": "markdown",
   "id": "946079da",
   "metadata": {},
   "source": [
    "\"\"\"\n",
    "Ans. In Python, an exception is an error that occurs during the execution of a program. When an error occurs, Python creates an exception object, which contains information about the error, such as the type of error and where it occurred in the program.\n",
    "\n",
    "Exceptions are used to handle errors and unexpected situations in a program. By handling exceptions, a program can gracefully recover from errors and continue executing, instead of crashing or producing incorrect results.\n",
    "\n",
    "A syntax error, on the other hand, is a type of error that occurs when there is a problem with the syntax of the code. For example, if you forget to close a parenthesis or misspell a keyword, you will get a syntax error.\n",
    "\n",
    "The main difference between an exception and a syntax error is that an exception is a runtime error that occurs when a program is executing, while a syntax error is a compile-time error that occurs before the program is executed. Another difference is that syntax errors are typically easier to fix than exceptions, as they usually indicate a clear mistake in the code, whereas exceptions can be caused by a variety of factors and require more careful debugging.\n",
    "\n",
    "\"\"\""
   ]
  },
  {
   "cell_type": "code",
   "execution_count": null,
   "id": "ff3cc415",
   "metadata": {},
   "outputs": [],
   "source": [
    "# Q2. What happen when exception is not handled ?Explain with example."
   ]
  },
  {
   "cell_type": "markdown",
   "id": "3a71a503",
   "metadata": {},
   "source": [
    "\"\"\"\n",
    "Ans.  When an exception is not handled in a Python program, it will cause the program to terminate abruptly and display an error message or traceback. The error message will contain information about the type of exception that was raised and the line number where it occurred.\n",
    "\n",
    "Here's an example of what happens when an exception is not handled:\n",
    "\n",
    "# Example code that raises an exception but doesn't handle it\n",
    "\n",
    "num1 = 10\n",
    "num2 = 0\n",
    "result = num1 / num2\n",
    "print(result)\n",
    "\n",
    "Traceback (most recent call last):\n",
    "  File \"example.py\", line 4, in <module>\n",
    "    result = num1 / num2\n",
    "ZeroDivisionError: division by zero\n",
    "\n",
    "\n",
    "\n",
    "\"\"\""
   ]
  },
  {
   "cell_type": "code",
   "execution_count": 2,
   "id": "33a03c37",
   "metadata": {},
   "outputs": [],
   "source": [
    "# Q3. Which python statement are used to catch and handle excption ? Explain with example."
   ]
  },
  {
   "cell_type": "markdown",
   "id": "3fbda6c9",
   "metadata": {},
   "source": [
    "\n",
    "\"\"\"\n",
    "Ans. Python provides a mechanism for catching and handling exceptions using the try and except statements. The try block contains the code that may raise an exception, while the except block contains the code that handles the exception if it occurs.\n",
    "\n",
    "num1 = 10\n",
    "num2 = 0\n",
    "\n",
    "try:\n",
    "    result = num1 / num2\n",
    "    print(result)\n",
    "except ZeroDivisionError:\n",
    "    print(\"Error: Cannot divide by zero.\")\n",
    "\n",
    "\n",
    "\"\"\""
   ]
  },
  {
   "cell_type": "code",
   "execution_count": null,
   "id": "f39d9e3d",
   "metadata": {},
   "outputs": [],
   "source": [
    "\"\"\"\n",
    "# Q4. explain with example \n",
    "     (a) try and else\n",
    "     (b)finally\n",
    "     (c) raise\n",
    "\"\"\""
   ]
  },
  {
   "cell_type": "markdown",
   "id": "da03bfe5",
   "metadata": {},
   "source": [
    "\n",
    "\"\"\"\n",
    "Ans. try and else statements:\n",
    "In addition to the except statement, Python also provides an else statement that can be used with the try statement. The code inside the else block will be executed if no exception is raised in the try block.\n",
    "\n",
    "try:\n",
    "    num1 = int(input(\"Enter a number: \"))\n",
    "    num2 = int(input(\"Enter another number: \"))\n",
    "    result = num1 / num2\n",
    "except ZeroDivisionError:\n",
    "    print(\"Error: Cannot divide by zero.\")\n",
    "else:\n",
    "    print(\"Result:\", result)\n",
    "\n",
    "\n",
    "finally statement:\n",
    "Python also provides a finally statement that can be used with the try statement. The code inside the finally block will be executed regardless of whether an exception is raised or not. This is useful for cleaning up resources or closing files that were opened in the try block.\n",
    "\n",
    "try:\n",
    "    file = open(\"example.txt\", \"r\")\n",
    "    # code that reads from the file\n",
    "except IOError:\n",
    "    print(\"Error: Cannot open file.\")\n",
    "finally:\n",
    "    file.close()\n",
    "\n",
    "\n",
    "raise statement:\n",
    "Python provides a raise statement that can be used to raise exceptions programmatically. This is useful when you need to raise a specific exception in response to a certain condition in your code.\n",
    "\n",
    "age = int(input(\"Enter your age: \"))\n",
    "if age < 0:\n",
    "    raise ValueError(\"Error: Age cannot be negative.\")\n",
    "\n",
    "\n",
    "\"\"\""
   ]
  },
  {
   "cell_type": "code",
   "execution_count": null,
   "id": "f94a22cd",
   "metadata": {},
   "outputs": [],
   "source": [
    "#  Q5. What are Custom Exceptions in python? Why do we need Custom Exceptions? Explain with an example?"
   ]
  },
  {
   "cell_type": "markdown",
   "id": "96484c6e",
   "metadata": {},
   "source": [
    "\"\"\"\n",
    "\n",
    "Ans.Custom Exceptions in Python are user-defined exceptions that are created to handle specific errors or exceptional situations that are not handled by the built-in exceptions in Python.\n",
    "\n",
    "We need Custom Exceptions because sometimes the built-in exceptions may not be enough to handle all the exceptional situations in our program. By creating our own exceptions, we can provide more specific and meaningful error messages to the users of our program, making it easier for them to understand and troubleshoot errors.\n",
    "\n",
    "Here's an example of how to create and use a custom exception in Python:\n",
    "\n",
    "\n",
    "class NegativeNumberError(Exception):\n",
    "    def __init__(self, message):\n",
    "        self.message = message\n",
    "        \n",
    "num = int(input(\"Enter a positive number: \"))\n",
    "\n",
    "try:\n",
    "    if num < 0:\n",
    "        raise NegativeNumberError(\"Error: Number cannot be negative.\")\n",
    "except NegativeNumberError as e:\n",
    "    print(e.message)\n",
    "\n",
    "\n",
    "\n",
    "\"\"\""
   ]
  },
  {
   "cell_type": "code",
   "execution_count": 3,
   "id": "4117e6e2",
   "metadata": {},
   "outputs": [],
   "source": [
    "#  Q6. create a  Custom Exceptions class. Use this class to handle an Exceptions"
   ]
  },
  {
   "cell_type": "code",
   "execution_count": 4,
   "id": "61935be1",
   "metadata": {},
   "outputs": [
    {
     "name": "stdout",
     "output_type": "stream",
     "text": [
      "Enter an item name: asf\n",
      "Error: asf is out of stock.\n"
     ]
    }
   ],
   "source": [
    "#Ans.\n",
    "\n",
    "class OutOfStockError(Exception):\n",
    "    def __init__(self, item):\n",
    "        self.item = item\n",
    "        self.message = f\"Error: {item} is out of stock.\"\n",
    "        \n",
    "item = input(\"Enter an item name: \")\n",
    "\n",
    "try:\n",
    "    # code to check if the item is in stock\n",
    "    if item not in [\"apple\", \"banana\", \"orange\"]:\n",
    "        raise OutOfStockError(item)\n",
    "except OutOfStockError as e:\n",
    "    print(e.message)\n"
   ]
  },
  {
   "cell_type": "code",
   "execution_count": null,
   "id": "6a805655",
   "metadata": {},
   "outputs": [],
   "source": []
  }
 ],
 "metadata": {
  "kernelspec": {
   "display_name": "Python 3 (ipykernel)",
   "language": "python",
   "name": "python3"
  },
  "language_info": {
   "codemirror_mode": {
    "name": "ipython",
    "version": 3
   },
   "file_extension": ".py",
   "mimetype": "text/x-python",
   "name": "python",
   "nbconvert_exporter": "python",
   "pygments_lexer": "ipython3",
   "version": "3.9.7"
  }
 },
 "nbformat": 4,
 "nbformat_minor": 5
}
