{
 "cells": [
  {
   "cell_type": "code",
   "execution_count": null,
   "id": "6ca2b7ea-afcd-4800-b4f5-36724641f50a",
   "metadata": {},
   "outputs": [],
   "source": [
    "\"\"\"\n",
    "What are the different data structures used in Tensorflow?. Give some examplesc\n",
    "\"\"\""
   ]
  },
  {
   "cell_type": "code",
   "execution_count": null,
   "id": "361a1564-462a-4c84-b02f-98fc6775a0e6",
   "metadata": {},
   "outputs": [],
   "source": [
    "\"\"\"\n",
    "In TensorFlow, there are several data structures used for representing and manipulating data. Here are the main ones along with examples:\n",
    "\n",
    "Tensors: Tensors are multi-dimensional arrays used to store and compute numerical data. They can represent scalars, vectors, matrices, or higher-dimensional arrays. For example, a tensor can store pixel values of an image or feature vectors in a dataset.\n",
    "\n",
    "Variables: Variables are mutable tensors that hold values during computation. They are often used to store model parameters that need to be optimized, such as weights and biases in neural networks. For instance, in a linear regression model, a variable can represent the slope and intercept of the regression line.\n",
    "\n",
    "Constants: Constants are tensors with fixed values that remain unchanged throughout the computation. They are typically used to store hyperparameters or other fixed values. An example of a constant can be the number of classes in a classification problem.\n",
    "\n",
    "Placeholders: Placeholders act as input nodes in the computational graph and are used for dynamic data feeding during execution. They allow data to be supplied later during runtime. For example, a placeholder can be used to feed batches of images or sequences of different lengths into a model.\n",
    "\n",
    "Sparse Tensors: Sparse tensors are designed to efficiently represent and process tensors with a large number of zero or sparse values. They store only the non-zero elements along with their indices, saving memory and computation time. Sparse tensors are commonly used in tasks involving sparse data, such as natural language processing.\n",
    "\n",
    "DataSets: DataSets provide an abstraction for handling large datasets and enable efficient data loading, preprocessing, and batching. They allow for easy iteration over the data during model training or evaluation. For instance, a dataset can represent a collection of images or a sequence of text documents.\n",
    "\n",
    "Ragged Tensors: Ragged Tensors are used to represent tensors with varying lengths along one or more dimensions. They are suitable for handling data with irregular shapes, such as sequences of different lengths or nested structures. For example, a ragged tensor can represent sentences of varying lengths in a language model.\n",
    "\n",
    "These data structures form the foundation for representing and manipulating data in TensorFlow. Each structure serves a specific purpose and is used in different contexts to facilitate efficient computation and training of machine learning models.\n",
    "\"\"\""
   ]
  },
  {
   "cell_type": "code",
   "execution_count": null,
   "id": "b70e2d0a-b28c-432d-ad40-1cbca361612a",
   "metadata": {},
   "outputs": [],
   "source": [
    "\"\"\"\n",
    "How does the TensorFlow constant differ from a TensorFlow variable? Explain with an example\n",
    "\"\"\""
   ]
  },
  {
   "cell_type": "code",
   "execution_count": null,
   "id": "0e4dd986-deee-4ceb-813f-0d9a91378156",
   "metadata": {},
   "outputs": [],
   "source": [
    "\"\"\"\n",
    "TensorFlow Constant:\n",
    "A TensorFlow constant is a data structure that holds a fixed value throughout the computation. It is immutable, meaning its value cannot be changed once it is defined. Constants are typically used to store fixed values like hyperparameters or input data that remain the same during the execution of the computational graph.\n",
    "\n",
    "TensorFlow Variable:\n",
    "A TensorFlow variable, on the other hand, is a mutable data structure that can hold values that are updated during the computation. Variables are typically used to store model parameters that need to be optimized, such as weights and biases in neural networks. Unlike constants, variables can be modified and updated during training or optimization processes.\n",
    "\n",
    "In summary, TensorFlow constants hold fixed values throughout the computation, while TensorFlow variables are mutable and can be updated during the computation, typically used for model parameters. Constants are immutable and cannot be changed, while variables are mutable and can be optimized or updated during training or optimization processes.\n",
    "\"\"\""
   ]
  },
  {
   "cell_type": "code",
   "execution_count": null,
   "id": "719dee54-efe1-4b30-abaa-4dcc93e18cba",
   "metadata": {},
   "outputs": [],
   "source": [
    "\"\"\"\n",
    "Describe the process of matrix addition, multiplication, and elementDwise operations in TensorFlow.\n",
    "\"\"\""
   ]
  },
  {
   "cell_type": "code",
   "execution_count": null,
   "id": "abac7f28-7f56-44cd-a0d1-cb42a3efdca3",
   "metadata": {},
   "outputs": [],
   "source": [
    "\"\"\"\n",
    "In TensorFlow, matrix addition, multiplication, and element-wise operations are fundamental mathematical operations that can be performed on tensors. Here's a description of each process:\n",
    "\n",
    "Matrix Addition:\n",
    "Matrix addition involves adding two matrices of the same shape element-wise. In TensorFlow, you can perform matrix addition using the tf.add() function or the + operator.\n",
    "\n",
    "import tensorflow as tf\n",
    "\n",
    "# Define two matrices\n",
    "matrix1 = tf.constant([[1, 2], [3, 4]])\n",
    "matrix2 = tf.constant([[5, 6], [7, 8]])\n",
    "\n",
    "# Perform matrix addition\n",
    "result = tf.add(matrix1, matrix2)\n",
    "\n",
    "# Create a TensorFlow session and run the computation\n",
    "with tf.Session() as sess:\n",
    "    output = sess.run(result)\n",
    "    print(output)  # Output: [[6, 8], [10, 12]]\n",
    "Matrix Multiplication:\n",
    "Matrix multiplication involves multiplying two matrices, and the number of columns in the first matrix must match the number of rows in the second matrix. In TensorFlow, you can use the tf.matmul() function to perform matrix multiplication.\n",
    "\n",
    "\n",
    "import tensorflow as tf\n",
    "\n",
    "# Define two matrices\n",
    "matrix1 = tf.constant([[1, 2], [3, 4]])\n",
    "matrix2 = tf.constant([[5, 6], [7, 8]])\n",
    "\n",
    "# Perform matrix multiplication\n",
    "result = tf.matmul(matrix1, matrix2)\n",
    "\n",
    "# Create a TensorFlow session and run the computation\n",
    "with tf.Session() as sess:\n",
    "    output = sess.run(result)\n",
    "    print(output)  # Output: [[19, 22], [43, 50]]\n",
    "\n",
    "Element-wise Operations:\n",
    "Element-wise operations are operations performed independently on corresponding elements of two tensors of the same shape. TensorFlow provides various element-wise operations, such as element-wise addition (tf.add()), element-wise subtraction (tf.subtract()), element-wise multiplication (tf.multiply()), element-wise division (tf.divide()), and more.\n",
    "\n",
    "import tensorflow as tf\n",
    "\n",
    "# Define two tensors\n",
    "tensor1 = tf.constant([1, 2, 3])\n",
    "tensor2 = tf.constant([4, 5, 6])\n",
    "\n",
    "# Perform element-wise addition\n",
    "add_result = tf.add(tensor1, tensor2)\n",
    "\n",
    "# Perform element-wise multiplication\n",
    "mul_result = tf.multiply(tensor1, tensor2)\n",
    "\n",
    "# Create a TensorFlow session and run the computations\n",
    "with tf.Session() as sess:\n",
    "    add_output = sess.run(add_result)\n",
    "    mul_output = sess.run(mul_result)\n",
    "    print(add_output)  # Output: [5, 7, 9]\n",
    "    print(mul_output)  # Output: [4, 10, 18]\n",
    "\n",
    "\"\"\""
   ]
  },
  {
   "cell_type": "code",
   "execution_count": null,
   "id": "b5e73702-960d-4609-ade6-3c06dd5d7db4",
   "metadata": {},
   "outputs": [],
   "source": [
    "\"\"\"\n",
    "Create a normal matrix A with dimensions 2x2, using TensorFlow's random_normal function. Display the\n",
    "values of matrix A\n",
    "\"\"\""
   ]
  },
  {
   "cell_type": "code",
   "execution_count": 2,
   "id": "c6573fae-6455-4db2-9f6b-09875ec26492",
   "metadata": {},
   "outputs": [
    {
     "name": "stdout",
     "output_type": "stream",
     "text": [
      "Collecting tensorflow\n",
      "  Downloading tensorflow-2.13.0-cp310-cp310-manylinux_2_17_x86_64.manylinux2014_x86_64.whl (524.1 MB)\n",
      "\u001b[2K     \u001b[90m━━━━━━━━━━━━━━━━━━━━━━━━━━━━━━━━━━━━━━━\u001b[0m \u001b[32m524.1/524.1 MB\u001b[0m \u001b[31m3.1 MB/s\u001b[0m eta \u001b[36m0:00:00\u001b[0m00:01\u001b[0m00:01\u001b[0m\n",
      "\u001b[?25hCollecting grpcio<2.0,>=1.24.3\n",
      "  Downloading grpcio-1.56.0-cp310-cp310-manylinux_2_17_x86_64.manylinux2014_x86_64.whl (5.2 MB)\n",
      "\u001b[2K     \u001b[90m━━━━━━━━━━━━━━━━━━━━━━━━━━━━━━━━━━━━━━━━\u001b[0m \u001b[32m5.2/5.2 MB\u001b[0m \u001b[31m55.5 MB/s\u001b[0m eta \u001b[36m0:00:00\u001b[0mta \u001b[36m0:00:01\u001b[0m\n",
      "\u001b[?25hRequirement already satisfied: setuptools in /opt/conda/lib/python3.10/site-packages (from tensorflow) (65.5.1)\n",
      "Collecting opt-einsum>=2.3.2\n",
      "  Downloading opt_einsum-3.3.0-py3-none-any.whl (65 kB)\n",
      "\u001b[2K     \u001b[90m━━━━━━━━━━━━━━━━━━━━━━━━━━━━━━━━━━━━━━━━\u001b[0m \u001b[32m65.5/65.5 kB\u001b[0m \u001b[31m12.8 MB/s\u001b[0m eta \u001b[36m0:00:00\u001b[0m\n",
      "\u001b[?25hCollecting astunparse>=1.6.0\n",
      "  Downloading astunparse-1.6.3-py2.py3-none-any.whl (12 kB)\n",
      "Requirement already satisfied: typing-extensions<4.6.0,>=3.6.6 in /opt/conda/lib/python3.10/site-packages (from tensorflow) (4.4.0)\n",
      "Collecting absl-py>=1.0.0\n",
      "  Downloading absl_py-1.4.0-py3-none-any.whl (126 kB)\n",
      "\u001b[2K     \u001b[90m━━━━━━━━━━━━━━━━━━━━━━━━━━━━━━━━━━━━━━\u001b[0m \u001b[32m126.5/126.5 kB\u001b[0m \u001b[31m21.1 MB/s\u001b[0m eta \u001b[36m0:00:00\u001b[0m\n",
      "\u001b[?25hCollecting flatbuffers>=23.1.21\n",
      "  Downloading flatbuffers-23.5.26-py2.py3-none-any.whl (26 kB)\n",
      "Collecting gast<=0.4.0,>=0.2.1\n",
      "  Downloading gast-0.4.0-py3-none-any.whl (9.8 kB)\n",
      "Collecting keras<2.14,>=2.13.1\n",
      "  Downloading keras-2.13.1-py3-none-any.whl (1.7 MB)\n",
      "\u001b[2K     \u001b[90m━━━━━━━━━━━━━━━━━━━━━━━━━━━━━━━━━━━━━━━━\u001b[0m \u001b[32m1.7/1.7 MB\u001b[0m \u001b[31m72.6 MB/s\u001b[0m eta \u001b[36m0:00:00\u001b[0m\n",
      "\u001b[?25hCollecting termcolor>=1.1.0\n",
      "  Downloading termcolor-2.3.0-py3-none-any.whl (6.9 kB)\n",
      "Collecting wrapt>=1.11.0\n",
      "  Downloading wrapt-1.15.0-cp310-cp310-manylinux_2_5_x86_64.manylinux1_x86_64.manylinux_2_17_x86_64.manylinux2014_x86_64.whl (78 kB)\n",
      "\u001b[2K     \u001b[90m━━━━━━━━━━━━━━━━━━━━━━━━━━━━━━━━━━━━━━━━\u001b[0m \u001b[32m78.4/78.4 kB\u001b[0m \u001b[31m13.3 MB/s\u001b[0m eta \u001b[36m0:00:00\u001b[0m\n",
      "\u001b[?25hRequirement already satisfied: packaging in /opt/conda/lib/python3.10/site-packages (from tensorflow) (22.0)\n",
      "Requirement already satisfied: numpy<=1.24.3,>=1.22 in /opt/conda/lib/python3.10/site-packages (from tensorflow) (1.23.5)\n",
      "Collecting tensorboard<2.14,>=2.13\n",
      "  Downloading tensorboard-2.13.0-py3-none-any.whl (5.6 MB)\n",
      "\u001b[2K     \u001b[90m━━━━━━━━━━━━━━━━━━━━━━━━━━━━━━━━━━━━━━━━\u001b[0m \u001b[32m5.6/5.6 MB\u001b[0m \u001b[31m78.2 MB/s\u001b[0m eta \u001b[36m0:00:00\u001b[0m:00:01\u001b[0m00:01\u001b[0m\n",
      "\u001b[?25hRequirement already satisfied: six>=1.12.0 in /opt/conda/lib/python3.10/site-packages (from tensorflow) (1.16.0)\n",
      "Requirement already satisfied: h5py>=2.9.0 in /opt/conda/lib/python3.10/site-packages (from tensorflow) (3.7.0)\n",
      "Collecting tensorflow-io-gcs-filesystem>=0.23.1\n",
      "  Downloading tensorflow_io_gcs_filesystem-0.32.0-cp310-cp310-manylinux_2_12_x86_64.manylinux2010_x86_64.whl (2.4 MB)\n",
      "\u001b[2K     \u001b[90m━━━━━━━━━━━━━━━━━━━━━━━━━━━━━━━━━━━━━━━━\u001b[0m \u001b[32m2.4/2.4 MB\u001b[0m \u001b[31m79.8 MB/s\u001b[0m eta \u001b[36m0:00:00\u001b[0m\n",
      "\u001b[?25hCollecting libclang>=13.0.0\n",
      "  Downloading libclang-16.0.0-py2.py3-none-manylinux2010_x86_64.whl (22.9 MB)\n",
      "\u001b[2K     \u001b[90m━━━━━━━━━━━━━━━━━━━━━━━━━━━━━━━━━━━━━━━━\u001b[0m \u001b[32m22.9/22.9 MB\u001b[0m \u001b[31m58.5 MB/s\u001b[0m eta \u001b[36m0:00:00\u001b[0m00:01\u001b[0m00:01\u001b[0m\n",
      "\u001b[?25hCollecting google-pasta>=0.1.1\n",
      "  Downloading google_pasta-0.2.0-py3-none-any.whl (57 kB)\n",
      "\u001b[2K     \u001b[90m━━━━━━━━━━━━━━━━━━━━━━━━━━━━━━━━━━━━━━━━\u001b[0m \u001b[32m57.5/57.5 kB\u001b[0m \u001b[31m12.1 MB/s\u001b[0m eta \u001b[36m0:00:00\u001b[0m\n",
      "\u001b[?25hCollecting tensorflow-estimator<2.14,>=2.13.0\n",
      "  Downloading tensorflow_estimator-2.13.0-py2.py3-none-any.whl (440 kB)\n",
      "\u001b[2K     \u001b[90m━━━━━━━━━━━━━━━━━━━━━━━━━━━━━━━━━━━━━━\u001b[0m \u001b[32m440.8/440.8 kB\u001b[0m \u001b[31m47.5 MB/s\u001b[0m eta \u001b[36m0:00:00\u001b[0m\n",
      "\u001b[?25hRequirement already satisfied: protobuf!=4.21.0,!=4.21.1,!=4.21.2,!=4.21.3,!=4.21.4,!=4.21.5,<5.0.0dev,>=3.20.3 in /opt/conda/lib/python3.10/site-packages (from tensorflow) (4.21.11)\n",
      "Requirement already satisfied: wheel<1.0,>=0.23.0 in /opt/conda/lib/python3.10/site-packages (from astunparse>=1.6.0->tensorflow) (0.38.4)\n",
      "Collecting werkzeug>=1.0.1\n",
      "  Downloading Werkzeug-2.3.6-py3-none-any.whl (242 kB)\n",
      "\u001b[2K     \u001b[90m━━━━━━━━━━━━━━━━━━━━━━━━━━━━━━━━━━━━━━\u001b[0m \u001b[32m242.5/242.5 kB\u001b[0m \u001b[31m33.0 MB/s\u001b[0m eta \u001b[36m0:00:00\u001b[0m\n",
      "\u001b[?25hRequirement already satisfied: requests<3,>=2.21.0 in /opt/conda/lib/python3.10/site-packages (from tensorboard<2.14,>=2.13->tensorflow) (2.28.1)\n",
      "Collecting google-auth-oauthlib<1.1,>=0.5\n",
      "  Downloading google_auth_oauthlib-1.0.0-py2.py3-none-any.whl (18 kB)\n",
      "Collecting google-auth<3,>=1.6.3\n",
      "  Downloading google_auth-2.21.0-py2.py3-none-any.whl (182 kB)\n",
      "\u001b[2K     \u001b[90m━━━━━━━━━━━━━━━━━━━━━━━━━━━━━━━━━━━━━━\u001b[0m \u001b[32m182.1/182.1 kB\u001b[0m \u001b[31m26.0 MB/s\u001b[0m eta \u001b[36m0:00:00\u001b[0m\n",
      "\u001b[?25hCollecting markdown>=2.6.8\n",
      "  Downloading Markdown-3.4.3-py3-none-any.whl (93 kB)\n",
      "\u001b[2K     \u001b[90m━━━━━━━━━━━━━━━━━━━━━━━━━━━━━━━━━━━━━━━━\u001b[0m \u001b[32m93.9/93.9 kB\u001b[0m \u001b[31m18.6 MB/s\u001b[0m eta \u001b[36m0:00:00\u001b[0m\n",
      "\u001b[?25hCollecting tensorboard-data-server<0.8.0,>=0.7.0\n",
      "  Downloading tensorboard_data_server-0.7.1-py3-none-manylinux2014_x86_64.whl (6.6 MB)\n",
      "\u001b[2K     \u001b[90m━━━━━━━━━━━━━━━━━━━━━━━━━━━━━━━━━━━━━━━━\u001b[0m \u001b[32m6.6/6.6 MB\u001b[0m \u001b[31m79.2 MB/s\u001b[0m eta \u001b[36m0:00:00\u001b[0m:00:01\u001b[0m00:01\u001b[0m\n",
      "\u001b[?25hCollecting pyasn1-modules>=0.2.1\n",
      "  Downloading pyasn1_modules-0.3.0-py2.py3-none-any.whl (181 kB)\n",
      "\u001b[2K     \u001b[90m━━━━━━━━━━━━━━━━━━━━━━━━━━━━━━━━━━━━━━\u001b[0m \u001b[32m181.3/181.3 kB\u001b[0m \u001b[31m29.6 MB/s\u001b[0m eta \u001b[36m0:00:00\u001b[0m\n",
      "\u001b[?25hCollecting rsa<5,>=3.1.4\n",
      "  Downloading rsa-4.9-py3-none-any.whl (34 kB)\n",
      "Requirement already satisfied: urllib3<2.0 in /opt/conda/lib/python3.10/site-packages (from google-auth<3,>=1.6.3->tensorboard<2.14,>=2.13->tensorflow) (1.26.13)\n",
      "Collecting cachetools<6.0,>=2.0.0\n",
      "  Downloading cachetools-5.3.1-py3-none-any.whl (9.3 kB)\n",
      "Collecting requests-oauthlib>=0.7.0\n",
      "  Downloading requests_oauthlib-1.3.1-py2.py3-none-any.whl (23 kB)\n",
      "Requirement already satisfied: certifi>=2017.4.17 in /opt/conda/lib/python3.10/site-packages (from requests<3,>=2.21.0->tensorboard<2.14,>=2.13->tensorflow) (2022.12.7)\n",
      "Requirement already satisfied: idna<4,>=2.5 in /opt/conda/lib/python3.10/site-packages (from requests<3,>=2.21.0->tensorboard<2.14,>=2.13->tensorflow) (3.4)\n",
      "Requirement already satisfied: charset-normalizer<3,>=2 in /opt/conda/lib/python3.10/site-packages (from requests<3,>=2.21.0->tensorboard<2.14,>=2.13->tensorflow) (2.1.1)\n",
      "Requirement already satisfied: MarkupSafe>=2.1.1 in /opt/conda/lib/python3.10/site-packages (from werkzeug>=1.0.1->tensorboard<2.14,>=2.13->tensorflow) (2.1.1)\n",
      "Collecting pyasn1<0.6.0,>=0.4.6\n",
      "  Downloading pyasn1-0.5.0-py2.py3-none-any.whl (83 kB)\n",
      "\u001b[2K     \u001b[90m━━━━━━━━━━━━━━━━━━━━━━━━━━━━━━━━━━━━━━━━\u001b[0m \u001b[32m83.9/83.9 kB\u001b[0m \u001b[31m15.5 MB/s\u001b[0m eta \u001b[36m0:00:00\u001b[0m\n",
      "\u001b[?25hRequirement already satisfied: oauthlib>=3.0.0 in /opt/conda/lib/python3.10/site-packages (from requests-oauthlib>=0.7.0->google-auth-oauthlib<1.1,>=0.5->tensorboard<2.14,>=2.13->tensorflow) (3.2.2)\n",
      "Installing collected packages: libclang, flatbuffers, wrapt, werkzeug, termcolor, tensorflow-io-gcs-filesystem, tensorflow-estimator, tensorboard-data-server, pyasn1, opt-einsum, markdown, keras, grpcio, google-pasta, gast, cachetools, astunparse, absl-py, rsa, requests-oauthlib, pyasn1-modules, google-auth, google-auth-oauthlib, tensorboard, tensorflow\n",
      "Successfully installed absl-py-1.4.0 astunparse-1.6.3 cachetools-5.3.1 flatbuffers-23.5.26 gast-0.4.0 google-auth-2.21.0 google-auth-oauthlib-1.0.0 google-pasta-0.2.0 grpcio-1.56.0 keras-2.13.1 libclang-16.0.0 markdown-3.4.3 opt-einsum-3.3.0 pyasn1-0.5.0 pyasn1-modules-0.3.0 requests-oauthlib-1.3.1 rsa-4.9 tensorboard-2.13.0 tensorboard-data-server-0.7.1 tensorflow-2.13.0 tensorflow-estimator-2.13.0 tensorflow-io-gcs-filesystem-0.32.0 termcolor-2.3.0 werkzeug-2.3.6 wrapt-1.15.0\n",
      "Note: you may need to restart the kernel to use updated packages.\n"
     ]
    }
   ],
   "source": [
    "pip install tensorflow"
   ]
  },
  {
   "cell_type": "code",
   "execution_count": 4,
   "id": "143c788a-719c-49ba-b9e5-51cd6f2b7f45",
   "metadata": {},
   "outputs": [
    {
     "name": "stdout",
     "output_type": "stream",
     "text": [
      "[[-1.0676268  -0.63347346]\n",
      " [ 0.11149683 -0.2084231 ]]\n"
     ]
    }
   ],
   "source": [
    "import tensorflow as tf\n",
    "\n",
    "# Create a 2x2 matrix with random values from a normal distribution\n",
    "matrix_A = tf.random.normal(shape=[2, 2])\n",
    "\n",
    "# Evaluate the matrix A\n",
    "matrix_A_values = matrix_A.numpy()\n",
    "\n",
    "print(matrix_A_values)\n",
    "\n"
   ]
  },
  {
   "cell_type": "code",
   "execution_count": null,
   "id": "28bae9f2-83ae-4e6b-bb25-384640f312f7",
   "metadata": {},
   "outputs": [],
   "source": [
    "\"\"\"\n",
    "Create a Gaussian matrix B with dimensions x, using TensorFlow's truncated_normal function. Display\n",
    "the values of matrix B\n",
    "\"\"\""
   ]
  },
  {
   "cell_type": "code",
   "execution_count": 5,
   "id": "90616ab6-af35-4ae2-8ef8-f73162caba4d",
   "metadata": {},
   "outputs": [
    {
     "name": "stdout",
     "output_type": "stream",
     "text": [
      "[[ 0.17954552 -0.77694553  0.32544723]\n",
      " [-0.15327774 -0.2201873  -0.00501105]\n",
      " [ 0.03726806  1.3235157   1.3204999 ]]\n"
     ]
    }
   ],
   "source": [
    "import tensorflow as tf\n",
    "\n",
    "# User-defined dimensions of matrix B\n",
    "x = 3\n",
    "\n",
    "# Create a Gaussian matrix B with dimensions x\n",
    "matrix_B = tf.random.truncated_normal(shape=[x, x])\n",
    "\n",
    "# Evaluate the matrix B\n",
    "matrix_B_values = matrix_B.numpy()\n",
    "\n",
    "print(matrix_B_values)\n"
   ]
  },
  {
   "cell_type": "code",
   "execution_count": null,
   "id": "9de74195-9444-4578-8589-3180f60680d8",
   "metadata": {},
   "outputs": [],
   "source": [
    "\"\"\"\n",
    "Create a matrix C with dimensions 2x2, where the values are drawn from a normal distribution with a\n",
    "mean of 2 and a standard deviation of 0.x, using TensorFlow's random.normal function. Display the values\n",
    "of matrix C\n",
    "\"\"\""
   ]
  },
  {
   "cell_type": "code",
   "execution_count": 6,
   "id": "ef27e3ff-7b8e-403b-b741-dc2e7fa9179b",
   "metadata": {},
   "outputs": [
    {
     "name": "stdout",
     "output_type": "stream",
     "text": [
      "[[1.1856809 2.1039488]\n",
      " [2.0745816 2.119531 ]]\n"
     ]
    }
   ],
   "source": [
    "import tensorflow as tf\n",
    "\n",
    "# User-defined standard deviation value\n",
    "std_dev = 0.5\n",
    "\n",
    "# Create a 2x2 matrix with values drawn from normal distribution\n",
    "matrix_C = tf.random.normal(shape=[2, 2], mean=2, stddev=std_dev)\n",
    "\n",
    "# Evaluate the matrix C\n",
    "matrix_C_values = matrix_C.numpy()\n",
    "\n",
    "print(matrix_C_values)\n"
   ]
  },
  {
   "cell_type": "code",
   "execution_count": null,
   "id": "a5245490-8996-48b1-a004-0b54a1d8406d",
   "metadata": {},
   "outputs": [],
   "source": [
    "\"\"\"\n",
    "Perform matrix addition between matrix A and matrix B, and store the result in matrix D\n",
    "\"\"\""
   ]
  },
  {
   "cell_type": "code",
   "execution_count": 7,
   "id": "8653d110-3a60-45a7-b254-a90ced24c767",
   "metadata": {},
   "outputs": [
    {
     "name": "stdout",
     "output_type": "stream",
     "text": [
      "[[1.7457513 1.5709536]\n",
      " [3.0827885 2.8590744]]\n"
     ]
    }
   ],
   "source": [
    "import tensorflow as tf\n",
    "\n",
    "# User-defined standard deviation value\n",
    "std_dev = 0.5\n",
    "\n",
    "# Create a 2x2 matrix with values drawn from normal distribution\n",
    "matrix_D = tf.random.normal(shape=[2, 2], mean=2, stddev=std_dev)\n",
    "\n",
    "# Evaluate the matrix C\n",
    "matrix_D_values = matrix_D.numpy()\n",
    "\n",
    "print(matrix_D_values)\n"
   ]
  },
  {
   "cell_type": "code",
   "execution_count": null,
   "id": "b8a4e725-dcaf-4b70-af4e-5b1df5bbe3a9",
   "metadata": {},
   "outputs": [],
   "source": [
    "\"\"\"\n",
    "Perform matrix multiplication between matrix C and matrix D, and store the result in matrix E.\n",
    "\"\"\""
   ]
  },
  {
   "cell_type": "code",
   "execution_count": 9,
   "id": "2101de4d-e5fb-42aa-979e-260dbffddc0a",
   "metadata": {},
   "outputs": [
    {
     "name": "stdout",
     "output_type": "stream",
     "text": [
      "[[19 22]\n",
      " [43 50]]\n"
     ]
    }
   ],
   "source": [
    "import tensorflow as tf\n",
    "\n",
    "# Define matrix C and matrix D\n",
    "matrix_C = tf.constant([[1, 2], [3, 4]])\n",
    "matrix_D = tf.constant([[5, 6], [7, 8]])\n",
    "\n",
    "# Perform matrix multiplication\n",
    "matrix_E = tf.matmul(matrix_C, matrix_D)\n",
    "\n",
    "# Evaluate the matrix E\n",
    "matrix_E_values = matrix_E.numpy()\n",
    "\n",
    "print(matrix_E_values)\n"
   ]
  },
  {
   "cell_type": "code",
   "execution_count": null,
   "id": "e313e03c-b154-46c6-97ad-11f488eac03e",
   "metadata": {},
   "outputs": [],
   "source": [
    "\"\"\"\n",
    "Create a matrix F with dimensions 2x2, initialized with random values using TensorFlow's random_uniform\n",
    "function\n",
    "\"\"\""
   ]
  },
  {
   "cell_type": "code",
   "execution_count": 10,
   "id": "480b6d6d-b47f-4b38-a3aa-cf6685f865ad",
   "metadata": {},
   "outputs": [
    {
     "name": "stdout",
     "output_type": "stream",
     "text": [
      "[[0.32744145 0.4168886 ]\n",
      " [0.63192    0.16145468]]\n"
     ]
    }
   ],
   "source": [
    "import tensorflow as tf\n",
    "\n",
    "# Create a 2x2 matrix with random values from a uniform distribution\n",
    "matrix_F = tf.random.uniform(shape=[2, 2])\n",
    "\n",
    "# Evaluate the matrix F\n",
    "matrix_F_values = matrix_F.numpy()\n",
    "\n",
    "print(matrix_F_values)\n"
   ]
  },
  {
   "cell_type": "code",
   "execution_count": null,
   "id": "6c6c6a21-6428-486f-a8c3-2b61c87d85c8",
   "metadata": {},
   "outputs": [],
   "source": [
    "\"\"\"\n",
    "Calculate the transpose of matrix F and store the result in matrix Gc\n",
    "\"\"\""
   ]
  },
  {
   "cell_type": "code",
   "execution_count": 11,
   "id": "5b5ccd77-9722-432a-b3a9-3ebc4e8ec643",
   "metadata": {},
   "outputs": [
    {
     "name": "stdout",
     "output_type": "stream",
     "text": [
      "[[1 3]\n",
      " [2 4]]\n"
     ]
    }
   ],
   "source": [
    "import tensorflow as tf\n",
    "\n",
    "# Define matrix F\n",
    "matrix_F = tf.constant([[1, 2], [3, 4]])\n",
    "\n",
    "# Calculate the transpose of matrix F\n",
    "matrix_G = tf.transpose(matrix_F)\n",
    "\n",
    "# Evaluate the matrix G\n",
    "matrix_G_values = matrix_G.numpy()\n",
    "\n",
    "print(matrix_G_values)\n"
   ]
  },
  {
   "cell_type": "code",
   "execution_count": null,
   "id": "469be582-30c3-4895-a280-b84aced05ee7",
   "metadata": {},
   "outputs": [],
   "source": [
    "\"\"\"\n",
    "Calculate the element wise exponential of matrix F and store the result in matrix H\n",
    "\"\"\""
   ]
  },
  {
   "cell_type": "code",
   "execution_count": null,
   "id": "4003d308-9b98-4138-9bcd-243bc84b4116",
   "metadata": {},
   "outputs": [],
   "source": [
    "import tensorflow as tf\n",
    "\n",
    "# Define matrix F\n",
    "matrix_F = tf.constant([[1, 2], [3, 4]])\n",
    "\n",
    "# Calculate the element-wise exponential of matrix F\n",
    "matrix_H = tf.exp(matrix_F)\n",
    "\n",
    "# Evaluate the matrix H\n",
    "matrix_H_values = matrix_H.numpy()\n",
    "\n",
    "print(matrix_H_values)\n"
   ]
  },
  {
   "cell_type": "code",
   "execution_count": null,
   "id": "8bdc294f-d275-4f20-ba85-45a0eb52999f",
   "metadata": {},
   "outputs": [],
   "source": [
    "\"\"\"\n",
    " Create a matrix I by concatenating matrix F and matrix G horizontally\n",
    "\"\"\""
   ]
  },
  {
   "cell_type": "code",
   "execution_count": 13,
   "id": "f4839c63-b0a6-4018-8d1f-cab3fd9445da",
   "metadata": {},
   "outputs": [
    {
     "name": "stdout",
     "output_type": "stream",
     "text": [
      "[[1 2 5 6]\n",
      " [3 4 7 8]]\n"
     ]
    }
   ],
   "source": [
    "import tensorflow as tf\n",
    "\n",
    "# Define matrix F and matrix G\n",
    "matrix_F = tf.constant([[1, 2], [3, 4]])\n",
    "matrix_G = tf.constant([[5, 6], [7, 8]])\n",
    "\n",
    "# Concatenate matrix F and matrix G horizontally\n",
    "matrix_I = tf.concat([matrix_F, matrix_G], axis=1)\n",
    "\n",
    "# Evaluate the matrix I\n",
    "matrix_I_values = matrix_I.numpy()\n",
    "\n",
    "print(matrix_I_values)\n"
   ]
  },
  {
   "cell_type": "code",
   "execution_count": null,
   "id": "5a547f9c-47be-4a56-9a8d-44e1d5aa90a7",
   "metadata": {},
   "outputs": [],
   "source": [
    "\"\"\"\n",
    "Create a matrix J by concatenating matrix F and matrix H vertically.\n",
    "\"\"\""
   ]
  },
  {
   "cell_type": "code",
   "execution_count": null,
   "id": "3a77675f-f135-430b-91a5-da0fac99c832",
   "metadata": {},
   "outputs": [],
   "source": [
    "\n",
    "import tensorflow as tf\n",
    "\n",
    "# Define matrix F and matrix H\n",
    "matrix_F = tf.constant([[1, 2], [3, 4]])\n",
    "matrix_H = tf.constant([[2.718, 7.389], [20.086, 54.598]])\n",
    "\n",
    "# Concatenate matrix F and matrix H vertically\n",
    "matrix_J = tf.concat([matrix_F, matrix_H], axis=0)\n",
    "\n",
    "# Evaluate the matrix J\n",
    "matrix_J_values = matrix_J.numpy()\n",
    "\n",
    "print(matrix_J_values)"
   ]
  },
  {
   "cell_type": "code",
   "execution_count": null,
   "id": "89bbc2ca-70e3-4241-a54a-c2abcfa8afa7",
   "metadata": {},
   "outputs": [],
   "source": []
  }
 ],
 "metadata": {
  "kernelspec": {
   "display_name": "Python 3 (ipykernel)",
   "language": "python",
   "name": "python3"
  },
  "language_info": {
   "codemirror_mode": {
    "name": "ipython",
    "version": 3
   },
   "file_extension": ".py",
   "mimetype": "text/x-python",
   "name": "python",
   "nbconvert_exporter": "python",
   "pygments_lexer": "ipython3",
   "version": "3.10.8"
  }
 },
 "nbformat": 4,
 "nbformat_minor": 5
}
