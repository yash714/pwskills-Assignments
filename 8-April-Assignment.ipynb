{
 "cells": [
  {
   "cell_type": "code",
   "execution_count": null,
   "id": "0358b7b2-d30c-4bbf-90a1-9c5e76edb087",
   "metadata": {},
   "outputs": [],
   "source": [
    "\"\"\"\n",
    "Q1. In order to predict house price based on several characteristics, such as location, square footage,\n",
    "number of bedrooms, etc., you are developing an SVM regression model. Which regression metric in this\n",
    "situation would be the best to employ?\n",
    "\"\"\""
   ]
  },
  {
   "cell_type": "code",
   "execution_count": null,
   "id": "9c202bba-2730-4902-aaa1-79a138afcdc4",
   "metadata": {},
   "outputs": [],
   "source": [
    "\"\"\"\n",
    "In the case of an SVM regression model, some common regression metrics that can be used to evaluate the model's performance include mean squared error (MSE), mean absolute error (MAE), and R-squared (R2) score.\n",
    "\n",
    "MSE measures the average of the squared differences between predicted and actual values. MAE measures the average of the absolute differences between predicted and actual values. And R2 score measures the proportion of the variance in the dependent variable that is predictable from the independent variable.\n",
    "\n",
    "For predicting house prices, a commonly used regression metric is the root mean squared error (RMSE), which is the square root of the MSE. RMSE is often preferred over MSE because it is in the same units as the dependent variable (house price in this case) and thus is more interpretable.\n",
    "\n",
    "Therefore, RMSE would be the best regression metric to employ in this situation.\n",
    "\n",
    "\n",
    "\n",
    "\n",
    "\n",
    "\n",
    "Regenerate response\n",
    "\"\"\""
   ]
  },
  {
   "cell_type": "code",
   "execution_count": null,
   "id": "e3a4eb56-9bba-415a-b941-dbf1a6d83daf",
   "metadata": {},
   "outputs": [],
   "source": [
    "\"\"\"\n",
    "Q2. You have built an SVM regression model and are trying to decide between using MSE or R-squared as\n",
    "your evaluation metric. Which metric would be more appropriate if your goal is to predict the actual price\n",
    "of a house as accurately as possible?\n",
    "\"\"\""
   ]
  },
  {
   "cell_type": "code",
   "execution_count": null,
   "id": "4336ed0a-55d6-41e5-8dab-93d5511addbe",
   "metadata": {},
   "outputs": [],
   "source": [
    "\"\"\"\n",
    "If your goal is to predict the actual price of a house as accurately as possible, MSE would be the more appropriate evaluation metric to use for your SVM regression model.\n",
    "\n",
    "MSE measures the average of the squared differences between predicted and actual values, which means it puts more weight on large errors or outliers in the prediction. This is important when predicting house prices because even a small error in predicting a high-priced house can have a significant impact on the overall accuracy of the model.\n",
    "\n",
    "On the other hand, R-squared measures the proportion of the variance in the dependent variable that is predictable from the independent variable. While it is a useful metric for understanding how well the model fits the data, it does not directly measure the accuracy of the predictions.\n",
    "\n",
    "Therefore, if the goal is to predict the actual price of a house as accurately as possible, MSE would be the more appropriate evaluation metric to use.\n",
    "\"\"\""
   ]
  },
  {
   "cell_type": "code",
   "execution_count": null,
   "id": "3648eff5-b0ab-4a30-aa90-317363677cb4",
   "metadata": {},
   "outputs": [],
   "source": [
    "\"\"\"\n",
    "Q3. You have a dataset with a significant number of outliers and are trying to select an appropriate\n",
    "regression metric to use with your SVM model. Which metric would be the most appropriate in this\n",
    "scenario?\n",
    "\"\"\""
   ]
  },
  {
   "cell_type": "code",
   "execution_count": null,
   "id": "05c76708-3268-46aa-bebb-3b696e5fcf9c",
   "metadata": {},
   "outputs": [],
   "source": [
    "\"\"\"\n",
    "When dealing with a dataset that has a significant number of outliers, mean absolute error (MAE) would be the most appropriate regression metric to use with your SVM model.\n",
    "\n",
    "MSE, which measures the average of the squared differences between predicted and actual values, is more sensitive to outliers than MAE, which measures the average of the absolute differences between predicted and actual values. This means that MSE can be skewed by large errors or outliers, resulting in an inaccurate evaluation of the model's performance.\n",
    "\n",
    "On the other hand, MAE is less sensitive to outliers and provides a more robust measure of the model's performance. It gives equal weight to all errors, regardless of their magnitude, and is more suitable for datasets with significant outliers.\n",
    "\n",
    "Therefore, when dealing with a dataset that has a significant number of outliers, MAE would be the most appropriate regression metric to use with an SVM model.\n",
    "\"\"\""
   ]
  },
  {
   "cell_type": "code",
   "execution_count": null,
   "id": "6be7a7a4-44f1-4a28-9e56-b41f9e4aa749",
   "metadata": {},
   "outputs": [],
   "source": [
    "\"\"\"\n",
    "Q4. You have built an SVM regression model using a polynomial kernel and are trying to select the best\n",
    "metric to evaluate its performance. You have calculated both MSE and RMSE and found that both values\n",
    "are very close. Which metric should you choose to use in this case?\n",
    "\"\"\""
   ]
  },
  {
   "cell_type": "code",
   "execution_count": null,
   "id": "6b2e1122-4e38-4c54-9870-84b28ffde87f",
   "metadata": {},
   "outputs": [],
   "source": [
    "\"\"\"\n",
    "When both MSE and RMSE values are very close, either metric can be used to evaluate the performance of the SVM regression model using a polynomial kernel.\n",
    "\n",
    "MSE measures the average of the squared differences between predicted and actual values, while RMSE measures the square root of the MSE, which is in the same units as the dependent variable. Therefore, RMSE is more interpretable and easier to understand.\n",
    "\n",
    "However, both MSE and RMSE provide similar information about the model's performance, and the choice between them may depend on the context and the specific requirements of the project. In general, RMSE is more commonly used because it provides a more interpretable measure of the error in the dependent variable.\n",
    "\n",
    "Therefore, in this case, either MSE or RMSE can be used to evaluate the performance of the SVM regression model using a polynomial kernel, but RMSE may be the more preferred metric due to its interpretability.\n",
    "\n",
    "\"\"\""
   ]
  },
  {
   "cell_type": "code",
   "execution_count": null,
   "id": "dc9c72fa-e80b-4b20-aaa0-6aaf22a6214c",
   "metadata": {},
   "outputs": [],
   "source": [
    "\"\"\"\n",
    "Q5. You are comparing the performance of different SVM regression models using different kernels (linear,\n",
    "polynomial, and RBF) and are trying to select the best evaluation metric. Which metric would be most\n",
    "appropriate if your goal is to measure how well the model explains the variance in the target variable?\n",
    "\"\"\""
   ]
  },
  {
   "cell_type": "code",
   "execution_count": null,
   "id": "d7f93b98-b3b4-44ce-b928-867404a91b4b",
   "metadata": {},
   "outputs": [],
   "source": [
    "\"\"\"\n",
    "If the goal is to measure how well the SVM regression models using different kernels explain the variance in the target variable, the most appropriate evaluation metric would be the R-squared (R2) score.\n",
    "\n",
    "R2 score measures the proportion of the variance in the dependent variable that is predictable from the independent variable. It provides a measure of how well the model fits the data and explains the variation in the target variable. A high R2 score indicates that the model is able to explain a large proportion of the variance in the target variable, while a low R2 score indicates that the model is not able to explain much of the variation.\n",
    "\n",
    "Therefore, when comparing the performance of different SVM regression models using different kernels, the R2 score would be the most appropriate evaluation metric if the goal is to measure how well the model explains the variance in the target variable.\n",
    "\"\"\""
   ]
  },
  {
   "cell_type": "code",
   "execution_count": null,
   "id": "fbc70c37-3c61-40e8-8349-e290cbe33a05",
   "metadata": {},
   "outputs": [],
   "source": []
  }
 ],
 "metadata": {
  "kernelspec": {
   "display_name": "Python 3 (ipykernel)",
   "language": "python",
   "name": "python3"
  },
  "language_info": {
   "codemirror_mode": {
    "name": "ipython",
    "version": 3
   },
   "file_extension": ".py",
   "mimetype": "text/x-python",
   "name": "python",
   "nbconvert_exporter": "python",
   "pygments_lexer": "ipython3",
   "version": "3.10.8"
  }
 },
 "nbformat": 4,
 "nbformat_minor": 5
}
