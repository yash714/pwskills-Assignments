{
 "cells": [
  {
   "cell_type": "code",
   "execution_count": null,
   "id": "891d0a96-e1dc-4356-82e2-477c76190c16",
   "metadata": {},
   "outputs": [],
   "source": [
    "#Q1. What are the three measures of central tendency?"
   ]
  },
  {
   "cell_type": "code",
   "execution_count": null,
   "id": "efa5129c-a767-4dae-85a8-a3809125b4ba",
   "metadata": {},
   "outputs": [],
   "source": [
    "\"\"\"\n",
    "The three measures of central tendency are:\n",
    "\n",
    "Mean: The mean is the sum of all values in a dataset divided by the number of observations. It is the most commonly used measure of central tendency.\n",
    "\n",
    "Median: The median is the middle value in a dataset when the values are arranged in ascending or descending order. If the dataset has an even number of observations, then the median is the average of the two middle values.\n",
    "\n",
    "Mode: The mode is the value that occurs most frequently in a dataset. It is especially useful when dealing with categorical data or when looking for the most common value in a dataset.\n",
    "\"\"\""
   ]
  },
  {
   "cell_type": "code",
   "execution_count": null,
   "id": "745f0869-647e-4952-8aa2-7dc48f2949c2",
   "metadata": {},
   "outputs": [],
   "source": [
    "# Q2. What is the difference between the mean, median, and mode? How are they used to measure the central tendency of a dataset?"
   ]
  },
  {
   "cell_type": "code",
   "execution_count": null,
   "id": "39496169-5d02-41eb-bbc1-01cae5cb2275",
   "metadata": {},
   "outputs": [],
   "source": [
    "\"\"\"\n",
    "The mean, median, and mode are different measures of central tendency used to describe the \"typical\" value or central value of a dataset.\n",
    "\n",
    "The mean is the sum of all values in a dataset divided by the number of observations. It represents the arithmetic average of the dataset and is a commonly used measure of central tendency. The mean is sensitive to extreme values or outliers in the dataset, which can greatly affect its value.\n",
    "\n",
    "The median is the middle value in a dataset when the values are arranged in ascending or descending order. It represents the midpoint of the dataset and is useful when the data has outliers or extreme values that can distort the mean. The median is not affected by extreme values as it only considers the middle value(s) in the dataset.\n",
    "\n",
    "The mode is the value that occurs most frequently in a dataset. It represents the most common value in the dataset and is useful when dealing with categorical data or when looking for the most frequent occurrence in a dataset.\n",
    "\n",
    "All three measures are used to describe the central tendency of a dataset, but the choice of measure depends on the characteristics of the data. For example, if the data is symmetrically distributed around the central value, the mean and median will be approximately the same. However, if the data is skewed or has outliers, the median may be a better measure of central tendency. Similarly, the mode is useful when the data has distinct peaks or is categorical in nature.\n",
    "\"\"\""
   ]
  },
  {
   "cell_type": "code",
   "execution_count": null,
   "id": "f87b0d41-4125-44c3-94f7-42ebcf7def91",
   "metadata": {},
   "outputs": [],
   "source": [
    "\"\"\"\n",
    "Q3. Measure the three measures of central tendency for the given height data:\n",
    "[178,177,176,177,178.2,178,175,179,180,175,178.9,176.2,177,172.5,178,176.5]\n",
    "\n",
    "\"\"\""
   ]
  },
  {
   "cell_type": "code",
   "execution_count": null,
   "id": "21000711-27b6-4df8-97c9-76efb5a57e38",
   "metadata": {},
   "outputs": [],
   "source": [
    "\"\"\"\n",
    "To calculate the measures of central tendency for the given height data, we will use the following formulas:\n",
    "\n",
    "Mean = (sum of all values) / (number of values)\n",
    "\n",
    "Median = middle value in the sorted list of values\n",
    "\n",
    "Mode = the value that appears most frequently\n",
    "\n",
    "First, we will sort the data in ascending order:\n",
    "\n",
    "[172.5, 175, 175, 176, 176.2, 176.5, 177, 177, 178, 178, 178, 178.2, 178.9, 179, 180]\n",
    "\n",
    "Next, we can calculate the mean:\n",
    "\n",
    "Mean = (sum of all values) / (number of values)\n",
    "Mean = (2668.3) / (15)\n",
    "Mean = 177.88\n",
    "\n",
    "Therefore, the mean height is approximately 177.88 cm.\n",
    "\n",
    "Next, we can calculate the median:\n",
    "\n",
    "Median = middle value in the sorted list of values\n",
    "Median = 177\n",
    "\n",
    "Therefore, the median height is 177 cm.\n",
    "\n",
    "Finally, we can calculate the mode:\n",
    "\n",
    "Mode = the value that appears most frequently\n",
    "Mode = 178\n",
    "\n",
    "Therefore, the mode height is 178 cm.\n",
    "\n",
    "In summary, the measures of central tendency for the given height data are:\n",
    "\n",
    "Mean = 177.88 cm\n",
    "Median = 177 cm\n",
    "Mode = 178 cm\n",
    "\"\"\""
   ]
  },
  {
   "cell_type": "code",
   "execution_count": null,
   "id": "d4f1a8fe-e1d8-45f7-8304-dbf1fd716443",
   "metadata": {},
   "outputs": [],
   "source": [
    "\"\"\"\n",
    "Q4. Find the standard deviation for the given data:\n",
    "[178,177,176,177,178.2,178,175,179,180,175,178.9,176.2,177,172.5,178,176.5]\n",
    "\n",
    "\"\"\""
   ]
  },
  {
   "cell_type": "code",
   "execution_count": null,
   "id": "2300ed0b-4004-4763-a01f-ad3eac353f23",
   "metadata": {},
   "outputs": [],
   "source": [
    "\"\"\"\n",
    "To find the standard deviation for the given data, we can use the following formula:\n",
    "\n",
    "Standard deviation = sqrt((sum of (each value - mean)^2) / (number of values - 1))\n",
    "\n",
    "First, we can calculate the mean of the data:\n",
    "\n",
    "Mean = (sum of all values) / (number of values)\n",
    "Mean = (178 + 177 + 176 + 177 + 178.2 + 178 + 175 + 179 + 180 + 175 + 178.9 + 176.2 + 177 + 172.5 + 178 + 176.5) / (16)\n",
    "Mean = 177.88\n",
    "\n",
    "Next, we can calculate the sum of the squared differences between each value and the mean:\n",
    "\n",
    "Sum of (each value - mean)^2 = (178 - 177.88)^2 + (177 - 177.88)^2 + (176 - 177.88)^2 + (177 - 177.88)^2 + (178.2 - 177.88)^2 + (178 - 177.88)^2 + (175 - 177.88)^2 + (179 - 177.88)^2 + (180 - 177.88)^2 + (175 - 177.88)^2 + (178.9 - 177.88)^2 + (176.2 - 177.88)^2 + (177 - 177.88)^2 + (172.5 - 177.88)^2 + (178 - 177.88)^2 + (176.5 - 177.88)^2\n",
    "Sum of (each value - mean)^2 = 148.3622\n",
    "\n",
    "Then, we can substitute the values into the standard deviation formula:\n",
    "\n",
    "Standard deviation = sqrt((sum of (each value - mean)^2) / (number of values - 1))\n",
    "Standard deviation = sqrt((148.3622) / (15))\n",
    "Standard deviation = 1.873\n",
    "\n",
    "Therefore, the standard deviation of the given data is approximately 1.873.\n",
    "\n",
    "\"\"\""
   ]
  },
  {
   "cell_type": "code",
   "execution_count": null,
   "id": "96b4b3f0-e212-4164-bb21-c3eb6afc28b5",
   "metadata": {},
   "outputs": [],
   "source": [
    "\"\"\"\n",
    "Q5. How are measures of dispersion such as range, variance, and standard deviation used to describe\n",
    "the spread of a dataset? Provide an example.\n",
    "\"\"\""
   ]
  },
  {
   "cell_type": "code",
   "execution_count": null,
   "id": "85187439-76fe-4776-8800-0bb830f9fabf",
   "metadata": {},
   "outputs": [],
   "source": [
    "\"\"\"\n",
    "Measures of dispersion such as range, variance, and standard deviation are used to describe the spread or variability of a dataset.\n",
    "\n",
    "The range is the difference between the largest and smallest values in a dataset. It provides a simple measure of the spread of the dataset, but it is sensitive to outliers.\n",
    "\n",
    "The variance is the average of the squared differences between each value and the mean. It measures how much the data deviates from the mean and provides a more precise measure of the spread than the range. However, because the variance is calculated by squaring the differences, it is not in the same unit as the original data and can be difficult to interpret.\n",
    "\n",
    "The standard deviation is the square root of the variance. It is also a measure of how much the data deviates from the mean, but it is in the same unit as the original data and is more easily interpreted than the variance. The standard deviation is commonly used as a measure of dispersion because it is sensitive to outliers and provides a useful summary of the spread of the data.\n",
    "\n",
    "For example, let's consider the following dataset of exam scores for a class of 20 students:\n",
    "\n",
    "[70, 80, 85, 90, 60, 75, 90, 85, 95, 80, 75, 85, 70, 80, 95, 80, 75, 90, 85, 80]\n",
    "\n",
    "The range of the dataset is the difference between the largest and smallest values: 95 - 60 = 35.\n",
    "\n",
    "The variance of the dataset can be calculated as follows:\n",
    "\n",
    "Calculate the mean: (70 + 80 + 85 + 90 + 60 + 75 + 90 + 85 + 95 + 80 + 75 + 85 + 70 + 80 + 95 + 80 + 75 + 90 + 85 + 80) / 20 = 81.5\n",
    "Calculate the squared differences between each value and the mean: (70 - 81.5)^2, (80 - 81.5)^2, (85 - 81.5)^2, and so on for all 20 values.\n",
    "Calculate the sum of the squared differences: add up all 20 squared differences.\n",
    "Divide the sum of squared differences by the number of values minus one (n-1): divide the sum from step 3 by 19 (since there are 20 values in the dataset).\n",
    "The result is the variance: approximately 82.76.\n",
    "The standard deviation of the dataset can be calculated as the square root of the variance: sqrt(82.76) = 9.1.\n",
    "\n",
    "Therefore, we can conclude that the spread of the exam scores in this class is relatively narrow, with a range of 35, a variance of 82.76, and a standard deviation of 9.1. This information can be used to understand the variability of the scores and make inferences about the performance of the students.\n",
    "\"\"\""
   ]
  },
  {
   "cell_type": "code",
   "execution_count": null,
   "id": "5c13341f-074a-4528-b886-5d754aef0601",
   "metadata": {},
   "outputs": [],
   "source": [
    "# Q6. What is a Venn diagram?"
   ]
  },
  {
   "cell_type": "code",
   "execution_count": null,
   "id": "4e84ecfe-2ead-4123-82e6-b6e618c432f7",
   "metadata": {},
   "outputs": [],
   "source": [
    "\"\"\"\n",
    "A Venn diagram is a graphical representation of set theory, which depicts the relationships between sets using circles or other shapes. The diagram consists of overlapping circles or other shapes that represent different sets, with the overlapping regions indicating the elements that are common to those sets.\n",
    "\n",
    "Venn diagrams are commonly used in mathematics, statistics, logic, and computer science to visualize the relationships between different sets of data. They can be used to illustrate concepts such as intersections, unions, and complements of sets.\n",
    "\n",
    "Venn diagrams are named after the English logician and philosopher John Venn, who introduced them in the late 19th century as a way of visualizing logical relations between sets.\n",
    "\"\"\""
   ]
  },
  {
   "cell_type": "code",
   "execution_count": null,
   "id": "ceb6f139-9dad-453b-ba77-f2e723abffe8",
   "metadata": {},
   "outputs": [],
   "source": [
    "\"\"\"\n",
    "Q7. For the two given sets A = (2,3,4,5,6,7) & B = (0,2,6,8,10). Find:\n",
    "(i) A B\n",
    "(ii) A ⋃ B\n",
    "\n",
    "\"\"\""
   ]
  },
  {
   "cell_type": "code",
   "execution_count": null,
   "id": "f2ae873b-fa51-4dcd-80a2-f3f2e0859fed",
   "metadata": {},
   "outputs": [],
   "source": [
    "\"\"\"\n",
    "(i) A B represents the set of elements that are common to both set A and set B.\n",
    "\n",
    "In this case, the common elements between set A and set B are 2 and 6. Therefore, A B = {2,6}.\n",
    "\n",
    "(ii) A ⋃ B represents the set of elements that are in set A or set B, or both.\n",
    "\n",
    "In this case, the elements in set A are {2,3,4,5,6,7} and the elements in set B are {0,2,6,8,10}. The union of these two sets is {0,2,3,4,5,6,7,8,10}.\n",
    "\n",
    "Therefore, A ⋃ B = {0,2,3,4,5,6,7,8,10}.\n",
    "\"\"\""
   ]
  },
  {
   "cell_type": "code",
   "execution_count": null,
   "id": "e7965cc7-579d-484e-aab1-a90cf66b0c10",
   "metadata": {},
   "outputs": [],
   "source": [
    "#Q8. What do you understand about skewness in data?"
   ]
  },
  {
   "cell_type": "code",
   "execution_count": null,
   "id": "ee87fd2b-203f-499c-a6da-ffeecdcc2f11",
   "metadata": {},
   "outputs": [],
   "source": [
    "\"\"\"\n",
    "kewness is a statistical measure that describes the degree of asymmetry in a distribution of data. A distribution is said to be skewed if it is not symmetric, meaning that the two halves of the distribution are not mirror images of each other.\n",
    "\n",
    "Skewness can be positive, negative, or zero. Positive skewness indicates that the distribution has a long right tail, meaning that it has more high values than low values. Negative skewness indicates that the distribution has a long left tail, meaning that it has more low values than high values. Zero skewness indicates that the distribution is symmetric.\n",
    "\n",
    "Skewness can have important implications for statistical analysis. For example, if a dataset is skewed, it can affect the calculation of certain statistics, such as the mean and standard deviation. In some cases, transforming the data, such as taking the logarithm, can help to reduce skewness and make the distribution more symmetric, which can make it easier to perform statistical tests and draw conclusions from the data.\n",
    "\"\"\""
   ]
  },
  {
   "cell_type": "code",
   "execution_count": null,
   "id": "1225e005-5c03-4ba2-887f-980dc8d3e1a5",
   "metadata": {},
   "outputs": [],
   "source": [
    "#Q9. If a data is right skewed then what will be the position of median with respect to mean?"
   ]
  },
  {
   "cell_type": "code",
   "execution_count": null,
   "id": "d197075d-0458-4e40-913e-171b13255cc5",
   "metadata": {},
   "outputs": [],
   "source": [
    "\"\"\"\n",
    "If a data is right skewed, meaning that it has a long right tail, then the position of the median with respect to the mean will typically be to the left of the mean.\n",
    "\n",
    "This is because the mean is sensitive to outliers and extreme values, which can pull it towards the tail of the distribution. As a result, if a distribution is right-skewed, it will typically have a few high values that are far away from the bulk of the data, which will pull the mean to the right.\n",
    "\n",
    "In contrast, the median is less sensitive to outliers and extreme values, and is instead determined by the position of the middle value in the dataset. In a right-skewed distribution, the middle value will typically be closer to the left side of the distribution, where most of the data is located. As a result, the median will be to the left of the mean in a right-skewed distribution.\n",
    "\"\"\""
   ]
  },
  {
   "cell_type": "code",
   "execution_count": null,
   "id": "6bb0d4f3-dec8-4a83-a4a4-c08d70de4b03",
   "metadata": {},
   "outputs": [],
   "source": [
    "#Q10. Explain the difference between covariance and correlation. How are these measures used in statistical analysis?"
   ]
  },
  {
   "cell_type": "code",
   "execution_count": null,
   "id": "41338f33-7550-4c1b-839a-30664fb4cd94",
   "metadata": {},
   "outputs": [],
   "source": [
    "\"\"\"\n",
    "Covariance and correlation are both measures of the relationship between two variables in a dataset. However, they differ in how they measure the strength and direction of the relationship.\n",
    "\n",
    "Covariance is a measure of how two variables vary together. Specifically, it measures the extent to which the two variables tend to increase or decrease in value together. If the covariance between two variables is positive, it means that they tend to increase or decrease in value together. If the covariance is negative, it means that as one variable increases, the other tends to decrease. However, the magnitude of covariance depends on the scale of the variables and it is difficult to interpret without knowing the units of the variables.\n",
    "\n",
    "Correlation, on the other hand, is a standardized version of covariance that measures the strength and direction of the linear relationship between two variables. Correlation coefficient, denoted by r, always takes a value between -1 and 1. A correlation coefficient of +1 indicates a perfect positive correlation (the two variables move in the same direction), -1 indicates a perfect negative correlation (the two variables move in opposite directions), and 0 indicates no correlation.\n",
    "\n",
    "Both covariance and correlation are used in statistical analysis to understand the relationship between two variables in a dataset. However, correlation is generally preferred over covariance because it is standardized and therefore easier to interpret. It allows us to compare the strength of the relationship between variables on different scales. Correlation is commonly used in fields such as finance, economics, and social sciences to measure the relationship between variables such as stock prices, economic indicators, and consumer behavior.\n",
    "\"\"\""
   ]
  },
  {
   "cell_type": "code",
   "execution_count": null,
   "id": "400c40c6-42b6-4238-8122-04b32f3973a7",
   "metadata": {},
   "outputs": [],
   "source": [
    "\"\"\"\n",
    "Q11. What is the formula for calculating the sample mean? Provide an example calculation for a\n",
    "dataset.\n",
    "\n",
    "\"\"\""
   ]
  },
  {
   "cell_type": "code",
   "execution_count": null,
   "id": "2643f607-33ce-49c5-b0ed-800e51048eed",
   "metadata": {},
   "outputs": [],
   "source": [
    "\"\"\"\n",
    "The formula for calculating the sample mean is:\n",
    "\n",
    "sample mean = (sum of all values in the sample) / (number of values in the sample)\n",
    "\n",
    "Here's an example calculation:\n",
    "\n",
    "Suppose we have the following dataset: 2, 5, 7, 9, 12\n",
    "\n",
    "To find the sample mean, we first add up all the values in the sample:\n",
    "\n",
    "2 + 5 + 7 + 9 + 12 = 35\n",
    "\n",
    "Next, we divide the sum by the number of values in the sample, which in this case is 5:\n",
    "\n",
    "35 / 5 = 7\n",
    "\n",
    "Therefore, the sample mean of this dataset is 7.\n",
    "\n",
    "\"\"\""
   ]
  },
  {
   "cell_type": "code",
   "execution_count": null,
   "id": "f1dee50b-f31f-4626-ad22-c905f83616ea",
   "metadata": {},
   "outputs": [],
   "source": [
    "#Q12. For a normal distribution data what is the relationship between its measure of central tendency?"
   ]
  },
  {
   "cell_type": "code",
   "execution_count": null,
   "id": "c75cbe16-f2ca-4555-a038-9ae1fe3dcd87",
   "metadata": {},
   "outputs": [],
   "source": [
    "\"\"\"\n",
    "For a normal distribution, the three common measures of central tendency are the mean, median, and mode. In a normal distribution, these measures of central tendency are related in the following way:\n",
    "\n",
    "Mean, median, and mode are equal: In a perfectly symmetrical normal distribution, the mean, median, and mode will be the same value.\n",
    "\n",
    "Mean is greater than median: In a normal distribution that is skewed to the right (positively skewed), the mean will be greater than the median.\n",
    "\n",
    "Mean is less than median: In a normal distribution that is skewed to the left (negatively skewed), the mean will be less than the median.\n",
    "\n",
    "In summary, in a normal distribution, the mean, median, and mode are all measures of central tendency that describe the typical or central value of the data. The relationship between these measures depends on the shape of the distribution. If the distribution is perfectly symmetrical, all three measures will be the same. If the distribution is skewed, the mean will be affected more than the median and mode.\n",
    "\"\"\""
   ]
  },
  {
   "cell_type": "code",
   "execution_count": null,
   "id": "206f8b2a-c366-474e-9802-dc7a78c2f53d",
   "metadata": {},
   "outputs": [],
   "source": [
    "#Q13. How is covariance different from correlation?"
   ]
  },
  {
   "cell_type": "code",
   "execution_count": null,
   "id": "d2e92635-7353-404b-b8d5-6a0ceff631c2",
   "metadata": {},
   "outputs": [],
   "source": [
    "\"\"\"\n",
    "\n",
    "Covariance and correlation are two measures of the relationship between two variables in a dataset. While they are related, they have some key differences.\n",
    "\n",
    "Covariance measures how much two variables change together. Specifically, it measures the degree to which two variables vary together. It can take on any value between positive infinity and negative infinity. A positive covariance indicates that the two variables tend to increase or decrease together, while a negative covariance indicates that one variable tends to increase while the other decreases.\n",
    "\n",
    "Correlation, on the other hand, measures the strength and direction of the relationship between two variables. It is a standardized measure that ranges from -1 to +1. A correlation of +1 indicates a perfect positive relationship, while a correlation of -1 indicates a perfect negative relationship. A correlation of 0 indicates no relationship between the two variables.\n",
    "\n",
    "One key difference between covariance and correlation is that covariance does not have a standardized scale, whereas correlation does. This makes it difficult to compare covariances across datasets. Correlation, on the other hand, is standardized and can be compared across datasets.\n",
    "\n",
    "Another important difference is that covariance does not take into account the scale of the variables being measured, while correlation does. This means that correlation is better suited for comparing the relationship between variables that are measured on different scales.\n",
    "\n",
    "In summary, covariance measures how two variables vary together, while correlation measures the strength and direction of the relationship between two variables, and is a standardized measure that can be compared across datasets.\n",
    "\"\"\""
   ]
  },
  {
   "cell_type": "code",
   "execution_count": null,
   "id": "0f957b7d-3768-4b2e-b2f8-507f5703e399",
   "metadata": {},
   "outputs": [],
   "source": [
    "#Q14. How do outliers affect measures of central tendency and dispersion? Provide an example."
   ]
  },
  {
   "cell_type": "code",
   "execution_count": null,
   "id": "3a7df400-71cf-423e-9721-36015f31d854",
   "metadata": {},
   "outputs": [],
   "source": [
    "\"\"\"\n",
    "Outliers can have a significant impact on measures of central tendency and dispersion. Outliers are extreme values that are significantly different from the rest of the values in a dataset. Outliers can affect measures of central tendency such as the mean, median, and mode by pulling these measures towards the direction of the outlier. They can also affect measures of dispersion such as the range, standard deviation, and variance by increasing their values.\n",
    "\n",
    "For example, let's consider the following dataset of test scores: 65, 75, 80, 85, 90, 95, and 100. The mean of this dataset is 83.6, the median is 85, and the mode is not applicable as there are no repeating values. The range is 35, the standard deviation is 13.05, and the variance is 170.86.\n",
    "\n",
    "Now, let's add an outlier to this dataset: 65, 75, 80, 85, 90, 95, 100, and 200. The mean of this new dataset is 97.5, the median is 90, and the mode is not applicable. The range is 135, the standard deviation is 52.28, and the variance is 2733.33.\n",
    "\n",
    "As you can see, the outlier has significantly affected the mean, pulling it towards the direction of the outlier. It has also increased the values of the standard deviation, variance, and range. The median is less affected by outliers, which is why it is often preferred over the mean in datasets with outliers.\n",
    "\n",
    "In summary, outliers can have a significant impact on measures of central tendency and dispersion by pulling these measures towards the direction of the outlier and increasing their values. It is important to identify and handle outliers appropriately in statistical analysis.\n",
    "\n",
    "\"\"\""
   ]
  }
 ],
 "metadata": {
  "kernelspec": {
   "display_name": "Python 3 (ipykernel)",
   "language": "python",
   "name": "python3"
  },
  "language_info": {
   "codemirror_mode": {
    "name": "ipython",
    "version": 3
   },
   "file_extension": ".py",
   "mimetype": "text/x-python",
   "name": "python",
   "nbconvert_exporter": "python",
   "pygments_lexer": "ipython3",
   "version": "3.10.8"
  }
 },
 "nbformat": 4,
 "nbformat_minor": 5
}
