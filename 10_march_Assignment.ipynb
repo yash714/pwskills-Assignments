{
 "cells": [
  {
   "cell_type": "code",
   "execution_count": null,
   "id": "5e0cb87d-6851-4088-b1e3-3a7020553650",
   "metadata": {},
   "outputs": [],
   "source": [
    "# Q1: What is Estimation Statistics? Explain point estimate and interval estimate."
   ]
  },
  {
   "cell_type": "code",
   "execution_count": null,
   "id": "c28ee397-d2f2-4c2c-aa9a-ac848848f634",
   "metadata": {},
   "outputs": [],
   "source": [
    "\"\"\n",
    "Estimation statistics is a branch of statistics that deals with estimating unknown population parameters based on sample data. The goal of estimation is to use sample statistics (such as the sample mean or sample proportion) to infer information about the population parameter of interest (such as the population mean or population proportion).\n",
    "\n",
    "There are two main types of estimation: point estimation and interval estimation.\n",
    "\n",
    "Point estimate: A point estimate is a single value that is used to estimate an unknown population parameter. Point estimates are typically calculated using sample statistics, such as the sample mean or sample proportion. For example, if we want to estimate the population mean salary of software engineers in a particular city, we can use the sample mean salary of a random sample of software engineers in that city as a point estimate for the population mean salary.\n",
    "\n",
    "Interval estimate: An interval estimate is a range of values that is used to estimate an unknown population parameter. Interval estimates are typically calculated using sample statistics and a level of confidence. The level of confidence represents the degree of certainty that the interval estimate contains the true population parameter. For example, if we want to estimate the population mean salary of software engineers in a particular city with 95% confidence, we can calculate a confidence interval using the sample mean and standard deviation of a random sample of software engineers in that city. This confidence interval will provide a range of values within which we can be 95% confident that the true population mean salary lies.\n",
    "\"\""
   ]
  },
  {
   "cell_type": "code",
   "execution_count": null,
   "id": "dd3f1873-6573-4e61-a9a9-400026d7a979",
   "metadata": {},
   "outputs": [],
   "source": [
    "#Q2. Write a Python function to estimate the population mean using a sample mean and standard deviation."
   ]
  },
  {
   "cell_type": "code",
   "execution_count": 1,
   "id": "ca7cf2e4-65aa-4ff1-892a-a9bb00600998",
   "metadata": {},
   "outputs": [],
   "source": [
    "def estimate_pop_mean(sample_mean, sample_std, sample_size):\n",
    "    import math\n",
    "    z_score = 1.96 # for 95% confidence level, change as per requirement\n",
    "    standard_error = sample_std / math.sqrt(sample_size)\n",
    "    lower_bound = sample_mean - (z_score * standard_error)\n",
    "    upper_bound = sample_mean + (z_score * standard_error)\n",
    "    return (lower_bound, upper_bound)\n"
   ]
  },
  {
   "cell_type": "code",
   "execution_count": 2,
   "id": "3e370697-1fb1-4034-bad0-5b99588c69d7",
   "metadata": {},
   "outputs": [
    {
     "name": "stdout",
     "output_type": "stream",
     "text": [
      "The 95% confidence interval for the population mean is: (9.608, 10.392)\n"
     ]
    }
   ],
   "source": [
    "sample_mean = 10\n",
    "sample_std = 2\n",
    "sample_size = 100\n",
    "interval = estimate_pop_mean(sample_mean, sample_std, sample_size)\n",
    "print(\"The 95% confidence interval for the population mean is:\", interval)\n"
   ]
  },
  {
   "cell_type": "code",
   "execution_count": null,
   "id": "1e841c1a-2499-42a5-8317-ad27d0b27046",
   "metadata": {},
   "outputs": [],
   "source": [
    "#Q3: What is Hypothesis testing? Why is it used? State the importance of Hypothesis testing."
   ]
  },
  {
   "cell_type": "code",
   "execution_count": null,
   "id": "de3ad797-eb22-4f71-b5ee-d2c3d86361c3",
   "metadata": {},
   "outputs": [],
   "source": [
    "\"\"\n",
    "Hypothesis testing is a statistical method used to determine whether a statement or hypothesis about a population is likely to be true or not based on sample data. It is an essential tool in inferential statistics, which involves making predictions or inferences about a population based on a sample.\n",
    "\n",
    "In hypothesis testing, a researcher starts by formulating a null hypothesis, which is a statement about the population that the researcher wants to test. The researcher then collects a sample of data and calculates a test statistic, which is a numerical measure of how well the sample data supports or contradicts the null hypothesis. Based on the test statistic, the researcher then decides whether to reject or fail to reject the null hypothesis.\n",
    "\n",
    "Hypothesis testing is used to test scientific and research hypotheses, make decisions in business and industry, and assess the effectiveness of policies and interventions. It is also used in medical research to determine the efficacy of new drugs or treatments.\n",
    "\n",
    "The importance of hypothesis testing lies in its ability to provide a scientific and objective way of evaluating the validity of a hypothesis or claim. By using statistical methods to analyze data, researchers can make informed decisions and draw reliable conclusions about a population based on a sample. Hypothesis testing also helps to minimize errors and biases in research by providing a systematic approach to data analysis.\n",
    "\n",
    "\"\""
   ]
  },
  {
   "cell_type": "code",
   "execution_count": null,
   "id": "b9103925-699b-4514-8015-202c26cda930",
   "metadata": {},
   "outputs": [],
   "source": [
    "#Q4. Create a hypothesis that states whether the average weight of male college students is greater than the average weight of female college students."
   ]
  },
  {
   "cell_type": "code",
   "execution_count": null,
   "id": "a269dff1-e050-456c-ab19-4adf60bbc850",
   "metadata": {},
   "outputs": [],
   "source": [
    "\"\"\n",
    "Hypothesis: The average weight of male college students is greater than the average weight of female college students.\n",
    "\n",
    "Null hypothesis (H0): There is no significant difference between the average weight of male and female college students.\n",
    "\n",
    "Alternate hypothesis (Ha): The average weight of male college students is greater than the average weight of female college students.\n",
    "\n",
    "To test this hypothesis, a sample of male and female college students could be randomly selected, and their weights could be measured. The sample mean and standard deviation for each group could be calculated, and a statistical test, such as a t-test, could be performed to determine whether the difference between the means is statistically significant. If the p-value is less than the significance level (typically 0.05), the null hypothesis could be rejected in favor of the alternate hypothesis, which would suggest that there is evidence to support the claim that the average weight of male college students is greater than that of female college students.\n",
    "\n",
    "\"\""
   ]
  },
  {
   "cell_type": "code",
   "execution_count": null,
   "id": "4269bf70-a4c1-40a0-b227-a62ec14dc963",
   "metadata": {},
   "outputs": [],
   "source": [
    "# Q5. Write a Python script to conduct a hypothesis test on the difference between two population means, given a sample from each population."
   ]
  },
  {
   "cell_type": "code",
   "execution_count": 3,
   "id": "7f3528a5-8544-489e-bfcd-5c663ee862a9",
   "metadata": {},
   "outputs": [
    {
     "name": "stdout",
     "output_type": "stream",
     "text": [
      "Sample 1 mean: 4.6000000000000005\n",
      "Sample 2 mean: 3.900000000000001\n",
      "Sample 1 standard deviation: 0.4594682917363407\n",
      "Sample 2 standard deviation: 0.2581988897471611\n",
      "Pooled standard deviation: 0.3726779962499649\n",
      "T-statistic: 4.199999999999998\n",
      "P-value: 0.000538218659003034\n"
     ]
    },
    {
     "data": {
      "text/plain": [
       "''"
      ]
     },
     "execution_count": 3,
     "metadata": {},
     "output_type": "execute_result"
    }
   ],
   "source": [
    "\"\"\n",
    "import numpy as np\n",
    "from scipy.stats import ttest_ind\n",
    "\n",
    "# Sample data for two populations\n",
    "pop1 = np.array([4.2, 5.1, 3.9, 4.5, 4.8, 5.3, 4.4, 5.0, 4.7, 4.1])\n",
    "pop2 = np.array([3.5, 4.1, 3.8, 3.9, 4.3, 3.6, 3.9, 4.0, 3.7, 4.2])\n",
    "\n",
    "# Calculate the sample means and standard deviations\n",
    "mean1, mean2 = np.mean(pop1), np.mean(pop2)\n",
    "std1, std2 = np.std(pop1, ddof=1), np.std(pop2, ddof=1)\n",
    "\n",
    "# Calculate the pooled standard deviation\n",
    "pooled_std = np.sqrt(((len(pop1)-1)*(std1**2) + (len(pop2)-1)*(std2**2))/(len(pop1)+len(pop2)-2))\n",
    "\n",
    "# Calculate the t-statistic and p-value\n",
    "t_statistic, p_value = ttest_ind(pop1, pop2, equal_var=True)\n",
    "\n",
    "# Print the results\n",
    "print(\"Sample 1 mean:\", mean1)\n",
    "print(\"Sample 2 mean:\", mean2)\n",
    "print(\"Sample 1 standard deviation:\", std1)\n",
    "print(\"Sample 2 standard deviation:\", std2)\n",
    "print(\"Pooled standard deviation:\", pooled_std)\n",
    "print(\"T-statistic:\", t_statistic)\n",
    "print(\"P-value:\", p_value)\n",
    "\n",
    "\"\""
   ]
  },
  {
   "cell_type": "code",
   "execution_count": null,
   "id": "be9d578a-1d54-436e-9c47-c76172f86531",
   "metadata": {},
   "outputs": [],
   "source": [
    "# Q6: What is a null and alternative hypothesis? Give some examples."
   ]
  },
  {
   "cell_type": "code",
   "execution_count": null,
   "id": "c26f144e-24c4-469b-8d8b-99f59521c5eb",
   "metadata": {},
   "outputs": [],
   "source": [
    "\"\"\n",
    "\n",
    "In statistical hypothesis testing, the null hypothesis (H0) and alternative hypothesis (Ha) are two competing hypotheses about the population parameter(s) being tested. The null hypothesis represents the default or status quo assumption, while the alternative hypothesis represents the researcher's hypothesis or claim.\n",
    "\n",
    "Examples of null and alternative hypotheses:\n",
    "\n",
    "A manufacturer claims that their product has a mean lifespan of 1000 hours. A researcher wants to test this claim.\n",
    "\n",
    "Null hypothesis (H0): The mean lifespan of the product is 1000 hours.\n",
    "Alternative hypothesis (Ha): The mean lifespan of the product is not 1000 hours.\n",
    "A university dean wants to investigate whether the average GPA of students in a particular program is higher than the university average.\n",
    "\n",
    "Null hypothesis (H0): The average GPA of students in the program is equal to or less than the university average.\n",
    "Alternative hypothesis (Ha): The average GPA of students in the program is higher than the university average.\n",
    "A restaurant owner wants to test whether a new recipe for a dish has an effect on customer satisfaction.\n",
    "\n",
    "Null hypothesis (H0): The new recipe has no effect on customer satisfaction.\n",
    "Alternative hypothesis (Ha): The new recipe increases customer satisfaction.\n",
    "A researcher wants to investigate whether there is a significant difference in the mean heights of men and women.\n",
    "\n",
    "Null hypothesis (H0): There is no significant difference in the mean heights of men and women.\n",
    "Alternative hypothesis (Ha): The mean height of men is greater than the mean height of women.\n",
    "\n",
    "\n",
    "\n",
    "\n",
    "\"\""
   ]
  },
  {
   "cell_type": "code",
   "execution_count": null,
   "id": "04e5d07a-6d29-4db6-a467-f8fd081555c4",
   "metadata": {},
   "outputs": [],
   "source": [
    "#Q7: Write down the steps involved in hypothesis testing."
   ]
  },
  {
   "cell_type": "code",
   "execution_count": null,
   "id": "e39e272a-3594-4ab2-8212-f021c9beac21",
   "metadata": {},
   "outputs": [],
   "source": [
    "\"\"\n",
    "The steps involved in hypothesis testing are as follows:\n",
    "\n",
    "State the null and alternative hypotheses: Identify the claim or statement that is being tested and express it as a null hypothesis (H0) and an alternative hypothesis (Ha).\n",
    "\n",
    "Choose the appropriate test statistic: Determine the appropriate test statistic to use based on the type of data being analyzed, the sample size, and the level of measurement of the variable.\n",
    "\n",
    "Set the level of significance: Specify the level of significance (α), which is the maximum probability of making a Type I error (rejecting the null hypothesis when it is actually true).\n",
    "\n",
    "Collect and analyze the data: Collect a sample of data and use the appropriate statistical test to calculate the test statistic and its associated p-value.\n",
    "\n",
    "Make a decision: Compare the p-value to the level of significance. If the p-value is less than or equal to the level of significance, reject the null hypothesis in favor of the alternative hypothesis. If the p-value is greater than the level of significance, fail to reject the null hypothesis.\n",
    "\n",
    "Interpret the results: Draw conclusions based on the decision made in step 5 and state whether there is sufficient evidence to support the alternative hypothesis.\n",
    "\n",
    "Communicate the findings: Report the results of the hypothesis test, including the test statistic, p-value, and decision made, in a clear and concise manner. It is also important to include any assumptions or limitations of the test and any recommendations for future research.\n",
    "\"\""
   ]
  },
  {
   "cell_type": "code",
   "execution_count": null,
   "id": "60b6daab-7590-4c28-95a9-71fdab129d9f",
   "metadata": {},
   "outputs": [],
   "source": [
    "#Q8. Define p-value and explain its significance in hypothesis testing."
   ]
  },
  {
   "cell_type": "code",
   "execution_count": null,
   "id": "d78945ee-f3ab-4de4-a75a-8f3debb69035",
   "metadata": {},
   "outputs": [],
   "source": [
    "\"\"\n",
    "In hypothesis testing, the p-value is the probability of observing a test statistic as extreme or more extreme than the one calculated from the sample, assuming that the null hypothesis is true. In other words, it is the probability of obtaining the observed sample data or more extreme data, given that the null hypothesis is true.\n",
    "\n",
    "The significance of the p-value lies in its ability to help the researcher make a decision about whether to reject or fail to reject the null hypothesis. If the p-value is less than or equal to the level of significance (α) chosen by the researcher, it means that the observed sample data is very unlikely to occur by chance alone if the null hypothesis is true. Therefore, the researcher rejects the null hypothesis in favor of the alternative hypothesis. On the other hand, if the p-value is greater than the level of significance, it means that the observed sample data is likely to occur by chance alone if the null hypothesis is true. Therefore, the researcher fails to reject the null hypothesis.\n",
    "\n",
    "The p-value can be interpreted as the strength of evidence against the null hypothesis. A smaller p-value indicates stronger evidence against the null hypothesis and greater confidence in rejecting it. However, it does not prove the alternative hypothesis or the research hypothesis, it only provides evidence for or against the null hypothesis. Additionally, the p-value should not be used as the only criterion for making a decision about the null hypothesis. The decision should also take into account the level of significance, the effect size, the power of the test, and any other relevant factors.\n",
    "\n",
    "\"\""
   ]
  },
  {
   "cell_type": "code",
   "execution_count": null,
   "id": "88d144fb-9503-4222-acc7-a7aa79d63122",
   "metadata": {},
   "outputs": [],
   "source": [
    "#Q9. Generate a Student's t-distribution plot using Python's matplotlib library, with the degrees of freedom parameter set to 10."
   ]
  },
  {
   "cell_type": "code",
   "execution_count": 4,
   "id": "39426b2f-4f00-4b04-afda-dd21dd33df2d",
   "metadata": {},
   "outputs": [
    {
     "data": {
      "image/png": "[encoded data removed]",
      "text/plain": [
       "<Figure size 640x480 with 1 Axes>"
      ]
     },
     "metadata": {},
     "output_type": "display_data"
    }
   ],
   "source": [
    "import numpy as np\n",
    "import matplotlib.pyplot as plt\n",
    "\n",
    "# Generate x values\n",
    "x = np.linspace(-4, 4, 1000)\n",
    "\n",
    "# Compute pdf of Student's t-distribution\n",
    "df = 10\n",
    "y = np.exp(-x**2/2) * np.power(1 + x**2/df, -(df+1)/2) / np.sqrt(df*np.pi/2)\n",
    "\n",
    "# Plot the distribution\n",
    "plt.plot(x, y, label='t-distribution (df=10)')\n",
    "\n",
    "# Add title, legend, and axis labels\n",
    "plt.title(\"Student's t-distribution\")\n",
    "plt.legend()\n",
    "plt.xlabel('x')\n",
    "plt.ylabel('pdf')\n",
    "\n",
    "# Show the plot\n",
    "plt.show()\n"
   ]
  },
  {
   "cell_type": "code",
   "execution_count": null,
   "id": "27968fe3-ea17-4971-8d99-bcc1e62790cd",
   "metadata": {},
   "outputs": [],
   "source": [
    "# Q10. Write a Python program to calculate the two-sample t-test for independent samples, given two random samples of equal size and a null hypothesis that the population means are equal."
   ]
  },
  {
   "cell_type": "code",
   "execution_count": 1,
   "id": "26b27342-846b-461d-97d1-04836740dab5",
   "metadata": {},
   "outputs": [
    {
     "name": "stdout",
     "output_type": "stream",
     "text": [
      "Two-Sample t-test Results:\n",
      "--------------------------\n",
      "Sample 1 Mean: 9.86\n",
      "Sample 2 Mean: 12.29\n",
      "t-statistic: -5.28\n",
      "p-value: 0.0000\n"
     ]
    }
   ],
   "source": [
    "import numpy as np\n",
    "from scipy.stats import ttest_ind\n",
    "\n",
    "# Generate two random samples with equal size\n",
    "sample1 = np.random.normal(10, 2, 50)\n",
    "sample2 = np.random.normal(12, 2, 50)\n",
    "\n",
    "# Perform two-sample t-test assuming equal population means\n",
    "t_statistic, p_value = ttest_ind(sample1, sample2)\n",
    "\n",
    "# Print the results\n",
    "print(\"Two-Sample t-test Results:\")\n",
    "print(\"--------------------------\")\n",
    "print(\"Sample 1 Mean: {:.2f}\".format(np.mean(sample1)))\n",
    "print(\"Sample 2 Mean: {:.2f}\".format(np.mean(sample2)))\n",
    "print(\"t-statistic: {:.2f}\".format(t_statistic))\n",
    "print(\"p-value: {:.4f}\".format(p_value))\n"
   ]
  },
  {
   "cell_type": "code",
   "execution_count": null,
   "id": "fba95add-2c18-4b86-9ad9-9eb485d79263",
   "metadata": {},
   "outputs": [],
   "source": [
    "#Q11: What is Student’s t distribution? When to use the t-Distribution."
   ]
  },
  {
   "cell_type": "code",
   "execution_count": null,
   "id": "f989e44c-39e1-4025-8552-cdad6ed37397",
   "metadata": {},
   "outputs": [],
   "source": [
    "\"\"\n",
    "Student's t-distribution is a probability distribution that arises when estimating the mean of a normally distributed population in situations where the sample size is small, or when the population standard deviation is unknown. It was developed by William Gosset, who wrote under the pseudonym \"Student,\" hence the name.\n",
    "\n",
    "The t-distribution is similar in shape to the normal distribution, but with slightly fatter tails. As the sample size increases, the t-distribution approaches the normal distribution. The shape of the t-distribution depends on the degrees of freedom, which is the sample size minus one.\n",
    "\n",
    "The t-distribution is commonly used in hypothesis testing when the sample size is small (less than 30) or when the population standard deviation is unknown. In these cases, the t-distribution is used instead of the normal distribution to calculate p-values and confidence intervals. The t-distribution is also used to construct t-tests, which are used to test hypotheses about population means when the population standard deviation is unknown.\n",
    "\n",
    "In summary, the t-distribution is a probability distribution that arises in situations where the sample size is small or when the population standard deviation is unknown. It is similar in shape to the normal distribution, but with slightly fatter tails, and is commonly used in hypothesis testing and constructing t-tests.\n",
    "\"\""
   ]
  },
  {
   "cell_type": "code",
   "execution_count": null,
   "id": "f32cd35e-963c-47ed-8309-48430d558917",
   "metadata": {},
   "outputs": [],
   "source": [
    "#Q12: What is t-statistic? State the formula for t-statistic."
   ]
  },
  {
   "cell_type": "code",
   "execution_count": null,
   "id": "d7ec9ac5-0846-4159-ac6e-b7efe1acaeee",
   "metadata": {},
   "outputs": [],
   "source": [
    "\"\"\n",
    "In statistics, the t-statistic (or t-score) is a test statistic that is used to test hypotheses about the population mean when the population standard deviation is unknown and the sample size is small (less than 30). The t-statistic measures the difference between the sample mean and the hypothesized population mean, in units of the standard error.\n",
    "\n",
    "The formula for calculating the t-statistic for a one-sample t-test is:\n",
    "\n",
    "t = (x̄ - μ) / (s / sqrt(n))\n",
    "\n",
    "where:\n",
    "\n",
    "x̄ is the sample mean\n",
    "μ is the hypothesized population mean\n",
    "s is the sample standard deviation\n",
    "n is the sample size\n",
    "sqrt represents the square root function\n",
    "The t-statistic measures the number of standard errors that the sample mean is away from the hypothesized population mean. A large t-statistic indicates that the sample mean is far from the hypothesized population mean, and provides evidence against the null hypothesis. On the other hand, a small t-statistic indicates that the sample mean is close to the hypothesized population mean, and provides weak evidence against the null hypothesis. The t-statistic is used to calculate the p-value, which is the probability of observing a t-statistic as extreme or more extreme than the one calculated, assuming the null hypothesis is true.\n",
    "\"\""
   ]
  },
  {
   "cell_type": "code",
   "execution_count": null,
   "id": "cbbd4403-e61a-427b-a4e1-c0dbc8455661",
   "metadata": {},
   "outputs": [],
   "source": [
    "\"\"\n",
    "Q13. A coffee shop owner wants to estimate the average daily revenue for their shop. They take a random\n",
    "sample of 50 days and find the sample mean revenue to be $500 with a standard deviation of $50.\n",
    "Estimate the population mean revenue with a 95% confidence interval.\n",
    "\n",
    "\"\""
   ]
  },
  {
   "cell_type": "code",
   "execution_count": null,
   "id": "65bbb122-4d57-438d-b71d-b7adf382adbf",
   "metadata": {},
   "outputs": [],
   "source": [
    "\"\"\n",
    "To estimate the population mean revenue with a 95% confidence interval, we can use the following formula:\n",
    "\n",
    "Confidence interval = sample mean ± (t-value * standard error)\n",
    "\n",
    "where:\n",
    "\n",
    "sample mean = $500\n",
    "standard deviation = $50\n",
    "sample size = 50\n",
    "degrees of freedom = n - 1 = 49\n",
    "t-value for a 95% confidence interval with 49 degrees of freedom = 2.0096 (from t-distribution table)\n",
    "standard error = standard deviation / sqrt(sample size) = $50 / sqrt(50) = $7.07 (approx)\n",
    "Substituting these values into the formula, we get:\n",
    "\n",
    "Confidence interval = $500 ± (2.0096 * $7.07)\n",
    "= $500 ± $14.20\n",
    "\n",
    "Therefore, the 95% confidence interval for the population mean revenue is $485.80 to $514.20. We can interpret this as follows: if we were to take multiple samples of 50 days and calculate the sample mean revenue and 95% confidence interval for each sample, we would expect 95% of the intervals to contain the true population mean revenue.\n",
    "\n",
    "\"\""
   ]
  },
  {
   "cell_type": "code",
   "execution_count": null,
   "id": "a9434f0b-6c59-4705-83fb-0a89a0f6eadf",
   "metadata": {},
   "outputs": [],
   "source": [
    "\"\"\n",
    "Q14. A researcher hypothesizes that a new drug will decrease blood pressure by 10 mmHg. They conduct a\n",
    "clinical trial with 100 patients and find that the sample mean decrease in blood pressure is 8 mmHg with a\n",
    "standard deviation of 3 mmHg. Test the hypothesis with a significance level of 0.05.\n",
    "\n",
    "\"\""
   ]
  },
  {
   "cell_type": "code",
   "execution_count": null,
   "id": "4f07326c-d126-4d1c-8573-a92ff86128c0",
   "metadata": {},
   "outputs": [],
   "source": [
    "\"\"\n",
    "To test the hypothesis with a significance level of 0.05, we need to set up the null and alternative hypotheses:\n",
    "\n",
    "Null hypothesis: The true mean decrease in blood pressure is equal to 10 mmHg.\n",
    "Alternative hypothesis: The true mean decrease in blood pressure is less than 10 mmHg.\n",
    "\n",
    "We will use a one-sample t-test to test the hypotheses. The test statistic is given by:\n",
    "\n",
    "t = (sample mean - hypothesized mean) / (standard error)\n",
    "\n",
    "where:\n",
    "\n",
    "sample mean = 8 mmHg\n",
    "hypothesized mean = 10 mmHg\n",
    "standard deviation = 3 mmHg\n",
    "sample size = 100\n",
    "standard error = standard deviation / sqrt(sample size) = 3 / sqrt(100) = 0.3\n",
    "Substituting these values into the formula, we get:\n",
    "\n",
    "t = (8 - 10) / 0.3\n",
    "= -6.67 (approx)\n",
    "\n",
    "The t-value for 99 degrees of freedom and a 5% level of significance (one-tailed test) is -1.660. Since our calculated t-value (-6.67) is less than the critical t-value (-1.660), we reject the null hypothesis.\n",
    "\n",
    "Therefore, we have sufficient evidence to conclude that the true mean decrease in blood pressure is less than 10 mmHg at a 5% level of significance.\n",
    "\n",
    "\"\""
   ]
  },
  {
   "cell_type": "code",
   "execution_count": null,
   "id": "c256ff98-b44b-4783-986a-a8b6caff4a3d",
   "metadata": {},
   "outputs": [],
   "source": [
    "\"\"\n",
    "Q15. An electronics company produces a certain type of product with a mean weight of 5 pounds and a\n",
    "standard deviation of 0.5 pounds. A random sample of 25 products is taken, and the sample mean weight\n",
    "is found to be 4.8 pounds. Test the hypothesis that the true mean weight of the products is less than 5\n",
    "pounds with a significance level of 0.01.\n",
    "\"\""
   ]
  },
  {
   "cell_type": "code",
   "execution_count": null,
   "id": "6a8640f0-07d2-4f3d-b4eb-3ff49109da8d",
   "metadata": {},
   "outputs": [],
   "source": [
    "\"\"\n",
    "To test the hypothesis with a significance level of 0.01, we need to set up the null and alternative hypotheses:\n",
    "\n",
    "Null hypothesis: The true mean weight of the products is equal to 5 pounds.\n",
    "Alternative hypothesis: The true mean weight of the products is less than 5 pounds.\n",
    "\n",
    "We will use a one-sample t-test to test the hypotheses. The test statistic is given by:\n",
    "\n",
    "t = (sample mean - hypothesized mean) / (standard error)\n",
    "\n",
    "where:\n",
    "\n",
    "sample mean = 4.8 pounds\n",
    "hypothesized mean = 5 pounds\n",
    "standard deviation = 0.5 pounds\n",
    "sample size = 25\n",
    "standard error = standard deviation / sqrt(sample size) = 0.5 / sqrt(25) = 0.1\n",
    "Substituting these values into the formula, we get:\n",
    "\n",
    "t = (4.8 - 5) / 0.1\n",
    "= -2 (approx)\n",
    "\n",
    "The t-value for 24 degrees of freedom and a 1% level of significance (one-tailed test) is -2.492. Since our calculated t-value (-2) is greater than the critical t-value (-2.492), we fail to reject the null hypothesis.\n",
    "\n",
    "Therefore, we do not have sufficient evidence to conclude that the true mean weight of the products is less than 5 pounds at a 1% level of significance.\n",
    "\"\""
   ]
  },
  {
   "cell_type": "code",
   "execution_count": null,
   "id": "b14a8416-bede-4eb0-ad4c-97b7a5009d43",
   "metadata": {},
   "outputs": [],
   "source": [
    "\"\"\n",
    "Q16. Two groups of students are given different study materials to prepare for a test. The first group (n1 =\n",
    "30) has a mean score of 80 with a standard deviation of 10, and the second group (n2 = 40) has a mean\n",
    "score of 75 with a standard deviation of 8. Test the hypothesis that the population means for the two\n",
    "groups are equal with a significance level of 0.01.\n",
    "\n",
    "\"\""
   ]
  },
  {
   "cell_type": "code",
   "execution_count": null,
   "id": "28ec74f9-e58d-4911-ae8d-553a57c81e33",
   "metadata": {},
   "outputs": [],
   "source": [
    "\"\"\n",
    "To test the hypothesis that the population means for the two groups are equal, we need to set up the null and alternative hypotheses:\n",
    "\n",
    "Null hypothesis: The population means for the two groups are equal.\n",
    "Alternative hypothesis: The population means for the two groups are not equal.\n",
    "\n",
    "We will use a two-sample t-test to test the hypotheses. The test statistic is given by:\n",
    "\n",
    "t = (sample mean difference - hypothesized mean difference) / standard error\n",
    "\n",
    "where:\n",
    "\n",
    "sample mean difference = 80 - 75 = 5\n",
    "hypothesized mean difference = 0 (since the null hypothesis assumes equal population means)\n",
    "standard error = sqrt((s1^2/n1) + (s2^2/n2)), where s1 and s2 are the sample standard deviations and n1 and n2 are the sample sizes.\n",
    "Substituting the values given in the problem, we get:\n",
    "\n",
    "standard error = sqrt((10^2/30) + (8^2/40))\n",
    "= 2.66 (approx)\n",
    "\n",
    "t = (5 - 0) / 2.66\n",
    "= 1.88 (approx)\n",
    "\n",
    "The t-value for 68 degrees of freedom and a 1% level of significance (two-tailed test) is ±2.625. Since our calculated t-value (1.88) is less than the critical t-value (±2.625), we fail to reject the null hypothesis.\n",
    "\n",
    "Therefore, we do not have sufficient evidence to conclude that the population means for the two groups are not equal at a 1% level of significance.\n",
    "\n",
    "\"\""
   ]
  },
  {
   "cell_type": "code",
   "execution_count": null,
   "id": "c9aa83d4-0efb-483c-accc-c1bbbc7de12d",
   "metadata": {},
   "outputs": [],
   "source": [
    "\"\"\n",
    "Q17. A marketing company wants to estimate the average number of ads watched by viewers during a TV\n",
    "program. They take a random sample of 50 viewers and find that the sample mean is 4 with a standard\n",
    "deviation of 1.5. Estimate the population mean with a 99% confidence interval.\n",
    "\"\""
   ]
  },
  {
   "cell_type": "code",
   "execution_count": null,
   "id": "24c77643-5067-487b-b0a7-f2d3f89e3800",
   "metadata": {},
   "outputs": [],
   "source": [
    "\"\"\n",
    "To estimate the population mean with a 99% confidence interval, we can use the following formula:\n",
    "\n",
    "Confidence interval = sample mean ± (critical value) x (standard error)\n",
    "\n",
    "where:\n",
    "\n",
    "sample mean = 4\n",
    "critical value = the t-value for 49 degrees of freedom and a 0.5% level of significance (two-tailed test). Using a t-table or a t-distribution calculator, we find the critical value to be 2.680.\n",
    "standard error = standard deviation / sqrt(sample size). In this case, the standard error is 1.5 / sqrt(50) = 0.212.\n",
    "Substituting the values, we get:\n",
    "\n",
    "Confidence interval = 4 ± 2.680 x 0.212\n",
    "= (3.436, 4.564)\n",
    "\n",
    "Therefore, we can say with 99% confidence that the population mean number of ads watched by viewers during a TV program is between 3.436 and 4.564.\n",
    "\n",
    "\"\""
   ]
  },
  {
   "cell_type": "code",
   "execution_count": null,
   "id": "08aa6439-9db9-409c-be2e-2b0ad07e79de",
   "metadata": {},
   "outputs": [],
   "source": []
  },
  {
   "cell_type": "code",
   "execution_count": null,
   "id": "a2981e49-9231-492e-a6e1-166b9979f9b9",
   "metadata": {},
   "outputs": [],
   "source": []
  }
 ],
 "metadata": {
  "kernelspec": {
   "display_name": "Python 3 (ipykernel)",
   "language": "python",
   "name": "python3"
  },
  "language_info": {
   "codemirror_mode": {
    "name": "ipython",
    "version": 3
   },
   "file_extension": ".py",
   "mimetype": "text/x-python",
   "name": "python",
   "nbconvert_exporter": "python",
   "pygments_lexer": "ipython3",
   "version": "3.10.8"
  }
 },
 "nbformat": 4,
 "nbformat_minor": 5
}
