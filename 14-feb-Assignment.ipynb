{
 "cells": [
  {
   "cell_type": "code",
   "execution_count": null,
   "id": "dccba070",
   "metadata": {},
   "outputs": [],
   "source": [
    "#1. What is multithreading in python? hy is it used? Name the module used to handle threads in python"
   ]
  },
  {
   "cell_type": "markdown",
   "id": "0620308b",
   "metadata": {},
   "source": [
    "\"\"\"\n",
    "Ans. Multithreading in Python is a programming technique where multiple threads of execution can exist concurrently within a single process. Each thread runs independently, and they can share common resources such as memory, file handles, and network sockets.\n",
    "\n",
    "Multithreading is used in Python to perform tasks concurrently, making the best use of available resources and improving the overall performance of the program. For example, you can use multithreading to handle multiple client connections in a server application or to perform time-consuming tasks in the background while keeping the user interface responsive.\n",
    "\n",
    "The threading module is used to handle threads in Python. It provides a simple way to create and manage threads and provides synchronization primitives such as locks, events, and conditions to ensure safe access to shared resources.\n",
    "\n",
    "import threading\n",
    "\n",
    "\n",
    "\"\"\""
   ]
  },
  {
   "cell_type": "markdown",
   "id": "29026e60",
   "metadata": {},
   "source": [
    "\"\"\"\n",
    "2. why threading module used? rite the use of the following functions\n",
    " 1. activeCount\n",
    " 2. currentThread\n",
    " 3. enumerate)\n",
    " \n",
    " \"\"\""
   ]
  },
  {
   "cell_type": "markdown",
   "id": "d38f3672",
   "metadata": {},
   "source": [
    "\n",
    " \"\"\"\n",
    " Ans.The threading module in Python is used to create and manage threads of execution. It provides a simple and efficient way to perform concurrent programming and can be used to improve the performance of applications that perform I/O or other time-consuming tasks.\n",
    "\n",
    "Here are the use cases of the following functions in the threading module:\n",
    "\n",
    "activeCount(): This function returns the number of Thread objects that are currently active in the current process. It can be used to monitor the number of active threads and ensure that the application does not create too many threads, which could result in resource contention and performance degradation.\n",
    "\n",
    "currentThread(): This function returns a Thread object that represents the current thread of execution. It can be used to obtain information about the current thread, such as its name and ID.\n",
    "\n",
    "enumerate(): This function returns a list of all Thread objects that are currently active in the current process. It can be used to obtain information about all active threads, such as their names and IDs, and can be useful for debugging and monitoring purposes.\n",
    " \n",
    " \"\"\""
   ]
  },
  {
   "cell_type": "markdown",
   "id": "4e367eac",
   "metadata": {},
   "source": [
    "\n",
    " \"\"\"\n",
    "\n",
    "3. Explain the following functions\n",
    "     run\n",
    "     start\n",
    "     join\n",
    "'    isAlive)\n",
    "\n",
    "\n",
    " \"\"\""
   ]
  },
  {
   "cell_type": "markdown",
   "id": "69ea79f7",
   "metadata": {},
   "source": [
    "\n",
    " \"\"\"\n",
    "Ans  run(): This function is the entry point for the thread's activity. When a thread is started, it will call the run() method of the target function or method in a separate thread of execution. You can override the run() method in your Thread subclass to define the code that will be executed in the thread.\n",
    "\n",
    "start(): This function starts a thread by calling the run() method in a separate thread of execution. When a thread is started, it will call the run() method of the target function or method in a separate thread of execution. You should never call the run() method directly. Instead, call the start() method to start the thread.\n",
    "\n",
    "join(): This function waits for the thread to complete its execution. When a thread is started, it will run in a separate thread of execution, and the parent thread will continue to run its own code. The join() method can be used to wait for the thread to complete its execution before the parent thread continues. The join() method blocks the parent thread until the target thread completes its execution.\n",
    "\n",
    "isAlive(): This function returns a Boolean value that indicates whether the thread is alive or not. A thread is considered alive if it has been started and has not yet completed its execution. The isAlive() method can be used to check whether a thread is still running before attempting to join it or perform other operations on it.\n",
    "\n",
    "\n",
    " \"\"\""
   ]
  },
  {
   "cell_type": "code",
   "execution_count": null,
   "id": "493c6985",
   "metadata": {},
   "outputs": [],
   "source": [
    " \"\"\"\n",
    " \n",
    " 4. write a python program to create two threads. Thread one must print the list of squares and thread\n",
    "two must print the list of cubes\n",
    "\n",
    " \"\"\""
   ]
  },
  {
   "cell_type": "code",
   "execution_count": 1,
   "id": "7ac23a35",
   "metadata": {},
   "outputs": [
    {
     "name": "stdout",
     "output_type": "stream",
     "text": [
      "0 squared is 0\n",
      "1 squared is 1\n",
      "2 squared is 4\n",
      "3 squared is 9\n",
      "4 squared is 16\n",
      "5 squared is 25\n",
      "6 squared is 36\n",
      "7 squared is 49\n",
      "8 squared is 64\n",
      "9 squared is 81\n",
      "0 cubed is 0\n",
      "1 cubed is 1\n",
      "2 cubed is 8\n",
      "3 cubed is 27\n",
      "4 cubed is 64\n",
      "5 cubed is 125\n",
      "6 cubed is 216\n",
      "7 cubed is 343\n",
      "8 cubed is 512\n",
      "9 cubed is 729\n"
     ]
    }
   ],
   "source": [
    "\n",
    "# Ans. \n",
    "\n",
    "import threading\n",
    "\n",
    "def print_squares(n):\n",
    "    for i in range(n):\n",
    "        print(f\"{i} squared is {i**2}\")\n",
    "\n",
    "def print_cubes(n):\n",
    "    for i in range(n):\n",
    "        print(f\"{i} cubed is {i**3}\")\n",
    "\n",
    "# Create two threads\n",
    "t1 = threading.Thread(target=print_squares, args=(10,))\n",
    "t2 = threading.Thread(target=print_cubes, args=(10,))\n",
    "\n",
    "# Start the threads\n",
    "t1.start()\n",
    "t2.start()\n",
    "\n",
    "# Wait for the threads to complete\n",
    "t1.join()\n",
    "t2.join()\n",
    "\n",
    " \n",
    "  "
   ]
  },
  {
   "cell_type": "code",
   "execution_count": null,
   "id": "83aa3605",
   "metadata": {},
   "outputs": [],
   "source": [
    "# 5. State advantages and disadvantages of multithreading"
   ]
  },
  {
   "cell_type": "markdown",
   "id": "288dbaef",
   "metadata": {},
   "source": [
    "\"\"\"\n",
    "Ans.  Advantages:\n",
    "\n",
    "Improved performance: Multithreading can improve the performance of an application by allowing it to perform multiple tasks concurrently. This can result in faster execution times and improved responsiveness.\n",
    "\n",
    "Resource sharing: Multithreading allows multiple threads to share the same resources such as memory, file handles, and network sockets, which can reduce the overhead of creating and managing separate resources for each thread.\n",
    "\n",
    "Simplified program design: Multithreading can simplify the design of complex programs by allowing developers to break down tasks into smaller, more manageable pieces that can be executed concurrently.\n",
    "\n",
    "Improved user experience: Multithreading can improve the user experience of applications by keeping the user interface responsive while performing background tasks in the background.\n",
    "\n",
    "Disadvantages:\n",
    "\n",
    "Increased complexity: Multithreading can increase the complexity of an application, making it more difficult to design, implement, and debug. This is because multithreaded applications require careful synchronization to ensure that threads do not interfere with each other.\n",
    "\n",
    "Synchronization overhead: Multithreading requires synchronization between threads to ensure that they do not interfere with each other, which can result in significant overhead and performance degradation.\n",
    "\n",
    "Race conditions: Multithreading can result in race conditions where multiple threads try to access the same resource at the same time, leading to unpredictable behavior.\n",
    "\n",
    "Debugging complexity: Debugging multithreaded applications can be difficult because the order of execution is not always predictable, and bugs may only appear intermittently or under certain conditions.\n",
    "\n",
    "\"\"\""
   ]
  },
  {
   "cell_type": "code",
   "execution_count": null,
   "id": "82adf150",
   "metadata": {},
   "outputs": [],
   "source": [
    "#6. Explain deadlocks and race conditions."
   ]
  },
  {
   "cell_type": "markdown",
   "id": "fa1efb4b",
   "metadata": {},
   "source": [
    "\n",
    "\"\"\"\n",
    "Ans.\n",
    "\n",
    "   Deadlocks: A deadlock occurs when two or more threads are blocked, waiting for each other to release resources that they need to proceed. This can occur when threads acquire locks on resources in a different order, leading to a situation where each thread is waiting for a lock held by another thread. Deadlocks can cause the program to hang, become unresponsive, or crash.\n",
    " \n",
    " \n",
    " Race conditions: A race condition occurs when two or more threads access a shared resource concurrently, resulting in unpredictable behavior. This can occur when threads modify a shared variable or object without proper synchronization, leading to inconsistent or incorrect results. Race conditions can cause the program to produce incorrect output, crash, or behave unpredictably.\n",
    "\n",
    "\"\"\""
   ]
  }
 ],
 "metadata": {
  "kernelspec": {
   "display_name": "Python 3 (ipykernel)",
   "language": "python",
   "name": "python3"
  },
  "language_info": {
   "codemirror_mode": {
    "name": "ipython",
    "version": 3
   },
   "file_extension": ".py",
   "mimetype": "text/x-python",
   "name": "python",
   "nbconvert_exporter": "python",
   "pygments_lexer": "ipython3",
   "version": "3.9.7"
  }
 },
 "nbformat": 4,
 "nbformat_minor": 5
}
