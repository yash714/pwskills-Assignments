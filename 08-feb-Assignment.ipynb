{
 "cells": [
  {
   "cell_type": "code",
   "execution_count": 1,
   "id": "04462fe8",
   "metadata": {},
   "outputs": [],
   "source": [
    "# Q1. What is Abstraction in OOps? Explain with an example."
   ]
  },
  {
   "cell_type": "markdown",
   "id": "a50671ec",
   "metadata": {},
   "source": [
    "\"\"\"\"\n",
    "Ans. Abstraction is one of the fundamental concepts of object-oriented programming (OOP) that allows programmers to focus on the essential features of an object while hiding unnecessary details. In other words, abstraction is a technique that enables us to define and manipulate complex systems by breaking them down into smaller, more manageable units.\n",
    "\n",
    "In OOP, abstraction is implemented through the use of abstract classes and interfaces. An abstract class is a class that cannot be instantiated on its own but can be used as a base class for other classes. It may contain abstract methods (i.e., methods without any implementation) and concrete methods (i.e., methods with implementation).\n",
    "\n",
    "// Abstract class\n",
    "abstract class Animal {\n",
    "  // Abstract method (no implementation)\n",
    "  public abstract void makeSound();\n",
    "\n",
    "  // Concrete method (has implementation)\n",
    "  public void eat() {\n",
    "    System.out.println(\"I am eating.\");\n",
    "  }\n",
    "}\n",
    "\n",
    "// Concrete class (inherits from Animal)\n",
    "class Dog extends Animal {\n",
    "  public void makeSound() {\n",
    "    System.out.println(\"Woof!\");\n",
    "  }\n",
    "}\n",
    "\n",
    "// Usage\n",
    "public class Main {\n",
    "  public static void main(String[] args) {\n",
    "    // Instantiate a Dog object\n",
    "    Dog dog = new Dog();\n",
    "\n",
    "    // Call the makeSound method (inherited from Animal)\n",
    "    dog.makeSound();\n",
    "\n",
    "    // Call the eat method (inherited from Animal)\n",
    "    dog.eat();\n",
    "  }\n",
    "}\n",
    "\n",
    "\n",
    "\"\"\"\""
   ]
  },
  {
   "cell_type": "code",
   "execution_count": null,
   "id": "920cc964",
   "metadata": {},
   "outputs": [],
   "source": []
  },
  {
   "cell_type": "code",
   "execution_count": 3,
   "id": "c2087afa",
   "metadata": {},
   "outputs": [],
   "source": [
    "# Q2. Differentiate between Abstraction and Encapsulation. Explain with an example"
   ]
  },
  {
   "cell_type": "markdown",
   "id": "7ec5556b",
   "metadata": {},
   "source": [
    "\"\"\"\"\n",
    "Ans. Abstraction is the process of hiding the implementation details and showing only the necessary information to the user. In other words, abstraction means representing complex data and functionality in a simple and understandable way. For example, when you use a remote control to operate your television, you do not need to know the internal working of the television. You only need to know how to use the remote control to change the channels, adjust the volume, and turn the television on and off. The remote control abstracts the complexity of the television and presents a simple interface to the user.\n",
    "\n",
    "Encapsulation, on the other hand, is the process of hiding the internal details of an object and providing a public interface to interact with the object. In encapsulation, the data and the methods that operate on the data are wrapped together into a single unit called a class. The data is hidden from the outside world, and can only be accessed through the methods provided by the class. This ensures that the data is protected from accidental modification or corruption. For example, imagine a bank account class that has private member variables for the account number and balance, and public methods for depositing and withdrawing money. The private member variables are encapsulated and can only be accessed through the public methods. This prevents unauthorized access to the account number and balance.\n",
    "\n",
    "In summary, abstraction is about presenting a simplified view of a complex system, while encapsulation is about protecting the internal data and functionality of an object from outside interference.\n",
    "\n",
    "To illustrate the difference between abstraction and encapsulation, consider a car object. The car object has many internal details, such as the engine, transmission, brakes, and suspension. These details can be abstracted by presenting a simple interface to the user, such as the gas pedal, brake pedal, and steering wheel. The user does not need to know how these components work, but only how to use them to drive the car. Encapsulation comes into play by protecting the internal details of the car object from outside interference. For example, the user cannot directly access the engine or transmission of the car, but must use the pedals and gearshift to control the car's speed and direction. This ensures that the car's internal components are not accidentally damaged or modified, which could result in unsafe driving conditions.\n",
    "\n",
    "\"\"\"\""
   ]
  },
  {
   "cell_type": "code",
   "execution_count": 1,
   "id": "e3a0f93c",
   "metadata": {},
   "outputs": [],
   "source": [
    "# Q3. What is abc module in python? Why is it used?"
   ]
  },
  {
   "cell_type": "markdown",
   "id": "ef4bc65c",
   "metadata": {},
   "source": [
    "\"\"\"\"\n",
    "Ans.In Python, the abc module stands for \"Abstract Base Classes\". It is a module that provides the infrastructure for defining and using abstract base classes. Abstract base classes are classes that cannot be instantiated but can define methods that derived classes must implement.\n",
    "\n",
    "The abc module is used to define abstract base classes in Python. It provides a way to define a common interface for a group of related classes. This can help to ensure that classes that implement the interface behave consistently and can be used interchangeably.\n",
    "\n",
    "Abstract base classes are particularly useful in situations where you have a set of classes that share a common interface, but may have different implementations. By defining an abstract base class, you can define the methods that all of the classes should have, while allowing each class to provide its own implementation.\n",
    "\n",
    "One of the main benefits of using the abc module is that it allows you to create a clear separation between the interface of a class and its implementation. This can make your code more modular, easier to maintain, and easier to test.\n",
    "\n",
    "To use the abc module, you can define an abstract base class by subclassing the ABC class. You can then define abstract methods in the abstract base class by using the @abstractmethod decorator. Here's an example:\n",
    "\n",
    "from abc import ABC, abstractmethod\n",
    "\n",
    "class Animal(ABC):\n",
    "    @abstractmethod\n",
    "    def make_sound(self):\n",
    "        pass\n",
    "\n",
    "class Dog(Animal):\n",
    "    def make_sound(self):\n",
    "        print(\"Woof!\")\n",
    "\n",
    "class Cat(Animal):\n",
    "    def make_sound(self):\n",
    "        print(\"Meow!\")\n",
    "\n",
    "\n",
    "\"\"\"\""
   ]
  },
  {
   "cell_type": "code",
   "execution_count": 2,
   "id": "70b85701",
   "metadata": {},
   "outputs": [],
   "source": [
    "# Q4. How can we achieve data abstraction?"
   ]
  },
  {
   "cell_type": "markdown",
   "id": "3a667aa6",
   "metadata": {},
   "source": [
    "\"\"\"\"\n",
    "Ans. In object-oriented programming, we can achieve data abstraction by using the concept of classes and objects. Data abstraction is the process of hiding the implementation details of a system and providing only the necessary information to the user. This is done by defining a class that abstracts the data and behavior of a real-world entity and creating objects from that class.\n",
    "\n",
    "Here are the steps to achieve data abstraction in Python:\n",
    "\n",
    "Define a class: Define a class that represents the entity you want to abstract. This class should contain data members and methods that represent the relevant data and behavior of the entity.\n",
    "\n",
    "Hide implementation details: Hide the implementation details of the class by making its data members private using the naming convention of double underscores (e.g. \"__data_member\"). This ensures that the data members can only be accessed from within the class and its methods.\n",
    "\n",
    "Provide public methods: Provide public methods (also known as accessor or getter methods) that allow users to access the private data members. These methods should return the relevant data in a simplified and meaningful way. Users should not be able to access the private data members directly.\n",
    "\n",
    "Implement the class: Create objects from the class and use its public methods to access its data and behavior.\n",
    "\n",
    "class BankAccount:\n",
    "    def __init__(self, account_number, balance):\n",
    "        self.__account_number = account_number\n",
    "        self.__balance = balance\n",
    "\n",
    "    def deposit(self, amount):\n",
    "        self.__balance += amount\n",
    "\n",
    "    def withdraw(self, amount):\n",
    "        if amount > self.__balance:\n",
    "            print(\"Insufficient balance\")\n",
    "        else:\n",
    "            self.__balance -= amount\n",
    "\n",
    "    def get_balance(self):\n",
    "        return self.__balance\n",
    "\n",
    "    def get_account_number(self):\n",
    "        return self.__account_number\n",
    "\n",
    "\n",
    "\"\"\"\""
   ]
  },
  {
   "cell_type": "code",
   "execution_count": 3,
   "id": "4d45091f",
   "metadata": {},
   "outputs": [],
   "source": [
    "# Q5. Can we create an instance of an abstract class? Explain your answer.\n"
   ]
  },
  {
   "cell_type": "markdown",
   "id": "7d0653a8",
   "metadata": {},
   "source": [
    "\"\"\"\"\n",
    "Ans. No, we cannot create an instance of an abstract class in Python. An abstract class is a class that contains one or more abstract methods. Abstract methods are methods that are declared in the abstract class but do not have an implementation.\n",
    "\n",
    "Since an abstract method does not have an implementation, it does not make sense to create an instance of the abstract class. An instance of a class represents a specific object with its own data and behavior, but an abstract class does not have any data or behavior by itself. It only serves as a blueprint for its derived classes.\n",
    "\n",
    "In Python, if we try to create an instance of an abstract class, we will get a TypeError with the message \"Can't instantiate abstract class <abstract_class_name> with abstract methods <method_name>\". This is the Python interpreter's way of telling us that we cannot create an object from an abstract class because it has abstract methods that need to be implemented in its derived classes.\n",
    "\n",
    "To use an abstract class in Python, we must first create a derived class that inherits from the abstract class and implement all its abstract methods. The derived class can then be instantiated, and its methods and data can be accessed.\n",
    "\n",
    "\n",
    "\n",
    "\n",
    "\n",
    "\n",
    "\"\"\"\""
   ]
  }
 ],
 "metadata": {
  "kernelspec": {
   "display_name": "Python 3 (ipykernel)",
   "language": "python",
   "name": "python3"
  },
  "language_info": {
   "codemirror_mode": {
    "name": "ipython",
    "version": 3
   },
   "file_extension": ".py",
   "mimetype": "text/x-python",
   "name": "python",
   "nbconvert_exporter": "python",
   "pygments_lexer": "ipython3",
   "version": "3.9.7"
  }
 },
 "nbformat": 4,
 "nbformat_minor": 5
}
