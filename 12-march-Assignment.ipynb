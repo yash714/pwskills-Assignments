{
 "cells": [
  {
   "cell_type": "code",
   "execution_count": null,
   "id": "ab86c190-d10e-45fc-8946-cd6678b23096",
   "metadata": {},
   "outputs": [],
   "source": [
    "\"\"\n",
    "Q1. Calculate the 95% confidence interval for a sample of data with a mean of 50 and a standard deviation\n",
    "of 5 using Python. Interpret the results.\n",
    "\n",
    "\"\""
   ]
  },
  {
   "cell_type": "code",
   "execution_count": 1,
   "id": "6293b191-3a53-4aaa-98b4-412160eb1fcc",
   "metadata": {},
   "outputs": [
    {
     "name": "stdout",
     "output_type": "stream",
     "text": [
      "95% Confidence Interval: (49.02, 50.98)\n"
     ]
    }
   ],
   "source": [
    "import numpy as np\n",
    "from scipy.stats import norm\n",
    "\n",
    "# set the sample mean and standard deviation\n",
    "sample_mean = 50\n",
    "sample_std = 5\n",
    "\n",
    "# set the significance level and sample size\n",
    "alpha = 0.05\n",
    "n = 100\n",
    "\n",
    "# calculate the standard error\n",
    "se = sample_std / np.sqrt(n)\n",
    "\n",
    "# calculate the critical value\n",
    "z_critical = norm.ppf(1 - alpha/2)\n",
    "\n",
    "# calculate the margin of error\n",
    "moe = z_critical * se\n",
    "\n",
    "# calculate the confidence interval\n",
    "lower_bound = sample_mean - moe\n",
    "upper_bound = sample_mean + moe\n",
    "\n",
    "# print the results\n",
    "print(\"95% Confidence Interval: ({:.2f}, {:.2f})\".format(lower_bound, upper_bound))\n"
   ]
  },
  {
   "cell_type": "code",
   "execution_count": null,
   "id": "bf836d87-864a-4f8f-a6f0-611d90a7c91f",
   "metadata": {},
   "outputs": [],
   "source": [
    "\"\"\n",
    "Q2. Conduct a chi-square goodness of fit test to determine if the distribution of colors of M&Ms in a bag\n",
    "matches the expected distribution of 20% blue, 20% orange, 20% green, 10% yellow, 10% red, and 20%\n",
    "brown. Use Python to perform the test with a significance level of 0.05.\n",
    "\"\""
   ]
  },
  {
   "cell_type": "code",
   "execution_count": 2,
   "id": "4ffee6f0-ede9-4fcc-a90b-477cce2010e6",
   "metadata": {},
   "outputs": [
    {
     "name": "stdout",
     "output_type": "stream",
     "text": [
      "Chi-square statistic: 1.0\n",
      "p-value: 0.9625657732472964\n"
     ]
    }
   ],
   "source": [
    "import numpy as np\n",
    "from scipy.stats import chisquare\n",
    "\n",
    "# set the observed frequencies\n",
    "observed = np.array([18, 22, 20, 10, 12, 18])\n",
    "\n",
    "# set the expected frequencies\n",
    "expected = np.array([20, 20, 20, 10, 10, 20])\n",
    "\n",
    "# calculate the chi-square statistic and p-value\n",
    "chi2, p = chisquare(f_obs=observed, f_exp=expected)\n",
    "\n",
    "# print the results\n",
    "print(\"Chi-square statistic:\", chi2)\n",
    "print(\"p-value:\", p)\n"
   ]
  },
  {
   "cell_type": "code",
   "execution_count": 3,
   "id": "fb5fa62e-0ceb-4b65-8c50-526198107611",
   "metadata": {},
   "outputs": [
    {
     "name": "stdout",
     "output_type": "stream",
     "text": [
      "Chi-square statistic: 5.833333333333334\n",
      "p-value: 0.05411376622282158\n"
     ]
    }
   ],
   "source": [
    "#Ans-3\n",
    "import numpy as np\n",
    "from scipy.stats import chi2_contingency\n",
    "\n",
    "# create the contingency table\n",
    "observed = np.array([[20, 15], [10, 25], [15, 20]])\n",
    "\n",
    "# calculate the chi-square statistic and p-value\n",
    "chi2, p, dof, expected = chi2_contingency(observed)\n",
    "\n",
    "# print the results\n",
    "print(\"Chi-square statistic:\", chi2)\n",
    "print(\"p-value:\", p)\n"
   ]
  },
  {
   "cell_type": "code",
   "execution_count": null,
   "id": "caa7a482-0cc0-4687-9584-45c44fc6fe9d",
   "metadata": {},
   "outputs": [],
   "source": [
    "\"\"\n",
    "Q4. A study of the prevalence of smoking in a population of 500 individuals found that 60 individuals\n",
    "smoked. Use Python to calculate the 95% confidence interval for the true proportion of individuals in the\n",
    "population who smoke.\n",
    "\"\""
   ]
  },
  {
   "cell_type": "code",
   "execution_count": 4,
   "id": "269ae6be-9a3f-4bef-accb-c47452b8a866",
   "metadata": {},
   "outputs": [
    {
     "name": "stdout",
     "output_type": "stream",
     "text": [
      "95% Confidence Interval for the True Proportion of Smokers: (0.092, 0.148)\n"
     ]
    }
   ],
   "source": [
    "from statsmodels.stats.proportion import proportion_confint\n",
    "\n",
    "# set the sample size and number of individuals who smoke\n",
    "n = 500\n",
    "x = 60\n",
    "\n",
    "# calculate the confidence interval\n",
    "confint = proportion_confint(count=x, nobs=n, alpha=0.05, method='normal')\n",
    "\n",
    "# print the results\n",
    "print(\"95% Confidence Interval for the True Proportion of Smokers: ({:.3f}, {:.3f})\".format(confint[0], confint[1]))\n"
   ]
  },
  {
   "cell_type": "code",
   "execution_count": null,
   "id": "c0af512f-7c0f-465a-a182-a82ae69758d9",
   "metadata": {},
   "outputs": [],
   "source": [
    "\"\"\n",
    "Q5. Calculate the 90% confidence interval for a sample of data with a mean of 75 and a standard deviation\n",
    "of 12 using Python. Interpret the results.\n",
    "\"\""
   ]
  },
  {
   "cell_type": "code",
   "execution_count": 5,
   "id": "68e10077-38fd-40d1-a141-76fb592e06b2",
   "metadata": {},
   "outputs": [
    {
     "name": "stdout",
     "output_type": "stream",
     "text": [
      "90% Confidence Interval: (55.262, 94.738)\n"
     ]
    }
   ],
   "source": [
    "import numpy as np\n",
    "from scipy.stats import norm\n",
    "\n",
    "# set the sample size and sample mean\n",
    "n = 1\n",
    "xbar = 75\n",
    "\n",
    "# set the population standard deviation\n",
    "sigma = 12\n",
    "\n",
    "# calculate the standard error\n",
    "se = sigma / np.sqrt(n)\n",
    "\n",
    "# calculate the 90% confidence interval\n",
    "lower, upper = norm.interval(0.9, loc=xbar, scale=se)\n",
    "\n",
    "# print the results\n",
    "print(\"90% Confidence Interval: ({:.3f}, {:.3f})\".format(lower, upper))\n"
   ]
  },
  {
   "cell_type": "code",
   "execution_count": null,
   "id": "3cd50409-3490-41bc-b0fc-5ccf0fd9165b",
   "metadata": {},
   "outputs": [],
   "source": [
    "\"\"\n",
    "Q6. Use Python to plot the chi-square distribution with 10 degrees of freedom. Label the axes and shade the\n",
    "area corresponding to a chi-square statistic of 15.\n",
    "\"\""
   ]
  },
  {
   "cell_type": "code",
   "execution_count": 6,
   "id": "1162a3ea-dc5a-4993-8af0-ee9b5c476f29",
   "metadata": {},
   "outputs": [
    {
     "data": {
      "image/png": "[encoded data removed]",
      "text/plain": [
       "<Figure size 640x480 with 1 Axes>"
      ]
     },
     "metadata": {},
     "output_type": "display_data"
    }
   ],
   "source": [
    "import numpy as np\n",
    "import matplotlib.pyplot as plt\n",
    "from scipy.stats import chi2\n",
    "\n",
    "# set the degrees of freedom\n",
    "df = 10\n",
    "\n",
    "# define the x values\n",
    "x = np.linspace(0, 30, 500)\n",
    "\n",
    "# create the chi-square distribution\n",
    "chi2_dist = chi2(df)\n",
    "\n",
    "# plot the chi-square distribution\n",
    "plt.plot(x, chi2_dist.pdf(x), 'b-', lw=2)\n",
    "\n",
    "# shade the area corresponding to a chi-square statistic of 15\n",
    "x_shade = np.linspace(15, 30, 100)\n",
    "y_shade = chi2_dist.pdf(x_shade)\n",
    "plt.fill_between(x_shade, y_shade, color='red', alpha=0.5)\n",
    "\n",
    "# add labels and title\n",
    "plt.xlabel('Chi-Square Statistic')\n",
    "plt.ylabel('Probability Density')\n",
    "plt.title('Chi-Square Distribution with 10 Degrees of Freedom')\n",
    "\n",
    "# display the plot\n",
    "plt.show()\n"
   ]
  },
  {
   "cell_type": "code",
   "execution_count": null,
   "id": "0cae8613-9a10-4899-9a72-07659146acb0",
   "metadata": {},
   "outputs": [],
   "source": [
    "\"\"\n",
    "Q7. A random sample of 1000 people was asked if they preferred Coke or Pepsi. Of the sample, 520\n",
    "preferred Coke. Calculate a 99% confidence interval for the true proportion of people in the population who\n",
    "prefer Coke.\n",
    "\"\""
   ]
  },
  {
   "cell_type": "code",
   "execution_count": 7,
   "id": "fb36f01f-1c81-47c4-ac2c-eda22afcbf0b",
   "metadata": {},
   "outputs": [
    {
     "name": "stdout",
     "output_type": "stream",
     "text": [
      "99% Confidence Interval: (0.4792, 0.5608)\n"
     ]
    }
   ],
   "source": [
    "import numpy as np\n",
    "\n",
    "# set the sample size and sample proportion\n",
    "n = 1000\n",
    "p = 520 / n\n",
    "\n",
    "# calculate the standard error\n",
    "se = np.sqrt(p*(1-p)/n)\n",
    "\n",
    "# set the z-score for a 99% confidence interval\n",
    "z = 2.58\n",
    "\n",
    "# calculate the confidence interval\n",
    "lower, upper = p - z*se, p + z*se\n",
    "\n",
    "# print the results\n",
    "print(\"99% Confidence Interval: ({:.4f}, {:.4f})\".format(lower, upper))\n"
   ]
  },
  {
   "cell_type": "code",
   "execution_count": null,
   "id": "1f8311d4-6cb5-494c-a547-4954496f4727",
   "metadata": {},
   "outputs": [],
   "source": [
    "\"\"\n",
    "Q8. A researcher hypothesizes that a coin is biased towards tails. They flip the coin 100 times and observe\n",
    "45 tails. Conduct a chi-square goodness of fit test to determine if the observed frequencies match the\n",
    "expected frequencies of a fair coin. Use a significance level of 0.05.\n",
    "\"\""
   ]
  },
  {
   "cell_type": "code",
   "execution_count": 8,
   "id": "c0692430-772a-4761-8fd6-852f34b585bf",
   "metadata": {},
   "outputs": [
    {
     "name": "stdout",
     "output_type": "stream",
     "text": [
      "Chi-square test statistic: 1.0\n"
     ]
    }
   ],
   "source": [
    "import numpy as np\n",
    "\n",
    "# set the observed frequencies\n",
    "observed = np.array([45, 55])\n",
    "\n",
    "# set the expected frequencies\n",
    "expected = np.array([50, 50])\n",
    "\n",
    "# calculate the chi-square test statistic\n",
    "chi2 = np.sum((observed - expected)**2 / expected)\n",
    "\n",
    "# print the result\n",
    "print(\"Chi-square test statistic:\", chi2)\n"
   ]
  },
  {
   "cell_type": "code",
   "execution_count": null,
   "id": "aa1a89f5-0dd9-45ed-94bd-db62417f3d83",
   "metadata": {},
   "outputs": [],
   "source": [
    "# Ans-9\n",
    "\n",
    "State the null hypothesis and alternative hypothesis:\n",
    "\n",
    "Null hypothesis: There is no association between smoking status and lung cancer diagnosis.\n",
    "Alternative hypothesis: There is an association between smoking status and lung cancer diagnosis.\n",
    "Determine the significance level: The significance level is not given in the question, so we will assume a significance level of 0.05.\n",
    "\n",
    "Calculate the expected frequencies under the null hypothesis:\n",
    "\n",
    "We can calculate the expected frequencies for each cell by multiplying the row total by the column total and dividing by the total number of observations.\n",
    "\n",
    "Smoker 60 140 200\n",
    "Non-smoker 30 170 200\n",
    "90 310 400\n",
    "\n",
    "The expected frequency for the first cell is (200 * 90) / 400 = 45. The expected frequencies for the remaining cells can be calculated similarly.\n",
    "\n",
    "Calculate the test statistic:\n",
    "\n",
    "We can use the formula:\n",
    "\n",
    "chi-square = sum((observed - expected)^2 / expected)\n",
    "\n",
    "where the sum is taken over all cells in the contingency table.\n",
    "\n",
    "Using the observed and expected frequencies calculated above, we get:\n",
    "\n",
    "chi-square = (60-45)^2/45 + (140-155)^2/155 + (30-45)^2/45 + (170-155)^2/155\n",
    "= 6.52\n",
    "\n",
    "Find the degrees of freedom:\n",
    "\n",
    "The degrees of freedom for a chi-square test of independence is given by (number of rows - 1) * (number of columns - 1). In this case, we have 2 rows and 2 columns, so the degrees of freedom is 1.\n",
    "\n",
    "Calculate the p-value:\n",
    "\n",
    "We can use a chi-square distribution table or Python's scipy.stats module to find the p-value associated with the calculated chi-square statistic and degrees of freedom. Using scipy.stats.chi2.sf() (survival function) to calculate the p-value:\n",
    "\n",
    "\n",
    "\n",
    "\n",
    "from scipy.stats import chi2\n",
    "p_value = chi2.sf(6.52, 1)\n",
    "\n",
    "Make a decision and interpret the results:\n",
    "\n",
    "Using a significance level of 0.05, we compare the p-value to the significance level. Since the p-value (0.01) is less than the significance level (0.05), we reject the null hypothesis. This means that there is sufficient evidence to suggest that there is an association between smoking status and lung cancer diagnosis. Specifically, the data suggests that smokers are more likely to be diagnosed with lung cancer than non-smokers.\n",
    "\n",
    "\n",
    "\"\"\n"
   ]
  },
  {
   "cell_type": "code",
   "execution_count": 9,
   "id": "9f872507-468a-494c-ac75-d590438a50ff",
   "metadata": {},
   "outputs": [
    {
     "name": "stdout",
     "output_type": "stream",
     "text": [
      "Chi-square statistic: 13.393665158371041\n",
      "p-value: 0.0012348168997745918\n",
      "Degrees of freedom: 2\n",
      "Expected frequencies:\n",
      " [[212.5 162.5 125. ]\n",
      " [212.5 162.5 125. ]]\n"
     ]
    }
   ],
   "source": [
    "#Ans-10\n",
    "\n",
    "import numpy as np\n",
    "from scipy.stats import chi2_contingency\n",
    "\n",
    "obs = np.array([[200, 150, 150], [225, 175, 100]])\n",
    "\n",
    "chi2, p, dof, expected = chi2_contingency(obs)\n",
    "\n",
    "print(\"Chi-square statistic:\", chi2)\n",
    "print(\"p-value:\", p)\n",
    "print(\"Degrees of freedom:\", dof)\n",
    "print(\"Expected frequencies:\\n\", expected)\n"
   ]
  },
  {
   "cell_type": "code",
   "execution_count": null,
   "id": "3320ae9b-9ac8-42fc-90b6-28714db74488",
   "metadata": {},
   "outputs": [],
   "source": [
    "\"\"\n",
    "\n",
    "Q11. A random sample of 30 people was selected from a population with an unknown mean and standard\n",
    "deviation. The sample mean was found to be 72 and the sample standard deviation was found to be 10.\n",
    "Conduct a hypothesis test to determine if the population mean is significantly different from 70. Use a\n",
    "significance level of 0.05.\n",
    "\n",
    "\"\""
   ]
  },
  {
   "cell_type": "code",
   "execution_count": 10,
   "id": "95608af3-b8cc-458f-8fc0-c57eb0ba7beb",
   "metadata": {},
   "outputs": [
    {
     "name": "stdout",
     "output_type": "stream",
     "text": [
      "t-statistic: inf\n",
      "p-value: 0.0\n"
     ]
    },
    {
     "name": "stderr",
     "output_type": "stream",
     "text": [
      "/tmp/ipykernel_84/2906088072.py:7: RuntimeWarning: Precision loss occurred in moment calculation due to catastrophic cancellation. This occurs when the data are nearly identical. Results may be unreliable.\n",
      "  t, p = ttest_1samp(data, mean)\n"
     ]
    }
   ],
   "source": [
    "import numpy as np\n",
    "from scipy.stats import ttest_1samp\n",
    "\n",
    "data = np.array([72] * 30)\n",
    "mean = 70\n",
    "\n",
    "t, p = ttest_1samp(data, mean)\n",
    "\n",
    "print(\"t-statistic:\", t)\n",
    "print(\"p-value:\", p)\n"
   ]
  },
  {
   "cell_type": "code",
   "execution_count": null,
   "id": "d447d913-e0b7-481f-bd13-4ad67ae049d3",
   "metadata": {},
   "outputs": [],
   "source": []
  },
  {
   "cell_type": "code",
   "execution_count": null,
   "id": "29336735-0d8f-462d-85a3-af7ef2ddafba",
   "metadata": {},
   "outputs": [],
   "source": []
  },
  {
   "cell_type": "code",
   "execution_count": null,
   "id": "0976ea69-83d6-4eab-bd50-0db75eaf907b",
   "metadata": {},
   "outputs": [],
   "source": []
  }
 ],
 "metadata": {
  "kernelspec": {
   "display_name": "Python 3 (ipykernel)",
   "language": "python",
   "name": "python3"
  },
  "language_info": {
   "codemirror_mode": {
    "name": "ipython",
    "version": 3
   },
   "file_extension": ".py",
   "mimetype": "text/x-python",
   "name": "python",
   "nbconvert_exporter": "python",
   "pygments_lexer": "ipython3",
   "version": "3.10.8"
  }
 },
 "nbformat": 4,
 "nbformat_minor": 5
}
