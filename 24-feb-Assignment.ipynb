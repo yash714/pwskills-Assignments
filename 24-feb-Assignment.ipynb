{
 "cells": [
  {
   "cell_type": "code",
   "execution_count": 1,
   "id": "489ae4fe-bd20-43ee-ad17-e2f86fe9aca4",
   "metadata": {},
   "outputs": [],
   "source": [
    "# Q1. List any five functions of the pandas library with execution."
   ]
  },
  {
   "cell_type": "code",
   "execution_count": 4,
   "id": "cbd7d706-00ef-4e05-9534-ac935c450745",
   "metadata": {},
   "outputs": [
    {
     "name": "stdout",
     "output_type": "stream",
     "text": [
      "   id  location_id  program_id accepted_payments alternate_name  \\\n",
      "0   1            1         NaN               NaN            NaN   \n",
      "1   2            2         NaN               NaN            NaN   \n",
      "2   3            3         NaN               NaN            NaN   \n",
      "3   4            4         NaN               NaN            NaN   \n",
      "4   5            5         NaN               NaN            NaN   \n",
      "\n",
      "                           application_process  \\\n",
      "0                   Walk in or apply by phone.   \n",
      "1           Apply by phone for an appointment.   \n",
      "2  Phone for information (403-4300 Ext. 4322).   \n",
      "3                              Apply by phone.   \n",
      "4                       Phone for information.   \n",
      "\n",
      "                                            audience  \\\n",
      "0  Older adults age 55 or over, ethnic minorities...   \n",
      "1       Residents of San Mateo County age 55 or over   \n",
      "2  Older adults age 55 or over who can benefit fr...   \n",
      "3  Parents, children, families with problems of c...   \n",
      "4  Low-income working families with children tran...   \n",
      "\n",
      "                                         description  \\\n",
      "0  A walk-in center for older adults that provide...   \n",
      "1  Provides training and job placement to eligibl...   \n",
      "2  Offers supportive counseling services to San M...   \n",
      "3  Provides supervised visitation services and a ...   \n",
      "4  Provides fixed 8% short term loans to eligible...   \n",
      "\n",
      "                                         eligibility email  ...  \\\n",
      "0  Age 55 or over for most programs, age 60 or ov...   NaN  ...   \n",
      "1  Age 55 or over, county resident and willing an...   NaN  ...   \n",
      "2        Resident of San Mateo County age 55 or over   NaN  ...   \n",
      "3                                               None   NaN  ...   \n",
      "4  Eligibility: Low-income family with legal cust...   NaN  ...   \n",
      "\n",
      "  interpretation_services                                           keywords  \\\n",
      "0                     NaN  ADULT PROTECTION AND CARE SERVICES, Meal Sites...   \n",
      "1                     NaN  EMPLOYMENT/TRAINING SERVICES, Job Development,...   \n",
      "2                     NaN  Geriatric Counseling, Older Adults, Gay, Lesbi...   \n",
      "3                     NaN  INDIVIDUAL AND FAMILY DEVELOPMENT SERVICES, Gr...   \n",
      "4                     NaN     COMMUNITY SERVICES, Speakers, Automobile Loans   \n",
      "\n",
      "  languages                               name required_documents  \\\n",
      "0       NaN    Fair Oaks Adult Activity Center                NaN   \n",
      "1       NaN   Second Career Employment Program                NaN   \n",
      "2       NaN             Senior Peer Counseling                NaN   \n",
      "3       NaN           Family Visitation Center                NaN   \n",
      "4       NaN  Economic Self-Sufficiency Program                NaN   \n",
      "\n",
      "      service_areas  status wait_time website taxonomy_ids  \n",
      "0             Colma  active  No wait.     NaN          NaN  \n",
      "1  San Mateo County  active   Varies.     NaN          NaN  \n",
      "2  San Mateo County  active   Varies.     NaN          NaN  \n",
      "3  San Mateo County  active  No wait.     NaN          NaN  \n",
      "4  San Mateo County  active       NaN     NaN          NaN  \n",
      "\n",
      "[5 rows x 22 columns]\n"
     ]
    }
   ],
   "source": [
    "import pandas as pd\n",
    "\n",
    "# Read a CSV file into a DataFrame object\n",
    "df = pd.read_csv('services.csv')\n",
    "\n",
    "# Print the first five rows of the DataFrame\n",
    "print(df.head(5))\n"
   ]
  },
  {
   "cell_type": "code",
   "execution_count": 5,
   "id": "14870a66-22d3-4956-b86f-182f19e88777",
   "metadata": {},
   "outputs": [
    {
     "name": "stdout",
     "output_type": "stream",
     "text": [
      "   name  age           city\n",
      "0  John   30       New York\n",
      "1  Jane   25  San Francisco\n",
      "2   Bob   22         London\n"
     ]
    }
   ],
   "source": [
    "import pandas as pd\n",
    "\n",
    "# Create a DataFrame object\n",
    "data = {'name': ['John', 'Jane', 'Bob', 'Alice', 'Mike'],\n",
    "        'age': [30, 25, 22, 35, 40],\n",
    "        'city': ['New York', 'San Francisco', 'London', 'Paris', 'Tokyo']}\n",
    "df = pd.DataFrame(data)\n",
    "\n",
    "# Print the first three rows of the DataFrame\n",
    "print(df.head(3))\n"
   ]
  },
  {
   "cell_type": "code",
   "execution_count": 6,
   "id": "f96c8e2a-277c-43f8-b65a-e9c578136e36",
   "metadata": {},
   "outputs": [
    {
     "name": "stdout",
     "output_type": "stream",
     "text": [
      "             age\n",
      "count   5.000000\n",
      "mean   30.400000\n",
      "std     7.300685\n",
      "min    22.000000\n",
      "25%    25.000000\n",
      "50%    30.000000\n",
      "75%    35.000000\n",
      "max    40.000000\n"
     ]
    }
   ],
   "source": [
    "import pandas as pd\n",
    "\n",
    "# Create a DataFrame object\n",
    "data = {'age': [30, 25, 22, 35, 40]}\n",
    "df = pd.DataFrame(data)\n",
    "\n",
    "# Generate descriptive statistics of the DataFrame\n",
    "print(df.describe())\n"
   ]
  },
  {
   "cell_type": "code",
   "execution_count": 7,
   "id": "aca8b893-71ff-4140-aefa-75ef3290c3c1",
   "metadata": {
    "collapsed": true,
    "jupyter": {
     "outputs_hidden": true
    },
    "tags": []
   },
   "outputs": [
    {
     "name": "stdout",
     "output_type": "stream",
     "text": [
      "city\n",
      "London           22.0\n",
      "New York         30.0\n",
      "Paris            35.0\n",
      "San Francisco    25.0\n",
      "Tokyo            40.0\n",
      "Name: age, dtype: float64\n"
     ]
    }
   ],
   "source": [
    "import pandas as pd\n",
    "\n",
    "# Create a DataFrame object\n",
    "data = {'name': ['John', 'Jane', 'Bob', 'Alice', 'Mike'],\n",
    "        'age': [30, 25, 22, 35, 40],\n",
    "        'city': ['New York', 'San Francisco', 'London', 'Paris', 'Tokyo']}\n",
    "df = pd.DataFrame(data)\n",
    "\n",
    "# Group the rows of the DataFrame by city\n",
    "grouped = df.groupby('city')\n",
    "\n",
    "# Calculate the mean age for each city\n",
    "print(grouped['age'].mean())\n"
   ]
  },
  {
   "cell_type": "code",
   "execution_count": 8,
   "id": "87f33bc4-4cca-4f86-bb9f-6bf67f7eac00",
   "metadata": {
    "jupyter": {
     "source_hidden": true
    },
    "tags": []
   },
   "outputs": [
    {
     "name": "stdout",
     "output_type": "stream",
     "text": [
      "    name  age           city\n",
      "0   John   30       New York\n",
      "1   Jane   25  San Francisco\n",
      "2    Bob   22         London\n",
      "3  Alice   35          Paris\n",
      "4   Mike   40          Tokyo\n"
     ]
    }
   ],
   "source": [
    "import pandas as pd\n",
    "\n",
    "# Create two DataFrame objects\n",
    "data1 = {'name': ['John', 'Jane', 'Bob', 'Alice', 'Mike'],\n",
    "         'age': [30, 25, 22, 35, 40]}\n",
    "df1 = pd.DataFrame(data1)\n",
    "\n",
    "data2 = {'name': ['John', 'Jane', 'Bob', 'Alice', 'Mike'],\n",
    "         'city': ['New York', 'San Francisco', 'London', 'Paris', 'Tokyo']}\n",
    "df2 = pd.DataFrame(data2)\n",
    "\n",
    "# Merge the two DataFrames based on the name column\n",
    "merged = pd.merge(df1, df2, on='name')\n",
    "\n",
    "# Print the merged DataFrame\n",
    "print(merged)\n"
   ]
  },
  {
   "cell_type": "code",
   "execution_count": 9,
   "id": "69e1d24e-645c-4f7a-ac50-3c510be5e894",
   "metadata": {},
   "outputs": [],
   "source": [
    "# Q2. Given a Pandas DataFrame df with columns 'A', 'B', and 'C', write a Python function to re-index the\n",
    "# DataFrame with a new index that starts from 1 and increments by 2 for each row."
   ]
  },
  {
   "cell_type": "code",
   "execution_count": 17,
   "id": "e6b2646d-855a-49d3-b2ec-ffd7ebd6cbed",
   "metadata": {},
   "outputs": [],
   "source": [
    "import pandas as pd\n",
    "data = {'A': [1,2,3,4,5],\n",
    "        'B': [6,7,8,9,10],\n",
    "        'C': [11,12,13,14,15]}"
   ]
  },
  {
   "cell_type": "code",
   "execution_count": 18,
   "id": "492e2d2c-9160-443d-9a00-945700681378",
   "metadata": {},
   "outputs": [],
   "source": [
    "df = pd.DataFrame(data)"
   ]
  },
  {
   "cell_type": "code",
   "execution_count": 19,
   "id": "21e5e5d2-f1dd-40f5-b611-1dcb1f2985c3",
   "metadata": {},
   "outputs": [
    {
     "data": {
      "text/html": [
       "<div>\n",
       "<style scoped>\n",
       "    .dataframe tbody tr th:only-of-type {\n",
       "        vertical-align: middle;\n",
       "    }\n",
       "\n",
       "    .dataframe tbody tr th {\n",
       "        vertical-align: top;\n",
       "    }\n",
       "\n",
       "    .dataframe thead th {\n",
       "        text-align: right;\n",
       "    }\n",
       "</style>\n",
       "<table border=\"1\" class=\"dataframe\">\n",
       "  <thead>\n",
       "    <tr style=\"text-align: right;\">\n",
       "      <th></th>\n",
       "      <th>A</th>\n",
       "      <th>B</th>\n",
       "      <th>C</th>\n",
       "    </tr>\n",
       "  </thead>\n",
       "  <tbody>\n",
       "    <tr>\n",
       "      <th>0</th>\n",
       "      <td>1</td>\n",
       "      <td>6</td>\n",
       "      <td>11</td>\n",
       "    </tr>\n",
       "    <tr>\n",
       "      <th>1</th>\n",
       "      <td>2</td>\n",
       "      <td>7</td>\n",
       "      <td>12</td>\n",
       "    </tr>\n",
       "    <tr>\n",
       "      <th>2</th>\n",
       "      <td>3</td>\n",
       "      <td>8</td>\n",
       "      <td>13</td>\n",
       "    </tr>\n",
       "    <tr>\n",
       "      <th>3</th>\n",
       "      <td>4</td>\n",
       "      <td>9</td>\n",
       "      <td>14</td>\n",
       "    </tr>\n",
       "    <tr>\n",
       "      <th>4</th>\n",
       "      <td>5</td>\n",
       "      <td>10</td>\n",
       "      <td>15</td>\n",
       "    </tr>\n",
       "  </tbody>\n",
       "</table>\n",
       "</div>"
      ],
      "text/plain": [
       "   A   B   C\n",
       "0  1   6  11\n",
       "1  2   7  12\n",
       "2  3   8  13\n",
       "3  4   9  14\n",
       "4  5  10  15"
      ]
     },
     "execution_count": 19,
     "metadata": {},
     "output_type": "execute_result"
    }
   ],
   "source": [
    "df"
   ]
  },
  {
   "cell_type": "code",
   "execution_count": 22,
   "id": "7590cd1b-8e37-4c0e-805d-76792436c26f",
   "metadata": {},
   "outputs": [],
   "source": [
    "new_index = pd.RangeIndex(start=1, stop=2*len(df), step=2)"
   ]
  },
  {
   "cell_type": "code",
   "execution_count": 23,
   "id": "5a045f1f-3cf2-4691-a333-f09ee29ef17f",
   "metadata": {},
   "outputs": [],
   "source": [
    "df = df.reindex(new_index)"
   ]
  },
  {
   "cell_type": "code",
   "execution_count": 24,
   "id": "0a67a3a1-cc87-4fdd-bb5f-3c47b05857c7",
   "metadata": {},
   "outputs": [
    {
     "data": {
      "text/html": [
       "<div>\n",
       "<style scoped>\n",
       "    .dataframe tbody tr th:only-of-type {\n",
       "        vertical-align: middle;\n",
       "    }\n",
       "\n",
       "    .dataframe tbody tr th {\n",
       "        vertical-align: top;\n",
       "    }\n",
       "\n",
       "    .dataframe thead th {\n",
       "        text-align: right;\n",
       "    }\n",
       "</style>\n",
       "<table border=\"1\" class=\"dataframe\">\n",
       "  <thead>\n",
       "    <tr style=\"text-align: right;\">\n",
       "      <th></th>\n",
       "      <th>A</th>\n",
       "      <th>B</th>\n",
       "      <th>C</th>\n",
       "    </tr>\n",
       "  </thead>\n",
       "  <tbody>\n",
       "    <tr>\n",
       "      <th>1</th>\n",
       "      <td>2.0</td>\n",
       "      <td>7.0</td>\n",
       "      <td>12.0</td>\n",
       "    </tr>\n",
       "    <tr>\n",
       "      <th>3</th>\n",
       "      <td>4.0</td>\n",
       "      <td>9.0</td>\n",
       "      <td>14.0</td>\n",
       "    </tr>\n",
       "    <tr>\n",
       "      <th>5</th>\n",
       "      <td>NaN</td>\n",
       "      <td>NaN</td>\n",
       "      <td>NaN</td>\n",
       "    </tr>\n",
       "    <tr>\n",
       "      <th>7</th>\n",
       "      <td>NaN</td>\n",
       "      <td>NaN</td>\n",
       "      <td>NaN</td>\n",
       "    </tr>\n",
       "    <tr>\n",
       "      <th>9</th>\n",
       "      <td>NaN</td>\n",
       "      <td>NaN</td>\n",
       "      <td>NaN</td>\n",
       "    </tr>\n",
       "  </tbody>\n",
       "</table>\n",
       "</div>"
      ],
      "text/plain": [
       "     A    B     C\n",
       "1  2.0  7.0  12.0\n",
       "3  4.0  9.0  14.0\n",
       "5  NaN  NaN   NaN\n",
       "7  NaN  NaN   NaN\n",
       "9  NaN  NaN   NaN"
      ]
     },
     "execution_count": 24,
     "metadata": {},
     "output_type": "execute_result"
    }
   ],
   "source": [
    "df"
   ]
  },
  {
   "cell_type": "code",
   "execution_count": null,
   "id": "6518ea50-7561-418f-ba39-241a49101b40",
   "metadata": {},
   "outputs": [],
   "source": []
  },
  {
   "cell_type": "code",
   "execution_count": 11,
   "id": "78440f2f-3745-4daa-8116-fc66ce2b01dc",
   "metadata": {},
   "outputs": [],
   "source": [
    "# Q3. You have a Pandas DataFrame df with a column named 'Values'. Write a Python function that iterates over the DataFrame and calculates the sum of the first three values in the 'Values' column. The\n",
    "# function should print the sum to the console.\n",
    "\n",
    "#For example, if the 'Values' column of df contains the values [10, 20, 30, 40, 50], your function should\n",
    "#calculate and print the sum of the first three values, which is 60."
   ]
  },
  {
   "cell_type": "code",
   "execution_count": 25,
   "id": "c9e2af78-dbb6-44f3-81bd-fedf1dbd1061",
   "metadata": {},
   "outputs": [],
   "source": [
    "import pandas as pd\n",
    "data = {'Values': [1,2,3,4,5,6,7]\n",
    "       }"
   ]
  },
  {
   "cell_type": "code",
   "execution_count": 26,
   "id": "00844b2a-a744-47f9-b65a-6e75e9f9d7da",
   "metadata": {},
   "outputs": [],
   "source": [
    "df= pd.DataFrame(data)"
   ]
  },
  {
   "cell_type": "code",
   "execution_count": 27,
   "id": "e497cf8c-59b5-4a56-8cb7-9936d123f3c9",
   "metadata": {},
   "outputs": [
    {
     "data": {
      "text/html": [
       "<div>\n",
       "<style scoped>\n",
       "    .dataframe tbody tr th:only-of-type {\n",
       "        vertical-align: middle;\n",
       "    }\n",
       "\n",
       "    .dataframe tbody tr th {\n",
       "        vertical-align: top;\n",
       "    }\n",
       "\n",
       "    .dataframe thead th {\n",
       "        text-align: right;\n",
       "    }\n",
       "</style>\n",
       "<table border=\"1\" class=\"dataframe\">\n",
       "  <thead>\n",
       "    <tr style=\"text-align: right;\">\n",
       "      <th></th>\n",
       "      <th>Values</th>\n",
       "    </tr>\n",
       "  </thead>\n",
       "  <tbody>\n",
       "    <tr>\n",
       "      <th>0</th>\n",
       "      <td>1</td>\n",
       "    </tr>\n",
       "    <tr>\n",
       "      <th>1</th>\n",
       "      <td>2</td>\n",
       "    </tr>\n",
       "    <tr>\n",
       "      <th>2</th>\n",
       "      <td>3</td>\n",
       "    </tr>\n",
       "    <tr>\n",
       "      <th>3</th>\n",
       "      <td>4</td>\n",
       "    </tr>\n",
       "    <tr>\n",
       "      <th>4</th>\n",
       "      <td>5</td>\n",
       "    </tr>\n",
       "    <tr>\n",
       "      <th>5</th>\n",
       "      <td>6</td>\n",
       "    </tr>\n",
       "    <tr>\n",
       "      <th>6</th>\n",
       "      <td>7</td>\n",
       "    </tr>\n",
       "  </tbody>\n",
       "</table>\n",
       "</div>"
      ],
      "text/plain": [
       "   Values\n",
       "0       1\n",
       "1       2\n",
       "2       3\n",
       "3       4\n",
       "4       5\n",
       "5       6\n",
       "6       7"
      ]
     },
     "execution_count": 27,
     "metadata": {},
     "output_type": "execute_result"
    }
   ],
   "source": [
    "df"
   ]
  },
  {
   "cell_type": "code",
   "execution_count": 36,
   "id": "94518fb6-e58d-49c4-b7b3-7ae0d03c89ef",
   "metadata": {},
   "outputs": [],
   "source": [
    "def  Sum_of_first_three_values(df):\n",
    "    result = sum(df.Values[:3])\n",
    "    return result\n",
    "    "
   ]
  },
  {
   "cell_type": "code",
   "execution_count": 37,
   "id": "a6e55368-d3a5-4608-b47d-597442f38854",
   "metadata": {},
   "outputs": [
    {
     "data": {
      "text/plain": [
       "6"
      ]
     },
     "execution_count": 37,
     "metadata": {},
     "output_type": "execute_result"
    }
   ],
   "source": [
    "Sum_of_first_three_values(df)"
   ]
  },
  {
   "cell_type": "code",
   "execution_count": null,
   "id": "e1214693-dfb1-4c9d-ac2c-18fcf81b02f1",
   "metadata": {},
   "outputs": [],
   "source": []
  },
  {
   "cell_type": "code",
   "execution_count": 12,
   "id": "c7a8e4ca-4272-4517-9353-4563351de12c",
   "metadata": {},
   "outputs": [],
   "source": [
    "#Q4. Given a Pandas DataFrame df with a column 'Text', write a Python function to create a new column\n",
    "#'Word_Count' that contains the number of words in each row of the 'Text' column."
   ]
  },
  {
   "cell_type": "code",
   "execution_count": null,
   "id": "12ef26a1-7bd0-436f-8ba3-56750e7e5db0",
   "metadata": {},
   "outputs": [],
   "source": [
    "import pandas as pd\n",
    "\n",
    "def add_word_count_column(df):\n",
    "    # split the 'Text' column into a list of words for each row\n",
    "    words_lists = df['Text'].str.split()\n",
    "\n",
    "    # count the number of words in each list and create a new Series\n",
    "    word_counts = words_lists.apply(lambda x: len(x))\n",
    "\n",
    "    # add the new 'Word_Count' column to the DataFrame\n",
    "    df['Word_Count'] = word_counts\n",
    "\n",
    "    # return the DataFrame with the new column added\n",
    "    return df\n"
   ]
  },
  {
   "cell_type": "code",
   "execution_count": null,
   "id": "c131657f-b98d-46f3-8c25-c59079be16e0",
   "metadata": {},
   "outputs": [],
   "source": [
    "# Q5. How are DataFrame.size() and DataFrame.shape() different?"
   ]
  },
  {
   "cell_type": "code",
   "execution_count": null,
   "id": "5c42b5e1-1de6-4fdc-8aee-8ec5a40bbdd5",
   "metadata": {},
   "outputs": [],
   "source": [
    "\"\"\"\n",
    "Ans.  DataFrame.size() and DataFrame.shape() are both methods of the Pandas DataFrame object, but they have different functionalities.\n",
    "\n",
    "DataFrame.size(): This method returns the total number of elements in the DataFrame. This is equivalent to the number of rows multiplied by the number of columns. The returned value is an integer.\n",
    "\n",
    "DataFrame.shape(): This method returns a tuple representing the dimensions of the DataFrame. The tuple contains two elements, the number of rows and the number of columns. The returned value is a tuple.\n",
    "\"\"\""
   ]
  },
  {
   "cell_type": "code",
   "execution_count": null,
   "id": "3ea2f8ee-24f1-4539-aaf2-6d238b3171f7",
   "metadata": {},
   "outputs": [],
   "source": [
    "# Q6. Which function of pandas do we use to read an excel file?"
   ]
  },
  {
   "cell_type": "code",
   "execution_count": null,
   "id": "7c6a1249-c873-4c4a-8fc0-9a3ff1d84b7d",
   "metadata": {},
   "outputs": [],
   "source": [
    "import pandas as pd\n",
    "\"\"\"\n",
    "# Read an Excel file into a DataFrame\n",
    "df = pd.read_excel('file.xlsx', sheet_name='Sheet1')\n",
    "\n",
    "# Display the DataFrame\n",
    "print(df.head())\n",
    "\n",
    "\"\"\"\""
   ]
  },
  {
   "cell_type": "code",
   "execution_count": null,
   "id": "8acd9ca9-5618-4337-90e9-4a34e58a505c",
   "metadata": {},
   "outputs": [],
   "source": [
    "\"\"\"\n",
    "Q7. You have a Pandas DataFrame df that contains a column named 'Email' that contains email\n",
    "addresses in the format 'username@domain.com'. Write a Python function that creates a new column\n",
    "'Username' in df that contains only the username part of each email address.\n",
    "The username is the part of the email address that appears before the '@' symbol. For example, if the\n",
    "email address is 'john.doe@example.com', the 'Username' column should contain 'john.doe'. Your\n",
    "function should extract the username from each email address and store it in the new 'Username'\n",
    "column.\n",
    "\n",
    "\"\"\""
   ]
  },
  {
   "cell_type": "code",
   "execution_count": 3,
   "id": "ea22d7b9-a2f2-476e-b9d9-08317c22d5cb",
   "metadata": {},
   "outputs": [],
   "source": [
    "import pandas as pd\n",
    "\n",
    "def extract_username(df):\n",
    "    # Extract the username from each email address and store it in a new column\n",
    "    df['Username'] = df['Email'].str.split('@').str[0]\n",
    "    return df\n"
   ]
  },
  {
   "cell_type": "code",
   "execution_count": 4,
   "id": "b86aeab5-5f13-4c27-adfa-593b622ebee5",
   "metadata": {},
   "outputs": [
    {
     "name": "stdout",
     "output_type": "stream",
     "text": [
      "                   Email   Username\n",
      "0   john.doe@example.com   john.doe\n",
      "1   jane.doe@example.com   jane.doe\n",
      "2  bob.smith@example.com  bob.smith\n"
     ]
    }
   ],
   "source": [
    "\n",
    "# Create a sample DataFrame with an 'Email' column\n",
    "df = pd.DataFrame({'Email': ['john.doe@example.com', 'jane.doe@example.com', 'bob.smith@example.com']})\n",
    "\n",
    "# Use the extract_username function to create a new 'Username' column\n",
    "df = extract_username(df)\n",
    "\n",
    "# Display the updated DataFrame\n",
    "print(df.head())\n"
   ]
  },
  {
   "cell_type": "code",
   "execution_count": null,
   "id": "27956da3-da17-42f1-ab21-5ff89f2efec9",
   "metadata": {},
   "outputs": [],
   "source": [
    "\"\"\"\n",
    "Q8. You have a Pandas DataFrame df with columns 'A', 'B', and 'C'. Write a Python function that selects\n",
    "all rows where the value in column 'A' is greater than 5 and the value in column 'B' is less than 10. The\n",
    "function should return a new DataFrame that contains only the selected rows.\n",
    "For example, if df contains the following values:\n",
    "A B C\n",
    "0 3 5 1\n",
    "1 8 2 7\n",
    "2 6 9 4\n",
    "3 2 3 5\n",
    "4 9 1 2\n",
    "\n",
    "Your function should select the following rows: A B C\n",
    "1 8 2 7\n",
    "4 9 1 2\n",
    "The function should return a new DataFrame that contains only the selected rows.\n",
    "\n",
    "\"\"\""
   ]
  },
  {
   "cell_type": "code",
   "execution_count": 5,
   "id": "3ce399c8-3dcd-461a-a6ba-a50c1f48826b",
   "metadata": {},
   "outputs": [],
   "source": [
    "import pandas as pd\n",
    "\n",
    "def select_rows(df):\n",
    "    # Select rows where A > 5 and B < 10\n",
    "    selected_rows = df[(df['A'] > 5) & (df['B'] < 10)]\n",
    "    \n",
    "    # Return the selected rows\n",
    "    return selected_rows\n"
   ]
  },
  {
   "cell_type": "code",
   "execution_count": 6,
   "id": "406ad98f-f735-4d55-82b1-0864edc287aa",
   "metadata": {},
   "outputs": [
    {
     "name": "stdout",
     "output_type": "stream",
     "text": [
      "   A  B  C\n",
      "1  8  2  7\n",
      "2  6  9  4\n",
      "4  9  1  2\n"
     ]
    }
   ],
   "source": [
    "# Create a sample DataFrame with columns 'A', 'B', and 'C'\n",
    "df = pd.DataFrame({\n",
    "    'A': [3, 8, 6, 2, 9],\n",
    "    'B': [5, 2, 9, 3, 1],\n",
    "    'C': [1, 7, 4, 5, 2]\n",
    "})\n",
    "\n",
    "# Use the select_rows function to select rows where A > 5 and B < 10\n",
    "selected_rows = select_rows(df)\n",
    "\n",
    "# Display the selected rows\n",
    "print(selected_rows.head())\n"
   ]
  },
  {
   "cell_type": "code",
   "execution_count": null,
   "id": "4eb1285d-d3a1-4474-ac7d-125e368b76ef",
   "metadata": {},
   "outputs": [],
   "source": [
    "# Q9. Given a Pandas DataFrame df with a column 'Values', write a Python function to calculate the mean,\n",
    "# median, and standard deviation of the values in the 'Values' column."
   ]
  },
  {
   "cell_type": "code",
   "execution_count": 10,
   "id": "0649eaad-eb55-4c9f-8a78-617a0e18ca26",
   "metadata": {},
   "outputs": [],
   "source": [
    "def cal_stats(df):\n",
    "    mean = df['Values'].mean()\n",
    "    median=df['Values'].median()\n",
    "    std_dev = df['Values'].std()\n",
    "    results = {\n",
    "        'mean': mean,\n",
    "        'median': median,\n",
    "        'standard deviation': std_dev\n",
    "    }\n",
    "    return results"
   ]
  },
  {
   "cell_type": "code",
   "execution_count": 11,
   "id": "f5662ca9-4353-4471-9c60-7b0d89af6c5d",
   "metadata": {},
   "outputs": [
    {
     "data": {
      "text/plain": [
       "{'mean': 30.0, 'median': 30.0, 'standard deviation': 15.811388300841896}"
      ]
     },
     "execution_count": 11,
     "metadata": {},
     "output_type": "execute_result"
    }
   ],
   "source": [
    "import numpy as np\n",
    "df = pd.DataFrame({\n",
    "    'Values': [10, 20, 30, 40, 50]\n",
    "})\n",
    "\n",
    "cal_stats(df)"
   ]
  },
  {
   "cell_type": "code",
   "execution_count": null,
   "id": "62a430db-2876-4058-82e9-9caec7e2e317",
   "metadata": {},
   "outputs": [],
   "source": []
  },
  {
   "cell_type": "code",
   "execution_count": null,
   "id": "9c1cca79-67c0-4687-82ff-041cabd23532",
   "metadata": {},
   "outputs": [],
   "source": [
    "\"\"\"\n",
    "Q10. Given a Pandas DataFrame df with a column 'Sales' and a column 'Date', write a Python function to\n",
    "create a new column 'MovingAverage' that contains the moving average of the sales for the past 7 days\n",
    "for each row in the DataFrame. The moving average should be calculated using a window of size 7 and\n",
    "should include the current day.\n",
    "\n",
    "\"\"\""
   ]
  },
  {
   "cell_type": "code",
   "execution_count": 12,
   "id": "4dd0d713-f5d3-4cb7-8d2d-6695563446a3",
   "metadata": {},
   "outputs": [],
   "source": [
    "import pandas as pd\n",
    "\n",
    "def calculate_moving_average(df):\n",
    "    # Calculate rolling window of size 7 days\n",
    "    window_size = 7\n",
    "    rolling_sales = df['Sales'].rolling(window_size, min_periods=1)\n",
    "    \n",
    "    # Calculate moving average of sales for each row\n",
    "    moving_average = rolling_sales.mean()\n",
    "    \n",
    "    # Add moving average as new column to DataFrame\n",
    "    df['MovingAverage'] = moving_average\n",
    "    \n",
    "    # Return DataFrame with new column\n",
    "    return df\n"
   ]
  },
  {
   "cell_type": "code",
   "execution_count": 13,
   "id": "9a955130-123e-42d9-9560-8730582ba4c5",
   "metadata": {},
   "outputs": [
    {
     "name": "stdout",
     "output_type": "stream",
     "text": [
      "   Sales       Date  MovingAverage\n",
      "0     10 2023-01-01           10.0\n",
      "1     20 2023-01-02           15.0\n",
      "2     30 2023-01-03           20.0\n",
      "3     40 2023-01-04           25.0\n",
      "4     50 2023-01-05           30.0\n",
      "5     60 2023-01-06           35.0\n",
      "6     70 2023-01-07           40.0\n",
      "7     80 2023-01-08           50.0\n",
      "8     90 2023-01-09           60.0\n",
      "9    100 2023-01-10           70.0\n"
     ]
    }
   ],
   "source": [
    "# Create a sample DataFrame with 'Sales' and 'Date' columns\n",
    "df = pd.DataFrame({\n",
    "    'Sales': [10, 20, 30, 40, 50, 60, 70, 80, 90, 100],\n",
    "    'Date': pd.date_range(start='2023-01-01', periods=10, freq='D')\n",
    "})\n",
    "\n",
    "# Use the calculate_moving_average function to calculate moving average of 'Sales' column\n",
    "df = calculate_moving_average(df)\n",
    "\n",
    "# Display the modified DataFrame with new 'MovingAverage' column\n",
    "print(df)\n"
   ]
  },
  {
   "cell_type": "code",
   "execution_count": null,
   "id": "f1853cd4-b737-4a3f-bb30-e19aaaabe7f9",
   "metadata": {},
   "outputs": [],
   "source": [
    "\"\"\"\n",
    "Q11. You have a Pandas DataFrame df with a column 'Date'. Write a Python function that creates a new\n",
    "column 'Weekday' in the DataFrame. The 'Weekday' column should contain the weekday name (e.g.\n",
    "Monday, Tuesday) corresponding to each date in the 'Date' column.\n",
    "For example, if df contains the following values:\n",
    "Date\n",
    "0 2023-01-01\n",
    "1 2023-01-02\n",
    "2 2023-01-03\n",
    "3 2023-01-04\n",
    "4 2023-01-05\n",
    "Your function should create the following DataFrame:\n",
    "\n",
    "Date Weekday\n",
    "0 2023-01-01 Sunday\n",
    "1 2023-01-02 Monday\n",
    "2 2023-01-03 Tuesday\n",
    "3 2023-01-04 Wednesday\n",
    "4 2023-01-05 Thursday\n",
    "The function should return the modified DataFrame.\n",
    "\n",
    "\"\"\""
   ]
  },
  {
   "cell_type": "code",
   "execution_count": 41,
   "id": "f0805a8c-5add-49d4-975b-42527c24f48b",
   "metadata": {},
   "outputs": [],
   "source": [
    "import pandas as pd\n",
    "\n",
    "def add_weekday(df):\n",
    "    df['Weekday'] = pd.to_datetime(df['Date']).dt.day_name()\n",
    "    return df\n"
   ]
  },
  {
   "cell_type": "code",
   "execution_count": 42,
   "id": "edb7ec61-43ce-4a38-a35c-88b00e5da5eb",
   "metadata": {},
   "outputs": [
    {
     "data": {
      "text/html": [
       "<div>\n",
       "<style scoped>\n",
       "    .dataframe tbody tr th:only-of-type {\n",
       "        vertical-align: middle;\n",
       "    }\n",
       "\n",
       "    .dataframe tbody tr th {\n",
       "        vertical-align: top;\n",
       "    }\n",
       "\n",
       "    .dataframe thead th {\n",
       "        text-align: right;\n",
       "    }\n",
       "</style>\n",
       "<table border=\"1\" class=\"dataframe\">\n",
       "  <thead>\n",
       "    <tr style=\"text-align: right;\">\n",
       "      <th></th>\n",
       "      <th>Date</th>\n",
       "      <th>Weekday</th>\n",
       "    </tr>\n",
       "  </thead>\n",
       "  <tbody>\n",
       "    <tr>\n",
       "      <th>0</th>\n",
       "      <td>2023-01-01</td>\n",
       "      <td>Sunday</td>\n",
       "    </tr>\n",
       "    <tr>\n",
       "      <th>1</th>\n",
       "      <td>2023-01-02</td>\n",
       "      <td>Monday</td>\n",
       "    </tr>\n",
       "    <tr>\n",
       "      <th>2</th>\n",
       "      <td>2023-01-03</td>\n",
       "      <td>Tuesday</td>\n",
       "    </tr>\n",
       "    <tr>\n",
       "      <th>3</th>\n",
       "      <td>2023-01-04</td>\n",
       "      <td>Wednesday</td>\n",
       "    </tr>\n",
       "    <tr>\n",
       "      <th>4</th>\n",
       "      <td>2023-01-05</td>\n",
       "      <td>Thursday</td>\n",
       "    </tr>\n",
       "    <tr>\n",
       "      <th>5</th>\n",
       "      <td>2023-01-06</td>\n",
       "      <td>Friday</td>\n",
       "    </tr>\n",
       "    <tr>\n",
       "      <th>6</th>\n",
       "      <td>2023-01-07</td>\n",
       "      <td>Saturday</td>\n",
       "    </tr>\n",
       "    <tr>\n",
       "      <th>7</th>\n",
       "      <td>2023-01-08</td>\n",
       "      <td>Sunday</td>\n",
       "    </tr>\n",
       "    <tr>\n",
       "      <th>8</th>\n",
       "      <td>2023-01-09</td>\n",
       "      <td>Monday</td>\n",
       "    </tr>\n",
       "    <tr>\n",
       "      <th>9</th>\n",
       "      <td>2023-01-10</td>\n",
       "      <td>Tuesday</td>\n",
       "    </tr>\n",
       "  </tbody>\n",
       "</table>\n",
       "</div>"
      ],
      "text/plain": [
       "        Date    Weekday\n",
       "0 2023-01-01     Sunday\n",
       "1 2023-01-02     Monday\n",
       "2 2023-01-03    Tuesday\n",
       "3 2023-01-04  Wednesday\n",
       "4 2023-01-05   Thursday\n",
       "5 2023-01-06     Friday\n",
       "6 2023-01-07   Saturday\n",
       "7 2023-01-08     Sunday\n",
       "8 2023-01-09     Monday\n",
       "9 2023-01-10    Tuesday"
      ]
     },
     "execution_count": 42,
     "metadata": {},
     "output_type": "execute_result"
    }
   ],
   "source": [
    "df= pd.DataFrame({'Date': pd.date_range(start='2023-01-01', periods=10, freq='D')})\n",
    "df\n",
    "add_weekday(df)"
   ]
  },
  {
   "cell_type": "code",
   "execution_count": null,
   "id": "7ca38f28-a2c0-4a41-83c8-10dd2f135dbe",
   "metadata": {},
   "outputs": [],
   "source": []
  },
  {
   "cell_type": "code",
   "execution_count": 24,
   "id": "02fd6198-3038-486f-a085-44465c911038",
   "metadata": {},
   "outputs": [],
   "source": [
    "#Q12. Given a Pandas DataFrame df with a column 'Date' that contains timestamps, write a Python\n",
    "# function to select all rows where the date is between '2023-01-01' and '2023-01-31'."
   ]
  },
  {
   "cell_type": "code",
   "execution_count": 52,
   "id": "ea4aa92e-c565-4055-b336-e0317ca47202",
   "metadata": {},
   "outputs": [],
   "source": [
    "def select_january_data(df):\n",
    "    # Convert 'Date' column to datetime format\n",
    "    df['Date'] = pd.to_datetime(df['Date'])\n",
    "    # Select rows where 'Date' is between '2023-01-01' and '2023-01-10'\n",
    "    jan_data = df[(df['Date'] >= '2023-01-01') & (df['Date'] <= '2023-01-10')]\n",
    "    # Return selected data\n",
    "    return jan_data\n"
   ]
  },
  {
   "cell_type": "code",
   "execution_count": 53,
   "id": "e5f1d57e-53c8-4d89-9975-6ca15e730611",
   "metadata": {},
   "outputs": [
    {
     "data": {
      "text/html": [
       "<div>\n",
       "<style scoped>\n",
       "    .dataframe tbody tr th:only-of-type {\n",
       "        vertical-align: middle;\n",
       "    }\n",
       "\n",
       "    .dataframe tbody tr th {\n",
       "        vertical-align: top;\n",
       "    }\n",
       "\n",
       "    .dataframe thead th {\n",
       "        text-align: right;\n",
       "    }\n",
       "</style>\n",
       "<table border=\"1\" class=\"dataframe\">\n",
       "  <thead>\n",
       "    <tr style=\"text-align: right;\">\n",
       "      <th></th>\n",
       "      <th>Date</th>\n",
       "    </tr>\n",
       "  </thead>\n",
       "  <tbody>\n",
       "    <tr>\n",
       "      <th>0</th>\n",
       "      <td>2023-01-01</td>\n",
       "    </tr>\n",
       "    <tr>\n",
       "      <th>1</th>\n",
       "      <td>2023-01-02</td>\n",
       "    </tr>\n",
       "    <tr>\n",
       "      <th>2</th>\n",
       "      <td>2023-01-03</td>\n",
       "    </tr>\n",
       "    <tr>\n",
       "      <th>3</th>\n",
       "      <td>2023-01-04</td>\n",
       "    </tr>\n",
       "    <tr>\n",
       "      <th>4</th>\n",
       "      <td>2023-01-05</td>\n",
       "    </tr>\n",
       "    <tr>\n",
       "      <th>5</th>\n",
       "      <td>2023-01-06</td>\n",
       "    </tr>\n",
       "    <tr>\n",
       "      <th>6</th>\n",
       "      <td>2023-01-07</td>\n",
       "    </tr>\n",
       "    <tr>\n",
       "      <th>7</th>\n",
       "      <td>2023-01-08</td>\n",
       "    </tr>\n",
       "    <tr>\n",
       "      <th>8</th>\n",
       "      <td>2023-01-09</td>\n",
       "    </tr>\n",
       "    <tr>\n",
       "      <th>9</th>\n",
       "      <td>2023-01-10</td>\n",
       "    </tr>\n",
       "  </tbody>\n",
       "</table>\n",
       "</div>"
      ],
      "text/plain": [
       "        Date\n",
       "0 2023-01-01\n",
       "1 2023-01-02\n",
       "2 2023-01-03\n",
       "3 2023-01-04\n",
       "4 2023-01-05\n",
       "5 2023-01-06\n",
       "6 2023-01-07\n",
       "7 2023-01-08\n",
       "8 2023-01-09\n",
       "9 2023-01-10"
      ]
     },
     "execution_count": 53,
     "metadata": {},
     "output_type": "execute_result"
    }
   ],
   "source": [
    "df= pd.DataFrame({'Date': pd.date_range(start='2023-01-01', periods=20, freq='D')})\n",
    "select_january_data(df)"
   ]
  },
  {
   "cell_type": "code",
   "execution_count": null,
   "id": "7276639e-a462-418b-b8c0-8997b6cebff2",
   "metadata": {},
   "outputs": [],
   "source": []
  },
  {
   "cell_type": "code",
   "execution_count": null,
   "id": "4e5e6241-7635-45e4-9de4-95769f5daefc",
   "metadata": {},
   "outputs": [],
   "source": [
    "#Q13. To use the basic functions of pandas, what is the first and foremost necessary library that needs to\n",
    "# be imported?"
   ]
  },
  {
   "cell_type": "code",
   "execution_count": null,
   "id": "7ef7c3bf-bcb5-4f8b-9919-ec170245c939",
   "metadata": {},
   "outputs": [],
   "source": [
    "import pandas as pd\n"
   ]
  }
 ],
 "metadata": {
  "kernelspec": {
   "display_name": "Python 3 (ipykernel)",
   "language": "python",
   "name": "python3"
  },
  "language_info": {
   "codemirror_mode": {
    "name": "ipython",
    "version": 3
   },
   "file_extension": ".py",
   "mimetype": "text/x-python",
   "name": "python",
   "nbconvert_exporter": "python",
   "pygments_lexer": "ipython3",
   "version": "3.10.8"
  }
 },
 "nbformat": 4,
 "nbformat_minor": 5
}
