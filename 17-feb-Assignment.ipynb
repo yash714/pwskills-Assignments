{
 "cells": [
  {
   "cell_type": "markdown",
   "id": "c8865fef-760a-4677-9aca-ba6604aa5b71",
   "metadata": {},
   "source": [
    "\"\"\" \n",
    "Q1. What is MongoDB? Explain non-relational databases in short. In which scenarios it is preferred to use\n",
    "MongoDB over SQL databases?\n",
    "\n",
    "\"\"\""
   ]
  },
  {
   "cell_type": "markdown",
   "id": "3ee3019e-eb3f-4184-885c-ba92a143f316",
   "metadata": {},
   "source": [
    "\"\"\"\n",
    "Ans.  MongoDB is a document-oriented NoSQL database that uses JSON-like documents with optional schema to store data. It is designed to be scalable, flexible, and fast, and is often used for modern web applications, real-time analytics, and high-volume transactional systems.\n",
    "\n",
    "Non-relational databases, also known as NoSQL databases, differ from traditional relational databases (SQL databases) in their data models, query languages, and storage architectures. They do not use tables, rows, and columns to store data, but instead use various data models such as key-value, document-oriented, graph-based, or column-family. They also typically have less strict data consistency and transaction support compared to SQL databases, but offer higher scalability and performance for certain types of workloads.\n",
    "\n",
    "MongoDB is preferred over SQL databases in several scenarios, such as:\n",
    "\n",
    "When the data is unstructured or semi-structured, or when the schema is not predefined or subject to frequent changes.\n",
    "\n",
    "When there is a need for horizontal scaling, sharding, or distributed architecture, as MongoDB can handle large volumes of data and high traffic more efficiently than SQL databases.\n",
    "\n",
    "When there is a need for high availability, automatic failover, and self-healing capabilities, as MongoDB has built-in support for replica sets and automatic recovery.\n",
    "\n",
    "When there is a need for fast query performance, especially for complex queries that require multiple joins or aggregations, as MongoDB has a powerful and flexible query language and indexing system.\n",
    "\n",
    "When there is a need for rich data modeling, as MongoDB supports nested documents, arrays, and geospatial data, among other data types, and allows for more expressive data structures and relationships.\n",
    "\n",
    " \"\"\""
   ]
  },
  {
   "cell_type": "code",
   "execution_count": null,
   "id": "47f28f59-2148-47de-804a-5a934bdecb67",
   "metadata": {},
   "outputs": [],
   "source": [
    "# Q2. State and Explain the features of MongoDB."
   ]
  },
  {
   "cell_type": "markdown",
   "id": "40c7d751-86cb-4dca-a71e-5824ff1de482",
   "metadata": {},
   "source": [
    "\"\"\"\n",
    "Ans.  MongoDB is a popular NoSQL document-oriented database that provides a flexible and scalable approach to storing and managing data. Here are some of the key features of MongoDB:\n",
    "\n",
    "Document-Oriented: MongoDB is a document-oriented database, which means it stores data in JSON-like documents with dynamic schemas. This provides flexibility and scalability as data structures can be changed without having to modify the schema.\n",
    "\n",
    "High Performance: MongoDB is designed for high performance with features like index support, in-memory storage, and automatic sharding, which allows for horizontal scaling across multiple servers.\n",
    "\n",
    "Flexible Data Model: MongoDB supports a flexible data model, allowing you to store data of any type and structure. This makes it ideal for storing semi-structured and unstructured data.\n",
    "\n",
    "Distributed Architecture: MongoDB is designed to run on distributed systems, allowing for easy scaling of data across multiple servers or clusters. This makes it suitable for large and complex applications.\n",
    "\n",
    "Replication and High Availability: MongoDB supports automatic replication and high availability, ensuring that data is always available even in the event of server failures.\n",
    "\n",
    "Aggregation Framework: MongoDB provides a powerful aggregation framework that allows for advanced data analysis and processing, making it suitable for complex analytical queries.\n",
    "\n",
    "Rich Query Language: MongoDB provides a rich query language that supports complex queries and can handle large datasets efficiently.\n",
    "\n",
    "Overall, MongoDB is a powerful and flexible database that provides a range of features and benefits for modern applications.\n",
    "\n",
    " \"\"\""
   ]
  },
  {
   "cell_type": "code",
   "execution_count": null,
   "id": "b8fc2ed6-02b2-4b73-ba75-c35ba78c01f6",
   "metadata": {},
   "outputs": [],
   "source": [
    "# Q3. Write a code to connect MongoDB to Python. Also, create a database and a collection in MongoDB."
   ]
  },
  {
   "cell_type": "markdown",
   "id": "39b97395-0eba-4e21-8175-c097939e4f0f",
   "metadata": {},
   "source": [
    "\"\"\"\n",
    "Ans.  import pymongo\n",
    "\n",
    "# Connect to MongoDB\n",
    "client = pymongo.MongoClient(\"mongodb://localhost:27017/\")\n",
    "\n",
    "# Create a database\n",
    "mydb = client[\"mydatabase\"]\n",
    "\n",
    "# Create a collection\n",
    "mycol = mydb[\"customers\"]\n",
    "\n",
    "\n",
    " \"\"\""
   ]
  },
  {
   "cell_type": "markdown",
   "id": "5174eb2c-6a00-459b-89ab-e043a237a377",
   "metadata": {},
   "source": [
    "\"\"\"\n",
    "Q4. Using the database and the collection created in question number 3, write a code to insert one record,\n",
    "and insert many records. Use the find() and find_one() methods to print the inserted record.\n",
    "\n",
    "\"\"\""
   ]
  },
  {
   "cell_type": "markdown",
   "id": "525c9c00-fe28-4113-b200-d8ebbfc8c4f5",
   "metadata": {},
   "source": [
    "\"\"\"\n",
    "Ans. import pymongo\n",
    "\n",
    "# Connect to MongoDB\n",
    "client = pymongo.MongoClient(\"mongodb://localhost:27017/\")\n",
    "mydb = client[\"mydatabase\"]\n",
    "mycol = mydb[\"customers\"]\n",
    "\n",
    "# Insert one record\n",
    "mydict = { \"name\": \"John\", \"address\": \"Highway 37\" }\n",
    "mycol.insert_one(mydict)\n",
    "\n",
    "# Insert many records\n",
    "mylist = [\n",
    "  { \"name\": \"Peter\", \"address\": \"Lowstreet 27\" },\n",
    "  { \"name\": \"Amy\", \"address\": \"Apple st 652\" },\n",
    "  { \"name\": \"Hannah\", \"address\": \"Mountain 21\" },\n",
    "  { \"name\": \"Michael\", \"address\": \"Valley 345\" },\n",
    "  { \"name\": \"Sandy\", \"address\": \"Ocean blvd 2\" },\n",
    "  { \"name\": \"Betty\", \"address\": \"Green Grass 1\" },\n",
    "  { \"name\": \"Richard\", \"address\": \"Sky st 331\" },\n",
    "  { \"name\": \"Susan\", \"address\": \"One way 98\" },\n",
    "  { \"name\": \"Vicky\", \"address\": \"Yellow Garden 2\" },\n",
    "  { \"name\": \"Ben\", \"address\": \"Park Lane 38\" },\n",
    "  { \"name\": \"William\", \"address\": \"Central st 954\" },\n",
    "  { \"name\": \"Chuck\", \"address\": \"Main Road 989\" },\n",
    "  { \"name\": \"Viola\", \"address\": \"Sideway 1633\" }\n",
    "]\n",
    "mycol.insert_many(mylist)\n",
    "\n",
    "# Find one record\n",
    "x = mycol.find_one()\n",
    "print(x)\n",
    "\n",
    "# Find all records\n",
    "for x in mycol.find():\n",
    "  print(x)\n",
    "\n",
    "\n",
    " \"\"\""
   ]
  },
  {
   "cell_type": "markdown",
   "id": "b2eef213-b940-4e05-834d-3062a45d3b4a",
   "metadata": {},
   "source": [
    "\"\"\"\n",
    "Q5. Explain how you can use the find() method to query the MongoDB database. Write a simple code to\n",
    "demonstrate this.\n",
    "\n",
    "\"\"\""
   ]
  },
  {
   "cell_type": "markdown",
   "id": "ae9f30d1-93f6-4067-8a5a-9d28d10701f1",
   "metadata": {},
   "source": [
    "\"\"\"\n",
    "Ans. The find() method in MongoDB is used to retrieve documents from a collection. It can be used to query the database based on specified criteria, such as matching values in fields or using comparison operators. Here is an example code that demonstrates how to use the find() method to query the customers collection in the mydatabase database created \n",
    "\n",
    "import pymongo\n",
    "\n",
    "# Connect to MongoDB\n",
    "client = pymongo.MongoClient(\"mongodb://localhost:27017/\")\n",
    "mydb = client[\"mydatabase\"]\n",
    "mycol = mydb[\"customers\"]\n",
    "\n",
    "# Find documents with a specific value in a field\n",
    "myquery = { \"address\": \"Park Lane 38\" }\n",
    "mydocs = mycol.find(myquery)\n",
    "for doc in mydocs:\n",
    "  print(doc)\n",
    "\n",
    "# Find documents using comparison operators\n",
    "myquery = { \"address\": { \"$gt\": \"S\" } }\n",
    "mydocs = mycol.find(myquery)\n",
    "for doc in mydocs:\n",
    "  print(doc)\n",
    "\n",
    "\n",
    " \"\"\""
   ]
  },
  {
   "cell_type": "code",
   "execution_count": null,
   "id": "7585b605-cd39-49b1-895c-d936eb51adfd",
   "metadata": {},
   "outputs": [],
   "source": [
    "# Q6. Explain the sort() method. Give an example to demonstrate sorting in MongoDB."
   ]
  },
  {
   "cell_type": "markdown",
   "id": "95c29adb-813c-4cbe-b41b-3d6b2d584e3d",
   "metadata": {},
   "source": [
    "\"\"\"\n",
    "Ans. The sort() method in MongoDB is used to sort the results of a query in ascending or descending order based on one or more fields in the documents. The method takes a dictionary object as its argument, where the keys are the field names to sort by and the values are either 1 for ascending order or -1 for descending order.\n",
    "\n",
    "import pymongo\n",
    "\n",
    "# Connect to MongoDB\n",
    "client = pymongo.MongoClient(\"mongodb://localhost:27017/\")\n",
    "mydb = client[\"mydatabase\"]\n",
    "mycol = mydb[\"customers\"]\n",
    "\n",
    "# Sort documents by name in ascending order\n",
    "mydocs = mycol.find().sort(\"name\")\n",
    "for doc in mydocs:\n",
    "  print(doc)\n",
    "\n",
    "# Sort documents by address in descending order\n",
    "mydocs = mycol.find().sort(\"address\", -1)\n",
    "for doc in mydocs:\n",
    "  print(doc)\n",
    "\n",
    "\n",
    " \"\"\""
   ]
  },
  {
   "cell_type": "code",
   "execution_count": null,
   "id": "cd738d2f-8001-4670-af40-902edeead6fc",
   "metadata": {},
   "outputs": [],
   "source": [
    "# Q7. Explain why delete_one(), delete_many(), and drop() is used."
   ]
  },
  {
   "cell_type": "markdown",
   "id": "6421f8ea-77d2-48de-9fbb-f37b1acd0a40",
   "metadata": {},
   "source": [
    "\"\"\"\n",
    "Ans. The delete_one() and delete_many() methods in MongoDB are used to remove documents from a collection that match a specified filter. The difference between the two is that delete_one() removes the first document that matches the filter, while delete_many() removes all documents that match the filter.\n",
    "\n",
    "These methods are useful when we want to remove specific documents from a collection based on certain criteria, such as outdated data or duplicates.\n",
    "\n",
    "import pymongo\n",
    "import datetime\n",
    "\n",
    "# Connect to MongoDB\n",
    "client = pymongo.MongoClient(\"mongodb://localhost:27017/\")\n",
    "mydb = client[\"mydatabase\"]\n",
    "mycol = mydb[\"users\"]\n",
    "\n",
    "# Delete documents that have not logged in for over a year\n",
    "one_year_ago = datetime.datetime.now() - datetime.timedelta(days=365)\n",
    "myquery = { \"last_login\": { \"$lt\": one_year_ago } }\n",
    "result = mycol.delete_many(myquery)\n",
    "print(result.deleted_count, \"documents deleted\")\n",
    "\n",
    "\n",
    "\n",
    "The drop() method, on the other hand, is used to delete an entire collection from a database. This method is useful when we want to delete a collection and all its documents permanently, and we do not need the data anymore.\n",
    "\n",
    "import pymongo\n",
    "\n",
    "# Connect to MongoDB\n",
    "client = pymongo.MongoClient(\"mongodb://localhost:27017/\")\n",
    "mydb = client[\"mydatabase\"]\n",
    "mycol = mydb[\"logs\"]\n",
    "\n",
    "# Delete the entire logs collection\n",
    "mycol.drop()\n",
    "\n",
    "\n",
    "\n",
    " \"\"\""
   ]
  }
 ],
 "metadata": {
  "kernelspec": {
   "display_name": "Python 3 (ipykernel)",
   "language": "python",
   "name": "python3"
  },
  "language_info": {
   "codemirror_mode": {
    "name": "ipython",
    "version": 3
   },
   "file_extension": ".py",
   "mimetype": "text/x-python",
   "name": "python",
   "nbconvert_exporter": "python",
   "pygments_lexer": "ipython3",
   "version": "3.10.8"
  }
 },
 "nbformat": 4,
 "nbformat_minor": 5
}
